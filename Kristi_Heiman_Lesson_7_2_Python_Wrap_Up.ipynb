{
  "cells": [
    {
      "cell_type": "markdown",
      "metadata": {
        "id": "view-in-github",
        "colab_type": "text"
      },
      "source": [
        "<a href=\"https://colab.research.google.com/github/habsgirl19/Hockey_East_Data_Tracking/blob/main/Kristi_Heiman_Lesson_7_2_Python_Wrap_Up.ipynb\" target=\"_parent\"><img src=\"https://colab.research.google.com/assets/colab-badge.svg\" alt=\"Open In Colab\"/></a>"
      ]
    },
    {
      "cell_type": "markdown",
      "metadata": {
        "id": "otnoToSCg2CB"
      },
      "source": [
        "### 0. Python and Jupyter"
      ]
    },
    {
      "cell_type": "markdown",
      "metadata": {
        "id": "AcQKQJcfg2CH"
      },
      "source": [
        "0.2 Delete the extra cells under this cell."
      ]
    },
    {
      "cell_type": "markdown",
      "metadata": {
        "id": "h4onMduNg2CG"
      },
      "source": [
        "0.1 Make a new cell under this one and add your name in it. Convert this cell to a markdown cell, and run the cell."
      ]
    },
    {
      "cell_type": "markdown",
      "metadata": {
        "id": "Jc5lFk_EhHPo"
      },
      "source": [
        "Kristi Heiman"
      ]
    },
    {
      "cell_type": "markdown",
      "metadata": {
        "id": "PBt2u49Qg2CJ"
      },
      "source": [
        "0.3 Comment out (don't delete code) the correct lines so that this cell only prints \"Only print this line!\"."
      ]
    },
    {
      "cell_type": "code",
      "execution_count": null,
      "metadata": {
        "colab": {
          "base_uri": "https://localhost:8080/"
        },
        "id": "_ze-SHOtg2CK",
        "outputId": "7d589da1-6afa-4e3c-fa4a-c7e7e842c0d6"
      },
      "outputs": [
        {
          "name": "stdout",
          "output_type": "stream",
          "text": [
            "Only print this line!\n"
          ]
        }
      ],
      "source": [
        "#print(\"Comment out this line!\")\n",
        "#print(\"Don't print this.\")\n",
        "#print(\"Don't print this ether.\")\n",
        "print('Only print this line!')"
      ]
    },
    {
      "cell_type": "markdown",
      "metadata": {
        "id": "SzBTbovFg2CM"
      },
      "source": [
        "0.4 Add line numbers to the cell with code in 0.3."
      ]
    },
    {
      "cell_type": "markdown",
      "metadata": {
        "id": "ilko4J6Fg2CM"
      },
      "source": [
        "### 1. Math"
      ]
    },
    {
      "cell_type": "markdown",
      "metadata": {
        "id": "1bcu7kipg2CN"
      },
      "source": [
        "1.1 Use python to add 123456 and 654321."
      ]
    },
    {
      "cell_type": "code",
      "execution_count": null,
      "metadata": {
        "colab": {
          "base_uri": "https://localhost:8080/"
        },
        "id": "pATvi_CKg2CO",
        "outputId": "64462b6d-fa11-4ddd-9469-6d95272efc17"
      },
      "outputs": [
        {
          "data": {
            "text/plain": [
              "777777"
            ]
          },
          "execution_count": 89,
          "metadata": {},
          "output_type": "execute_result"
        }
      ],
      "source": [
        "123456 + 654321"
      ]
    },
    {
      "cell_type": "markdown",
      "metadata": {
        "id": "1K1qIM5Hg2CO"
      },
      "source": [
        "1.2 Use python to calculate 2 to the 10th power."
      ]
    },
    {
      "cell_type": "code",
      "execution_count": null,
      "metadata": {
        "colab": {
          "base_uri": "https://localhost:8080/"
        },
        "id": "Q_SU1DiKg2CP",
        "outputId": "68d465a1-0d2d-4ecf-9d5e-d8bdd93a13f8"
      },
      "outputs": [
        {
          "data": {
            "text/plain": [
              "1024"
            ]
          },
          "execution_count": 90,
          "metadata": {},
          "output_type": "execute_result"
        }
      ],
      "source": [
        "2**10"
      ]
    },
    {
      "cell_type": "markdown",
      "metadata": {
        "id": "hRbHUjOUg2CP"
      },
      "source": [
        "### 2. Variables and types"
      ]
    },
    {
      "cell_type": "markdown",
      "metadata": {
        "id": "vt8gPG9Kg2CP"
      },
      "source": [
        "2.1 Create a variable `r` and assign the number 10 to it."
      ]
    },
    {
      "cell_type": "code",
      "execution_count": null,
      "metadata": {
        "id": "sdDeYF2Kg2CQ"
      },
      "outputs": [],
      "source": [
        "r = 10"
      ]
    },
    {
      "cell_type": "markdown",
      "metadata": {
        "id": "EMYQCdyjg2CQ"
      },
      "source": [
        "2.2 Use the formula for the area of a circle and your variable `r` to calculate the area of a 10 inch pizza. If you don't know the formula for the area of a circle, **<font color = 'blue'> Google </font>** it. You can use 3.14 for the value of pi."
      ]
    },
    {
      "cell_type": "code",
      "execution_count": null,
      "metadata": {
        "colab": {
          "base_uri": "https://localhost:8080/"
        },
        "id": "5sPqgeUig2CQ",
        "outputId": "f636b1ab-5d08-48d3-93df-670aacfcf3a5"
      },
      "outputs": [
        {
          "name": "stdout",
          "output_type": "stream",
          "text": [
            "Enter the radius of a circle:10\n",
            "Area of a circe = 314.00\n"
          ]
        }
      ],
      "source": [
        "#search formula to calculate the circumferece of a circle\n",
        "#pi = 3.14\n",
        "#r = float(input(\"Enter the radius of a circle:\"))\n",
        "#area - PI*r*r\n",
        "#print(\"Area of a circe = %.2f\"%area)\n",
        "\n",
        "PI = 3.14\n",
        "r = float(input(\"Enter the radius of a circle:\"))\n",
        "area = PI*r*r\n",
        "print(\"Area of a circe = %.2f\"%area)\n",
        "\n",
        "r = 10\n",
        "area = PI * 10 * 10\n"
      ]
    },
    {
      "cell_type": "markdown",
      "metadata": {
        "id": "Qf3QaKi1g2CR"
      },
      "source": [
        "2.3 copy your code from 2.2 and change the value of `r` to find the area of a 14 inch pizza."
      ]
    },
    {
      "cell_type": "code",
      "execution_count": null,
      "metadata": {
        "colab": {
          "base_uri": "https://localhost:8080/"
        },
        "id": "YW30WPDUg2CR",
        "outputId": "5138c030-31ae-4376-a398-5b2ddfb00de0"
      },
      "outputs": [
        {
          "name": "stdout",
          "output_type": "stream",
          "text": [
            "Enter the radius of a circle:14\n",
            "Area of a circe = 615.44\n"
          ]
        }
      ],
      "source": [
        "PI = 3.14\n",
        "r = float(input(\"Enter the radius of a circle:\"))\n",
        "area = PI*r*r\n",
        "print(\"Area of a circe = %.2f\"%area)\n",
        "\n",
        "r = 14\n",
        "area = PI*r*r\n"
      ]
    },
    {
      "cell_type": "markdown",
      "metadata": {
        "id": "SKYCVonug2CR"
      },
      "source": [
        "2.4 What is the type of the variable `x`?"
      ]
    },
    {
      "cell_type": "code",
      "execution_count": null,
      "metadata": {
        "colab": {
          "base_uri": "https://localhost:8080/"
        },
        "id": "ll_qz3DVg2CS",
        "outputId": "2eff85d3-ad6e-40b3-e9ec-a800c1edd69f"
      },
      "outputs": [
        {
          "name": "stdout",
          "output_type": "stream",
          "text": [
            "<class 'str'>\n"
          ]
        }
      ],
      "source": [
        "x = '3'\n",
        "print(type(x))"
      ]
    },
    {
      "cell_type": "markdown",
      "metadata": {
        "id": "_fE1NH1Ig2CS"
      },
      "source": [
        "2.5 Convert `x` into an int. "
      ]
    },
    {
      "cell_type": "code",
      "execution_count": null,
      "metadata": {
        "colab": {
          "base_uri": "https://localhost:8080/"
        },
        "id": "2zQ3lGS3g2CS",
        "outputId": "3647a015-d943-413e-954a-a7d7ccf9dfc5"
      },
      "outputs": [
        {
          "name": "stdout",
          "output_type": "stream",
          "text": [
            "<class 'str'>\n",
            "<class 'int'>\n"
          ]
        }
      ],
      "source": [
        "num = '3'\n",
        "\n",
        "#check and print the type num variable\n",
        "print(type(num))\n",
        "\n",
        "#convert the num into a string\n",
        "\n",
        "converted_num = int(num)\n",
        "print(type(converted_num))\n"
      ]
    },
    {
      "cell_type": "markdown",
      "metadata": {
        "id": "WzNNl8dig2CS"
      },
      "source": [
        "2.6 Print out the type of `x` to confirm that `x` in now an int."
      ]
    },
    {
      "cell_type": "code",
      "execution_count": null,
      "metadata": {
        "colab": {
          "base_uri": "https://localhost:8080/"
        },
        "id": "9y6txO8Eg2CT",
        "outputId": "d60354d3-8fd0-4587-ebaa-718594ff0250"
      },
      "outputs": [
        {
          "name": "stdout",
          "output_type": "stream",
          "text": [
            "<class 'int'>\n",
            "<class 'int'>\n",
            "23.5\n"
          ]
        }
      ],
      "source": [
        "#print type of converted _num\n",
        "#convert the num into a string\n",
        "\n",
        "converted_num = int(num)\n",
        "print(type(converted_num))\n",
        "\n",
        "print(type(converted_num))\n",
        "\n",
        "#check by doing a mathematical operation\n",
        "print(converted_num + 20.5)"
      ]
    },
    {
      "cell_type": "markdown",
      "metadata": {
        "id": "A7d7SyTjg2CT"
      },
      "source": [
        "Make a variable `y`, assign it a value of 6 and multiply `x` and `y`"
      ]
    },
    {
      "cell_type": "code",
      "execution_count": null,
      "metadata": {
        "colab": {
          "base_uri": "https://localhost:8080/",
          "height": 35
        },
        "id": "obXnJm38g2CT",
        "outputId": "6ec7e1a2-e4f6-4742-a22d-9ed48611b261"
      },
      "outputs": [
        {
          "data": {
            "application/vnd.google.colaboratory.intrinsic+json": {
              "type": "string"
            },
            "text/plain": [
              "'333333'"
            ]
          },
          "execution_count": 97,
          "metadata": {},
          "output_type": "execute_result"
        }
      ],
      "source": [
        "y = 6 \n",
        "y * x"
      ]
    },
    {
      "cell_type": "markdown",
      "metadata": {
        "id": "MatxN4EQg2CT"
      },
      "source": [
        "### 3. Strings"
      ]
    },
    {
      "cell_type": "markdown",
      "metadata": {
        "id": "gH9gsIsOg2CT"
      },
      "source": [
        "3.1 Create a variable called `name` and another variable called `favorite_pet` and fill them with the correct values for you. Print out both variables."
      ]
    },
    {
      "cell_type": "code",
      "execution_count": null,
      "metadata": {
        "colab": {
          "base_uri": "https://localhost:8080/"
        },
        "id": "01GBuRBhg2CU",
        "outputId": "28f0ed91-0e90-4b57-9c47-a212100be1ef"
      },
      "outputs": [
        {
          "name": "stdout",
          "output_type": "stream",
          "text": [
            "Kristi dog\n"
          ]
        }
      ],
      "source": [
        "name = 'Kristi'\n",
        "favorite_pet = 'dog'\n",
        "print(name, favorite_pet)"
      ]
    },
    {
      "cell_type": "markdown",
      "metadata": {
        "id": "TgMvxxsKg2CU"
      },
      "source": [
        "3.2 Use string formatting to print the phrase \"My name is _, and my favorite pet is _.\", with the blanks filled in with the variables you created in 3.1."
      ]
    },
    {
      "cell_type": "code",
      "execution_count": null,
      "metadata": {
        "colab": {
          "base_uri": "https://localhost:8080/"
        },
        "id": "JG5OAuWcg2CU",
        "outputId": "89dad3ea-998e-47df-b1c5-4d0ea33df995"
      },
      "outputs": [
        {
          "name": "stdout",
          "output_type": "stream",
          "text": [
            "My name is Kristi and my favorite pet is a dog.\n"
          ]
        }
      ],
      "source": [
        "name = \"Kristi\"\n",
        "favorite_pet = \"dog\"\n",
        "\n",
        "print(f\"My name is {name} and my favorite pet is a {favorite_pet}.\")"
      ]
    },
    {
      "cell_type": "markdown",
      "metadata": {
        "id": "dN1r9_OWg2CU"
      },
      "source": [
        "3.3 Use sting indexing to print out just the word \"fox\" from `phrase`. Dont include any spaces."
      ]
    },
    {
      "cell_type": "code",
      "execution_count": null,
      "metadata": {
        "colab": {
          "base_uri": "https://localhost:8080/"
        },
        "id": "3gtxJQcgg2CU",
        "outputId": "17b96054-859a-4949-c181-353962df2247"
      },
      "outputs": [
        {
          "name": "stdout",
          "output_type": "stream",
          "text": [
            "16\n"
          ]
        }
      ],
      "source": [
        "phrase = \"The quick brown fox jumps over the lazy dog\"\n",
        "print(phrase.find(\"fox\"))\n"
      ]
    },
    {
      "cell_type": "markdown",
      "metadata": {
        "id": "ARCYC11Tg2CV"
      },
      "source": [
        "3.4 How long is `phrase`?"
      ]
    },
    {
      "cell_type": "code",
      "execution_count": null,
      "metadata": {
        "colab": {
          "base_uri": "https://localhost:8080/"
        },
        "id": "GoiLETiWg2CV",
        "outputId": "5d739bb3-993b-4dab-de78-4cfeee4310e3"
      },
      "outputs": [
        {
          "data": {
            "text/plain": [
              "43"
            ]
          },
          "execution_count": 101,
          "metadata": {},
          "output_type": "execute_result"
        }
      ],
      "source": [
        "len(phrase)"
      ]
    },
    {
      "cell_type": "markdown",
      "metadata": {
        "id": "E3Qm3gS1g2CV"
      },
      "source": [
        "### 4. Lists"
      ]
    },
    {
      "cell_type": "markdown",
      "metadata": {
        "id": "usjHzNung2CW"
      },
      "source": [
        "4.1 Create a list called `evens` that has the numbers 2, 4, 6, and 8."
      ]
    },
    {
      "cell_type": "code",
      "execution_count": null,
      "metadata": {
        "colab": {
          "base_uri": "https://localhost:8080/"
        },
        "id": "TuCdjGLsg2CW",
        "outputId": "28f69c9e-4670-4174-a7cf-b28afe811994"
      },
      "outputs": [
        {
          "name": "stdout",
          "output_type": "stream",
          "text": [
            "[2, 4, 6, 8]\n"
          ]
        }
      ],
      "source": [
        "evens = [2, 4, 6, 8]\n",
        "print(evens)"
      ]
    },
    {
      "cell_type": "markdown",
      "metadata": {
        "id": "xwku1CT9g2CW"
      },
      "source": [
        "4.2 Add the number 10 to your list using the append function."
      ]
    },
    {
      "cell_type": "code",
      "execution_count": null,
      "metadata": {
        "colab": {
          "base_uri": "https://localhost:8080/"
        },
        "id": "vKbREKu7wjlH",
        "outputId": "8403916f-2b6f-4ca2-dd0d-4c8b81bbc925"
      },
      "outputs": [
        {
          "name": "stdout",
          "output_type": "stream",
          "text": [
            "[2, 4, 6, 8, 10]\n"
          ]
        }
      ],
      "source": [
        "evens.append(10)\n",
        "print(evens)"
      ]
    },
    {
      "cell_type": "markdown",
      "metadata": {
        "id": "Iesy_tV1g2CX"
      },
      "source": [
        "4.3 Use indexing to print the second to last number in your list (it should be 8)."
      ]
    },
    {
      "cell_type": "code",
      "execution_count": null,
      "metadata": {
        "colab": {
          "base_uri": "https://localhost:8080/"
        },
        "id": "B0MR53Jhg2CX",
        "outputId": "bf19029c-2c93-4604-d8cc-31722144448c"
      },
      "outputs": [
        {
          "data": {
            "text/plain": [
              "8"
            ]
          },
          "execution_count": 104,
          "metadata": {},
          "output_type": "execute_result"
        }
      ],
      "source": [
        "evens[-2]"
      ]
    },
    {
      "cell_type": "markdown",
      "metadata": {
        "id": "UB08vNggg2CX"
      },
      "source": [
        "4.4 How long is your list?"
      ]
    },
    {
      "cell_type": "code",
      "execution_count": null,
      "metadata": {
        "colab": {
          "base_uri": "https://localhost:8080/"
        },
        "id": "Vj0AQk5fg2CX",
        "outputId": "c501ab58-3d29-47a0-85ea-ce52853d427b"
      },
      "outputs": [
        {
          "data": {
            "text/plain": [
              "5"
            ]
          },
          "execution_count": 105,
          "metadata": {},
          "output_type": "execute_result"
        }
      ],
      "source": [
        "len(evens)"
      ]
    },
    {
      "cell_type": "markdown",
      "metadata": {
        "id": "HSU2Fix5g2CX"
      },
      "source": [
        "Delete the number 6 from your list. Print the length to confirm the list is now one shorter than it was previously"
      ]
    },
    {
      "cell_type": "code",
      "execution_count": null,
      "metadata": {
        "colab": {
          "base_uri": "https://localhost:8080/"
        },
        "id": "rKxJwAZOg2CY",
        "outputId": "36037e61-bc3b-4a87-886b-5ac12364d2a1"
      },
      "outputs": [
        {
          "name": "stdout",
          "output_type": "stream",
          "text": [
            "[2, 4, 8, 10]\n"
          ]
        }
      ],
      "source": [
        "evens.remove(6)\n",
        "print(evens)"
      ]
    },
    {
      "cell_type": "markdown",
      "metadata": {
        "id": "PqW6gSN1g2CY"
      },
      "source": [
        "### 5. Numpy"
      ]
    },
    {
      "cell_type": "markdown",
      "metadata": {
        "id": "l-15tgd1g2CY"
      },
      "source": [
        "5.1 Import the library `numpy` with the alias `np`. "
      ]
    },
    {
      "cell_type": "code",
      "execution_count": null,
      "metadata": {
        "id": "mwjWjVhQg2CY"
      },
      "outputs": [],
      "source": [
        "import numpy as np"
      ]
    },
    {
      "cell_type": "markdown",
      "metadata": {
        "id": "V8kN1Rlvg2CY"
      },
      "source": [
        "5.2 Use numpy to find the minimum, maximum, and mean of `evens`."
      ]
    },
    {
      "cell_type": "code",
      "execution_count": null,
      "metadata": {
        "colab": {
          "base_uri": "https://localhost:8080/"
        },
        "id": "WoXBjWXfg2CZ",
        "outputId": "9387a97e-c4b7-465f-c5c7-f4c1eace774b"
      },
      "outputs": [
        {
          "name": "stdout",
          "output_type": "stream",
          "text": [
            "2\n"
          ]
        }
      ],
      "source": [
        "print(min(evens))\n"
      ]
    },
    {
      "cell_type": "code",
      "execution_count": null,
      "metadata": {
        "colab": {
          "base_uri": "https://localhost:8080/"
        },
        "id": "i3JTHSS7g2CZ",
        "outputId": "6b562b55-ed81-4c37-da05-fafa5bfe7ff9"
      },
      "outputs": [
        {
          "name": "stdout",
          "output_type": "stream",
          "text": [
            "10\n"
          ]
        }
      ],
      "source": [
        "print(max(evens))"
      ]
    },
    {
      "cell_type": "code",
      "execution_count": null,
      "metadata": {
        "colab": {
          "base_uri": "https://localhost:8080/"
        },
        "id": "Mc1AXDePg2CZ",
        "outputId": "2f3a424c-8745-4862-8a3a-84edb9396585"
      },
      "outputs": [
        {
          "name": "stdout",
          "output_type": "stream",
          "text": [
            "6.0\n"
          ]
        }
      ],
      "source": [
        "print(np.mean(evens))"
      ]
    },
    {
      "cell_type": "markdown",
      "metadata": {
        "id": "RhDC-jUpg2CZ"
      },
      "source": [
        "5.3 Use numpy to print a more accurate estimate of pi. (**<font color = 'blue'> Google </font>** \"numpy pi\" if you get stuck, and check out the 2nd or 3rd link!)"
      ]
    },
    {
      "cell_type": "code",
      "execution_count": null,
      "metadata": {
        "colab": {
          "base_uri": "https://localhost:8080/"
        },
        "id": "R9P2OqEDg2CZ",
        "outputId": "a96e146a-5d22-48cd-c85b-cdedfdca415a"
      },
      "outputs": [
        {
          "name": "stdout",
          "output_type": "stream",
          "text": [
            "3.141592653589793\n"
          ]
        }
      ],
      "source": [
        "import numpy as np\n",
        "\n",
        "pi_value = np.pi\n",
        "print(pi_value)\n"
      ]
    },
    {
      "cell_type": "markdown",
      "metadata": {
        "id": "GYOMTLCkg2CZ"
      },
      "source": [
        "5.4 Use numpy to find the sqare root of 2."
      ]
    },
    {
      "cell_type": "code",
      "execution_count": null,
      "metadata": {
        "colab": {
          "base_uri": "https://localhost:8080/"
        },
        "id": "tH6ivEwD6eaQ",
        "outputId": "5030beea-12f0-4edc-dfdb-78e4a1eae19d"
      },
      "outputs": [
        {
          "name": "stdout",
          "output_type": "stream",
          "text": [
            "1.4142135623730951\n"
          ]
        }
      ],
      "source": [
        "arr = np.sqrt(2)\n",
        "print(arr)"
      ]
    },
    {
      "cell_type": "markdown",
      "metadata": {
        "id": "iF8DCmq3g2CZ"
      },
      "source": [
        "### 6. Loops"
      ]
    },
    {
      "cell_type": "markdown",
      "metadata": {
        "id": "F2IAnqwsg2Ca"
      },
      "source": [
        "6.1 use a for loop and `evens` to print:  \n",
        "2 is even  \n",
        "4 is even  \n",
        "6 is even  \n",
        "8 is even  \n",
        "10 is even  "
      ]
    },
    {
      "cell_type": "code",
      "execution_count": null,
      "metadata": {
        "colab": {
          "base_uri": "https://localhost:8080/"
        },
        "id": "FieEo8mVE_Lp",
        "outputId": "9c544bca-19e4-4c63-bc6e-2508b3665659"
      },
      "outputs": [
        {
          "name": "stdout",
          "output_type": "stream",
          "text": [
            "2 is even\n",
            "4 is even\n",
            "6 is even\n",
            "8 is even\n",
            "10 is even\n"
          ]
        }
      ],
      "source": [
        "evens = [2, 4, 6, 8, 10]\n",
        "\n",
        "for num in evens:\n",
        "  if num % 2 ==0:\n",
        "   print(num, \"is even\")\n",
        "\n",
        "\n",
        "  \n"
      ]
    },
    {
      "cell_type": "markdown",
      "metadata": {
        "id": "SbvpPx9Eg2Ca"
      },
      "source": [
        "6.2 Modify this loop so that it prints out the first 20 perfect squares (1, 4, 9, ... 400)."
      ]
    },
    {
      "cell_type": "code",
      "execution_count": null,
      "metadata": {
        "colab": {
          "base_uri": "https://localhost:8080/"
        },
        "id": "BcY10pFIg2Ca",
        "outputId": "63929fc0-57f6-4e0b-a156-abfe7c2f92c2"
      },
      "outputs": [
        {
          "name": "stdout",
          "output_type": "stream",
          "text": [
            "1 \t 1\n",
            "2 \t 4\n",
            "3 \t 9\n",
            "4 \t 16\n",
            "5 \t 25\n",
            "6 \t 36\n",
            "7 \t 49\n",
            "8 \t 64\n",
            "9 \t 81\n",
            "10 \t 100\n",
            "11 \t 121\n",
            "12 \t 144\n",
            "13 \t 169\n",
            "14 \t 196\n",
            "15 \t 225\n",
            "16 \t 256\n",
            "17 \t 289\n",
            "18 \t 324\n",
            "19 \t 361\n",
            "20 \t 400\n"
          ]
        }
      ],
      "source": [
        "for iNumber in range(1,21):\n",
        "    print(iNumber, '\\t', iNumber **2)"
      ]
    },
    {
      "cell_type": "markdown",
      "metadata": {
        "id": "tg-xiWlvg2Cb"
      },
      "source": [
        "### 7. if/else and booleans"
      ]
    },
    {
      "cell_type": "markdown",
      "metadata": {
        "id": "e3XHT5pUg2Cb"
      },
      "source": [
        "7.1 In one or two sentences explain what you think this code is doing."
      ]
    },
    {
      "cell_type": "code",
      "execution_count": null,
      "metadata": {
        "colab": {
          "base_uri": "https://localhost:8080/"
        },
        "id": "1tlmQIWWg2Cb",
        "outputId": "af90aeed-9821-48d5-b029-52dccbb9fb6a"
      },
      "outputs": [
        {
          "data": {
            "text/plain": [
              "True"
            ]
          },
          "execution_count": 115,
          "metadata": {},
          "output_type": "execute_result"
        }
      ],
      "source": [
        "letter = \"w\"\n",
        "letter in \"word\"\n"
      ]
    },
    {
      "cell_type": "markdown",
      "metadata": {
        "id": "UkBg1ra6QlJ_"
      },
      "source": [
        "The code in Question 7.1 implements a boolean (or logical expression) to evaluate whether or not the variable \"letter\" which stores the letter \"w\". After running the code, in this case a function, the code is excuted to return an answer of a boolean function. Here, it is true that \"w\" is in word."
      ]
    },
    {
      "cell_type": "markdown",
      "metadata": {
        "id": "6lqKXKfeg2Cb"
      },
      "source": [
        "7.2 What would the code from 7.1 print if you change line one to  \n",
        "`letter = \"u\"`?"
      ]
    },
    {
      "cell_type": "code",
      "execution_count": null,
      "metadata": {
        "colab": {
          "base_uri": "https://localhost:8080/"
        },
        "id": "Q0P73kFSSyP9",
        "outputId": "a87c38a6-0ab7-4699-eca1-fd629c263e01"
      },
      "outputs": [
        {
          "data": {
            "text/plain": [
              "False"
            ]
          },
          "execution_count": 116,
          "metadata": {},
          "output_type": "execute_result"
        }
      ],
      "source": [
        "letter = \"u\"\n",
        "letter in \"word\""
      ]
    },
    {
      "cell_type": "markdown",
      "metadata": {
        "id": "UK-npogig2Cb"
      },
      "source": [
        "7.3 make a variable `number` and set it equal to 6. Write an if-else statement that compares `number` to ten and ether prints \"The number is smaller than 10.\" or \"The number is grater than or equal to 10.\" Change the value of `number` to 12 and rerun your code to make sure the statment is working. (Bonus: make the statment print \"The number is 10.\" when the number is equal to 10)"
      ]
    },
    {
      "cell_type": "code",
      "execution_count": null,
      "metadata": {
        "colab": {
          "base_uri": "https://localhost:8080/"
        },
        "id": "4M76Iax9e1CH",
        "outputId": "b948ce67-12a2-48a6-bb75-3c1334e9c53f"
      },
      "outputs": [
        {
          "name": "stdout",
          "output_type": "stream",
          "text": [
            "The number is 10.\n"
          ]
        }
      ],
      "source": [
        "number = 10\n",
        "\n",
        "if number < 10:\n",
        "  print(\"The number is smaller than 10.\")\n",
        "elif number == 10:\n",
        "  print(\"The number is 10.\")\n",
        "else:\n",
        "  print(\"The number is greater or equal to 10.\")\n"
      ]
    },
    {
      "cell_type": "code",
      "execution_count": null,
      "metadata": {
        "colab": {
          "base_uri": "https://localhost:8080/"
        },
        "id": "UFWj_Menjo8c",
        "outputId": "8e04bd1a-8bec-4b46-b7b9-7b2ab61bb050"
      },
      "outputs": [
        {
          "name": "stdout",
          "output_type": "stream",
          "text": [
            "The number is greater or equal to 10.\n"
          ]
        }
      ],
      "source": [
        "number = 15\n",
        "\n",
        "if number < 10:\n",
        "  print(\"The number is smaller than 10.\")\n",
        "elif number == 10:\n",
        "  print(\"The number is 10.\")\n",
        "else:\n",
        "  print(\"The number is greater or equal to 10.\")\n"
      ]
    },
    {
      "cell_type": "code",
      "execution_count": null,
      "metadata": {
        "colab": {
          "base_uri": "https://localhost:8080/"
        },
        "id": "VCWtOBPelo5Q",
        "outputId": "195d7be4-4a3a-4d11-d0ce-49a989cae3bd"
      },
      "outputs": [
        {
          "name": "stdout",
          "output_type": "stream",
          "text": [
            "The number is smaller than 10.\n"
          ]
        }
      ],
      "source": [
        "number = -25\n",
        "\n",
        "if number < 10:\n",
        "  print(\"The number is smaller than 10.\")\n",
        "elif number == 10:\n",
        "  print(\"The number is 10.\")\n",
        "else:\n",
        "  print(\"The number is greater or equal to 10.\")\n"
      ]
    },
    {
      "cell_type": "markdown",
      "metadata": {
        "id": "hLqCZElyg2Cc"
      },
      "source": [
        "7.4 Build an if statment that checks if a number is even (hint: **<font color = 'blue'> Google </font>** is your friend, and you may need the % sign), check that your code works on 1, 2, 3, and 10"
      ]
    },
    {
      "cell_type": "code",
      "execution_count": null,
      "metadata": {
        "colab": {
          "base_uri": "https://localhost:8080/"
        },
        "id": "3G-0Ffk51IET",
        "outputId": "4124098d-1dc2-4927-cbb5-44bb81bf7212"
      },
      "outputs": [
        {
          "name": "stdout",
          "output_type": "stream",
          "text": [
            "3466 is even.\n"
          ]
        }
      ],
      "source": [
        "x = 3466\n",
        "\n",
        "if (x % 2)==0:\n",
        "  print(x, \"is even.\")\n",
        "if (x % 2)!=0:\n",
        "    print(x, \"is odd.\")"
      ]
    },
    {
      "cell_type": "code",
      "execution_count": null,
      "metadata": {
        "colab": {
          "base_uri": "https://localhost:8080/"
        },
        "id": "4w1MIFGDg2Cc",
        "outputId": "a3fe1b2f-6af1-4c5f-9632-20e34da4dc1c"
      },
      "outputs": [
        {
          "name": "stdout",
          "output_type": "stream",
          "text": [
            "1 is not even\n"
          ]
        }
      ],
      "source": [
        "x = 1\n",
        "if (x % 2)!=0:\n",
        "  print(x, 'is not even')\n",
        "if (x % 2)==0:\n",
        "  print(x, 'is even.')"
      ]
    },
    {
      "cell_type": "markdown",
      "metadata": {
        "id": "zr3mAnkjg2Cc"
      },
      "source": [
        "7.5 Use a `for` loop and an `if` statment to print:  \n",
        "\n",
        "1 is odd.  \n",
        "2 is even.  \n",
        "3 is odd.  \n",
        "4 is even.  \n",
        "5 is odd.  \n",
        "6 is even.  \n",
        "7 is odd.  \n",
        "8 is even.  \n",
        "9 is odd.  \n",
        "10 is even.  \n",
        "11 is odd.  \n",
        "12 is even.  \n",
        "13 is odd.  \n",
        "14 is even.  \n",
        "15 is odd.  "
      ]
    },
    {
      "cell_type": "code",
      "execution_count": null,
      "metadata": {
        "colab": {
          "base_uri": "https://localhost:8080/"
        },
        "id": "GQNpi3Nxyi7m",
        "outputId": "d2132b20-2f25-401e-be61-df1ebf5fe7a1"
      },
      "outputs": [
        {
          "name": "stdout",
          "output_type": "stream",
          "text": [
            "0 is even.\n",
            "1 is odd.\n",
            "2 is even.\n",
            "3 is odd.\n",
            "4 is even.\n",
            "5 is odd.\n",
            "6 is even.\n",
            "7 is odd.\n",
            "8 is even.\n",
            "9 is odd.\n",
            "10 is even.\n",
            "11 is odd.\n",
            "12 is even.\n",
            "13 is odd.\n",
            "14 is even.\n",
            "15 is odd.\n"
          ]
        }
      ],
      "source": [
        "for x in range(16):\n",
        "  if (x % 2)==0:\n",
        "    print(x, \"is even.\")\n",
        "  if (x % 2)!=0:\n",
        "    print(x, \"is odd.\")"
      ]
    },
    {
      "cell_type": "markdown",
      "metadata": {
        "id": "KkZ-Psndg2Cc"
      },
      "source": [
        "### 8. Custom Functions\n",
        "\n",
        "8.1 Write a python function called `encouragement` that returns a custom message to a list of students. The message should be \"Keep going, {name}! You're doing great learning Python!\""
      ]
    },
    {
      "cell_type": "code",
      "execution_count": null,
      "metadata": {
        "id": "EVDbAG1cg2Cd"
      },
      "outputs": [],
      "source": [
        "def encouragement(name):\n",
        "  for x in name:\n",
        "   print(\"Keep going\", x + '!' + ' ' \"You're doing great learning Python!\")\n",
        "   \n",
        " "
      ]
    },
    {
      "cell_type": "markdown",
      "metadata": {
        "id": "aCZdvb7jg2Cd"
      },
      "source": [
        "8.2 Print out `encouragement` for each of the names in the list below"
      ]
    },
    {
      "cell_type": "code",
      "execution_count": null,
      "metadata": {
        "colab": {
          "base_uri": "https://localhost:8080/"
        },
        "id": "5cJ2NrNzg2Cd",
        "outputId": "41a09eec-4b4e-4e2d-d465-2ea6d2821f7c"
      },
      "outputs": [
        {
          "name": "stdout",
          "output_type": "stream",
          "text": [
            "Keep going Allison! You're doing great learning Python!\n",
            "Keep going Riley! You're doing great learning Python!\n",
            "Keep going Sarah! You're doing great learning Python!\n",
            "Keep going Davide! You're doing great learning Python!\n",
            "Keep going Lane! You're doing great learning Python!\n",
            "Keep going Kahri! You're doing great learning Python!\n",
            "Keep going Ian! You're doing great learning Python!\n"
          ]
        }
      ],
      "source": [
        "student_names = ['Allison', 'Riley', 'Sarah', 'Davide', 'Lane', 'Kahri', 'Ian']\n",
        "encouragement(student_names)"
      ]
    },
    {
      "cell_type": "markdown",
      "metadata": {
        "id": "UcKAV9k2g2Cd"
      },
      "source": [
        "8.3 Some of the students have expressed more interest in learning R than Python. Adjust your function to print \"Keep going, {name}! You're doing great learning {language}!\" based on the language the student prefers to learn, found below."
      ]
    },
    {
      "cell_type": "code",
      "execution_count": null,
      "metadata": {
        "colab": {
          "base_uri": "https://localhost:8080/"
        },
        "id": "56_M1sI2g2Cd",
        "outputId": "2e47ad99-b480-4ce4-e630-e24468402a6d"
      },
      "outputs": [
        {
          "name": "stdout",
          "output_type": "stream",
          "text": [
            "Keep going Allison! You're doing great learning R!\n",
            "Keep going Riley! You're doing great learning R!\n",
            "Keep going Davide! You're doing great learning R!\n",
            "Keep going Kahri! You're doing great learning R!\n"
          ]
        }
      ],
      "source": [
        "prefer_r = ['Allison', 'Riley', 'Davide', 'Kahri']\n",
        "prefer_python = ['Sarah', 'Lane', 'Ian']\n",
        "\n",
        "def encouragement(name):\n",
        "  for x in name:\n",
        "   print(\"Keep going\", x + '!' + ' ' \"You're doing great learning R!\")\n",
        "\n",
        "encouragement(prefer_r)\n",
        "   \n",
        " "
      ]
    },
    {
      "cell_type": "code",
      "execution_count": null,
      "metadata": {
        "colab": {
          "base_uri": "https://localhost:8080/"
        },
        "id": "-TtNAoaooY90",
        "outputId": "fcb44f3d-ac2a-4759-8978-3fcde2c3c9ed"
      },
      "outputs": [
        {
          "name": "stdout",
          "output_type": "stream",
          "text": [
            "Keep going Sarah! You're doing great learning Python!\n",
            "Keep going Lane! You're doing great learning Python!\n",
            "Keep going Ian! You're doing great learning Python!\n"
          ]
        }
      ],
      "source": [
        "prefer_python = ['Sarah', 'Lane', 'Ian']\n",
        "\n",
        "\n",
        "def encouragement(name):\n",
        "  for x in name:\n",
        "   print(\"Keep going\", x + '!' + ' ' \"You're doing great learning Python!\")\n",
        "  \n",
        "\n",
        "encouragement(prefer_python)"
      ]
    },
    {
      "cell_type": "markdown",
      "metadata": {
        "id": "T_dwPh5ug2Ce"
      },
      "source": [
        "### 9. Data Structure\n",
        "\n",
        "9.1 Create a variable called `my_list` that stores the values 1, 2, 3, 4"
      ]
    },
    {
      "cell_type": "code",
      "execution_count": null,
      "metadata": {
        "colab": {
          "base_uri": "https://localhost:8080/"
        },
        "id": "2Lg3J7xMg2Ce",
        "outputId": "96332d56-c5eb-4210-ab59-4769655b0f44"
      },
      "outputs": [
        {
          "name": "stdout",
          "output_type": "stream",
          "text": [
            "[1, 2, 3, 4]\n"
          ]
        }
      ],
      "source": [
        "my_list = [1, 2, 3, 4]\n",
        "print(my_list)"
      ]
    },
    {
      "cell_type": "markdown",
      "metadata": {
        "id": "5l02p3Tfg2Ce"
      },
      "source": [
        "9.2 Add the values 6 and 7 to `my_list`"
      ]
    },
    {
      "cell_type": "code",
      "execution_count": null,
      "metadata": {
        "colab": {
          "base_uri": "https://localhost:8080/"
        },
        "id": "vtDRHtoCS5Vr",
        "outputId": "693c4524-4ba2-44b3-90ec-adf67905f6cb"
      },
      "outputs": [
        {
          "data": {
            "text/plain": [
              "[1, 2, 3, 4, 6]"
            ]
          },
          "execution_count": 128,
          "metadata": {},
          "output_type": "execute_result"
        }
      ],
      "source": [
        "my_list.append(6)\n",
        "my_list"
      ]
    },
    {
      "cell_type": "code",
      "execution_count": null,
      "metadata": {
        "colab": {
          "base_uri": "https://localhost:8080/"
        },
        "id": "fPN9X-OHg2Cf",
        "outputId": "6147e751-5489-4f57-fc2e-a4e655c5a130"
      },
      "outputs": [
        {
          "data": {
            "text/plain": [
              "[1, 2, 3, 4, 6, 7]"
            ]
          },
          "execution_count": 129,
          "metadata": {},
          "output_type": "execute_result"
        }
      ],
      "source": [
        "my_list.append(7)\n",
        "my_list"
      ]
    },
    {
      "cell_type": "markdown",
      "metadata": {
        "id": "YmOeQfUSGEgh"
      },
      "source": [
        "9.3\n",
        "Add the values 8 and 9 to my_list"
      ]
    },
    {
      "cell_type": "code",
      "execution_count": null,
      "metadata": {
        "colab": {
          "base_uri": "https://localhost:8080/"
        },
        "id": "Agmg6HYmT-i8",
        "outputId": "3577bc88-fdaa-4ca9-d62d-07d1d71306c3"
      },
      "outputs": [
        {
          "data": {
            "text/plain": [
              "[1, 2, 3, 4, 6, 7, 8]"
            ]
          },
          "execution_count": 130,
          "metadata": {},
          "output_type": "execute_result"
        }
      ],
      "source": [
        "my_list.append(8)\n",
        "my_list"
      ]
    },
    {
      "cell_type": "code",
      "execution_count": null,
      "metadata": {
        "colab": {
          "base_uri": "https://localhost:8080/"
        },
        "id": "Myy9GrbQg2Cf",
        "outputId": "59854f17-46b2-4f73-9461-4b0b517ee2d5"
      },
      "outputs": [
        {
          "data": {
            "text/plain": [
              "[1, 2, 3, 4, 6, 7, 8, 9]"
            ]
          },
          "execution_count": 131,
          "metadata": {},
          "output_type": "execute_result"
        }
      ],
      "source": [
        "my_list.append(9)\n",
        "my_list"
      ]
    },
    {
      "cell_type": "markdown",
      "metadata": {
        "id": "v1lbMh9HLDsX"
      },
      "source": [
        "9.4 Remove the value [8, 9] from my_list and add the value 5 in between the value of 4 and 6"
      ]
    },
    {
      "cell_type": "code",
      "execution_count": null,
      "metadata": {
        "colab": {
          "base_uri": "https://localhost:8080/"
        },
        "id": "gKYpZE-xHni6",
        "outputId": "ba703ac9-a7f1-41a4-c145-7b103d3e1191"
      },
      "outputs": [
        {
          "data": {
            "text/plain": [
              "[1, 2, 3, 4, 6, 7, 8]"
            ]
          },
          "execution_count": 132,
          "metadata": {},
          "output_type": "execute_result"
        }
      ],
      "source": [
        "my_list.remove(9)\n",
        "my_list"
      ]
    },
    {
      "cell_type": "code",
      "execution_count": null,
      "metadata": {
        "colab": {
          "base_uri": "https://localhost:8080/"
        },
        "id": "X6gfzHnkGnJR",
        "outputId": "8f9ebbd1-996d-4ec6-f840-d567d16d331b"
      },
      "outputs": [
        {
          "data": {
            "text/plain": [
              "[1, 2, 3, 4, 6, 7]"
            ]
          },
          "execution_count": 133,
          "metadata": {},
          "output_type": "execute_result"
        }
      ],
      "source": [
        "my_list.remove(8)\n",
        "my_list"
      ]
    },
    {
      "cell_type": "markdown",
      "metadata": {
        "id": "3mEPqnwwg2Cf"
      },
      "source": [
        "9.5 Make and print a dictionary called `my_dictionry` that has the following structure:\n",
        "\n",
        "A: Avocado \n",
        "\n",
        "B: Banana\n",
        "\n",
        "C: Cheese\n",
        "\n",
        "D: Dolla', dolla' bills y'all"
      ]
    },
    {
      "cell_type": "code",
      "execution_count": null,
      "metadata": {
        "colab": {
          "base_uri": "https://localhost:8080/"
        },
        "id": "1Cyk6cizg2Cg",
        "outputId": "37148078-bc55-47a2-9e43-79200f241a34"
      },
      "outputs": [
        {
          "name": "stdout",
          "output_type": "stream",
          "text": [
            "{'A': 'Avocado', 'B': 'Banana', 'C': 'Cheese', 'D': \"Dolla',dolla' bills y'all\"}\n"
          ]
        }
      ],
      "source": [
        "my_dictionary = {\"A\": \"Avocado\", \"B\": \"Banana\", \"C\": \"Cheese\", \"D\": \"Dolla',dolla' bills y'all\"}\n",
        "print(my_dictionary)"
      ]
    },
    {
      "cell_type": "markdown",
      "metadata": {
        "id": "lQ034o9Dg2Cg"
      },
      "source": [
        "9.6 Return the third element of `my_dictionary`"
      ]
    },
    {
      "cell_type": "code",
      "execution_count": null,
      "metadata": {
        "colab": {
          "base_uri": "https://localhost:8080/"
        },
        "id": "8L6OvVQ3g2Cg",
        "outputId": "6923a870-fcf4-4d5f-d3be-06fe80675533"
      },
      "outputs": [
        {
          "name": "stdout",
          "output_type": "stream",
          "text": [
            "Cheese\n"
          ]
        }
      ],
      "source": [
        "print(my_dictionary.get('C'))"
      ]
    },
    {
      "cell_type": "markdown",
      "metadata": {
        "id": "f-LGnczRg2Cg"
      },
      "source": [
        "9.7 What is a tuple?"
      ]
    },
    {
      "cell_type": "markdown",
      "metadata": {
        "id": "KaH-JNuYKRi7"
      },
      "source": [
        "A tuple is used to store multiple items in a single variable. It is one of 4 built-in data types in python used to store collections of data; tuples are ordered and unchangeable unlike other objects such as lists and dictionaries. Provided is an example of a tuple:\n"
      ]
    },
    {
      "cell_type": "code",
      "execution_count": null,
      "metadata": {
        "colab": {
          "base_uri": "https://localhost:8080/"
        },
        "id": "pxP0Lt4TrB9C",
        "outputId": "9c9f9440-f305-42bf-d271-c3c5f15e62d0"
      },
      "outputs": [
        {
          "name": "stdout",
          "output_type": "stream",
          "text": [
            "('Boston College', 'Boston University', 'UVM')\n"
          ]
        }
      ],
      "source": [
        "tuple = (\"Boston College\", \"Boston University\", \"UVM\")\n",
        "print(tuple)"
      ]
    },
    {
      "cell_type": "markdown",
      "metadata": {
        "id": "MyH_U9u8rBna"
      },
      "source": []
    },
    {
      "cell_type": "markdown",
      "metadata": {
        "id": "v82pCFtLg2Cg"
      },
      "source": [
        "9.8 What are the values of the set {1, 2, 3, 4, 4, 5, 6, 7, 7, 8}"
      ]
    },
    {
      "cell_type": "code",
      "execution_count": null,
      "metadata": {
        "colab": {
          "base_uri": "https://localhost:8080/"
        },
        "id": "Kn4WFP6Cg2Ch",
        "outputId": "fb12327c-037e-4923-fc6b-91500209306e"
      },
      "outputs": [
        {
          "name": "stdout",
          "output_type": "stream",
          "text": [
            "{1, 2, 3, 4, 5, 6, 7, 8}\n"
          ]
        }
      ],
      "source": [
        "set  = {1, 2, 3, 4, 4, 5, 6, 7, 7, 8}\n",
        "\n",
        "print(set)\n",
        "\n",
        "      "
      ]
    },
    {
      "cell_type": "markdown",
      "metadata": {
        "id": "4eAwJ6Ycg2Ch"
      },
      "source": [
        "### 10. Loading Data\n",
        "\n",
        "10.1 Load pandas and alias it as pd"
      ]
    },
    {
      "cell_type": "code",
      "execution_count": null,
      "metadata": {
        "id": "O9c3TMUwg2Ch"
      },
      "outputs": [],
      "source": [
        "import pandas as pd"
      ]
    },
    {
      "cell_type": "markdown",
      "metadata": {
        "id": "QGKVtl9sg2Ch"
      },
      "source": [
        "10.2 Load the `IMDB_Top_250` dataset as `imdb`"
      ]
    },
    {
      "cell_type": "code",
      "execution_count": null,
      "metadata": {
        "colab": {
          "background_save": true,
          "base_uri": "https://localhost:8080/",
          "height": 73
        },
        "id": "kCwpStbfg2Ch",
        "outputId": "de41a98d-4ec9-4f2d-b5f9-dac2fff4bd6c"
      },
      "outputs": [
        {
          "data": {
            "text/html": [
              "\n",
              "     <input type=\"file\" id=\"files-b816b8fe-1082-43f6-8200-13c014770f10\" name=\"files[]\" multiple disabled\n",
              "        style=\"border:none\" />\n",
              "     <output id=\"result-b816b8fe-1082-43f6-8200-13c014770f10\">\n",
              "      Upload widget is only available when the cell has been executed in the\n",
              "      current browser session. Please rerun this cell to enable.\n",
              "      </output>\n",
              "      <script>// Copyright 2017 Google LLC\n",
              "//\n",
              "// Licensed under the Apache License, Version 2.0 (the \"License\");\n",
              "// you may not use this file except in compliance with the License.\n",
              "// You may obtain a copy of the License at\n",
              "//\n",
              "//      http://www.apache.org/licenses/LICENSE-2.0\n",
              "//\n",
              "// Unless required by applicable law or agreed to in writing, software\n",
              "// distributed under the License is distributed on an \"AS IS\" BASIS,\n",
              "// WITHOUT WARRANTIES OR CONDITIONS OF ANY KIND, either express or implied.\n",
              "// See the License for the specific language governing permissions and\n",
              "// limitations under the License.\n",
              "\n",
              "/**\n",
              " * @fileoverview Helpers for google.colab Python module.\n",
              " */\n",
              "(function(scope) {\n",
              "function span(text, styleAttributes = {}) {\n",
              "  const element = document.createElement('span');\n",
              "  element.textContent = text;\n",
              "  for (const key of Object.keys(styleAttributes)) {\n",
              "    element.style[key] = styleAttributes[key];\n",
              "  }\n",
              "  return element;\n",
              "}\n",
              "\n",
              "// Max number of bytes which will be uploaded at a time.\n",
              "const MAX_PAYLOAD_SIZE = 100 * 1024;\n",
              "\n",
              "function _uploadFiles(inputId, outputId) {\n",
              "  const steps = uploadFilesStep(inputId, outputId);\n",
              "  const outputElement = document.getElementById(outputId);\n",
              "  // Cache steps on the outputElement to make it available for the next call\n",
              "  // to uploadFilesContinue from Python.\n",
              "  outputElement.steps = steps;\n",
              "\n",
              "  return _uploadFilesContinue(outputId);\n",
              "}\n",
              "\n",
              "// This is roughly an async generator (not supported in the browser yet),\n",
              "// where there are multiple asynchronous steps and the Python side is going\n",
              "// to poll for completion of each step.\n",
              "// This uses a Promise to block the python side on completion of each step,\n",
              "// then passes the result of the previous step as the input to the next step.\n",
              "function _uploadFilesContinue(outputId) {\n",
              "  const outputElement = document.getElementById(outputId);\n",
              "  const steps = outputElement.steps;\n",
              "\n",
              "  const next = steps.next(outputElement.lastPromiseValue);\n",
              "  return Promise.resolve(next.value.promise).then((value) => {\n",
              "    // Cache the last promise value to make it available to the next\n",
              "    // step of the generator.\n",
              "    outputElement.lastPromiseValue = value;\n",
              "    return next.value.response;\n",
              "  });\n",
              "}\n",
              "\n",
              "/**\n",
              " * Generator function which is called between each async step of the upload\n",
              " * process.\n",
              " * @param {string} inputId Element ID of the input file picker element.\n",
              " * @param {string} outputId Element ID of the output display.\n",
              " * @return {!Iterable<!Object>} Iterable of next steps.\n",
              " */\n",
              "function* uploadFilesStep(inputId, outputId) {\n",
              "  const inputElement = document.getElementById(inputId);\n",
              "  inputElement.disabled = false;\n",
              "\n",
              "  const outputElement = document.getElementById(outputId);\n",
              "  outputElement.innerHTML = '';\n",
              "\n",
              "  const pickedPromise = new Promise((resolve) => {\n",
              "    inputElement.addEventListener('change', (e) => {\n",
              "      resolve(e.target.files);\n",
              "    });\n",
              "  });\n",
              "\n",
              "  const cancel = document.createElement('button');\n",
              "  inputElement.parentElement.appendChild(cancel);\n",
              "  cancel.textContent = 'Cancel upload';\n",
              "  const cancelPromise = new Promise((resolve) => {\n",
              "    cancel.onclick = () => {\n",
              "      resolve(null);\n",
              "    };\n",
              "  });\n",
              "\n",
              "  // Wait for the user to pick the files.\n",
              "  const files = yield {\n",
              "    promise: Promise.race([pickedPromise, cancelPromise]),\n",
              "    response: {\n",
              "      action: 'starting',\n",
              "    }\n",
              "  };\n",
              "\n",
              "  cancel.remove();\n",
              "\n",
              "  // Disable the input element since further picks are not allowed.\n",
              "  inputElement.disabled = true;\n",
              "\n",
              "  if (!files) {\n",
              "    return {\n",
              "      response: {\n",
              "        action: 'complete',\n",
              "      }\n",
              "    };\n",
              "  }\n",
              "\n",
              "  for (const file of files) {\n",
              "    const li = document.createElement('li');\n",
              "    li.append(span(file.name, {fontWeight: 'bold'}));\n",
              "    li.append(span(\n",
              "        `(${file.type || 'n/a'}) - ${file.size} bytes, ` +\n",
              "        `last modified: ${\n",
              "            file.lastModifiedDate ? file.lastModifiedDate.toLocaleDateString() :\n",
              "                                    'n/a'} - `));\n",
              "    const percent = span('0% done');\n",
              "    li.appendChild(percent);\n",
              "\n",
              "    outputElement.appendChild(li);\n",
              "\n",
              "    const fileDataPromise = new Promise((resolve) => {\n",
              "      const reader = new FileReader();\n",
              "      reader.onload = (e) => {\n",
              "        resolve(e.target.result);\n",
              "      };\n",
              "      reader.readAsArrayBuffer(file);\n",
              "    });\n",
              "    // Wait for the data to be ready.\n",
              "    let fileData = yield {\n",
              "      promise: fileDataPromise,\n",
              "      response: {\n",
              "        action: 'continue',\n",
              "      }\n",
              "    };\n",
              "\n",
              "    // Use a chunked sending to avoid message size limits. See b/62115660.\n",
              "    let position = 0;\n",
              "    do {\n",
              "      const length = Math.min(fileData.byteLength - position, MAX_PAYLOAD_SIZE);\n",
              "      const chunk = new Uint8Array(fileData, position, length);\n",
              "      position += length;\n",
              "\n",
              "      const base64 = btoa(String.fromCharCode.apply(null, chunk));\n",
              "      yield {\n",
              "        response: {\n",
              "          action: 'append',\n",
              "          file: file.name,\n",
              "          data: base64,\n",
              "        },\n",
              "      };\n",
              "\n",
              "      let percentDone = fileData.byteLength === 0 ?\n",
              "          100 :\n",
              "          Math.round((position / fileData.byteLength) * 100);\n",
              "      percent.textContent = `${percentDone}% done`;\n",
              "\n",
              "    } while (position < fileData.byteLength);\n",
              "  }\n",
              "\n",
              "  // All done.\n",
              "  yield {\n",
              "    response: {\n",
              "      action: 'complete',\n",
              "    }\n",
              "  };\n",
              "}\n",
              "\n",
              "scope.google = scope.google || {};\n",
              "scope.google.colab = scope.google.colab || {};\n",
              "scope.google.colab._files = {\n",
              "  _uploadFiles,\n",
              "  _uploadFilesContinue,\n",
              "};\n",
              "})(self);\n",
              "</script> "
            ],
            "text/plain": [
              "<IPython.core.display.HTML object>"
            ]
          },
          "metadata": {},
          "output_type": "display_data"
        },
        {
          "ename": "TypeError",
          "evalue": "ignored",
          "output_type": "error",
          "traceback": [
            "\u001b[0;31m---------------------------------------------------------------------------\u001b[0m",
            "\u001b[0;31mTypeError\u001b[0m                                 Traceback (most recent call last)",
            "\u001b[0;32m<ipython-input-9-06c236879ec2>\u001b[0m in \u001b[0;36m<module>\u001b[0;34m\u001b[0m\n\u001b[1;32m      2\u001b[0m \u001b[0;32mimport\u001b[0m \u001b[0mio\u001b[0m\u001b[0;34m\u001b[0m\u001b[0;34m\u001b[0m\u001b[0m\n\u001b[1;32m      3\u001b[0m \u001b[0;34m\u001b[0m\u001b[0m\n\u001b[0;32m----> 4\u001b[0;31m \u001b[0muploaded\u001b[0m \u001b[0;34m=\u001b[0m \u001b[0mfiles\u001b[0m\u001b[0;34m.\u001b[0m\u001b[0mupload\u001b[0m\u001b[0;34m(\u001b[0m\u001b[0;34m)\u001b[0m\u001b[0;34m\u001b[0m\u001b[0;34m\u001b[0m\u001b[0m\n\u001b[0m\u001b[1;32m      5\u001b[0m \u001b[0;34m\u001b[0m\u001b[0m\n",
            "\u001b[0;32m/usr/local/lib/python3.7/dist-packages/google/colab/files.py\u001b[0m in \u001b[0;36mupload\u001b[0;34m()\u001b[0m\n\u001b[1;32m     65\u001b[0m   \"\"\"\n\u001b[1;32m     66\u001b[0m \u001b[0;34m\u001b[0m\u001b[0m\n\u001b[0;32m---> 67\u001b[0;31m   \u001b[0muploaded_files\u001b[0m \u001b[0;34m=\u001b[0m \u001b[0m_upload_files\u001b[0m\u001b[0;34m(\u001b[0m\u001b[0mmultiple\u001b[0m\u001b[0;34m=\u001b[0m\u001b[0;32mTrue\u001b[0m\u001b[0;34m)\u001b[0m\u001b[0;34m\u001b[0m\u001b[0;34m\u001b[0m\u001b[0m\n\u001b[0m\u001b[1;32m     68\u001b[0m   \u001b[0;31m# Mapping from original filename to filename as saved locally.\u001b[0m\u001b[0;34m\u001b[0m\u001b[0;34m\u001b[0m\u001b[0;34m\u001b[0m\u001b[0m\n\u001b[1;32m     69\u001b[0m   \u001b[0mlocal_filenames\u001b[0m \u001b[0;34m=\u001b[0m \u001b[0mdict\u001b[0m\u001b[0;34m(\u001b[0m\u001b[0;34m)\u001b[0m\u001b[0;34m\u001b[0m\u001b[0;34m\u001b[0m\u001b[0m\n",
            "\u001b[0;32m/usr/local/lib/python3.7/dist-packages/google/colab/files.py\u001b[0m in \u001b[0;36m_upload_files\u001b[0;34m(multiple)\u001b[0m\n\u001b[1;32m    147\u001b[0m   \u001b[0mfiles\u001b[0m \u001b[0;34m=\u001b[0m \u001b[0m_collections\u001b[0m\u001b[0;34m.\u001b[0m\u001b[0mdefaultdict\u001b[0m\u001b[0;34m(\u001b[0m\u001b[0mbytes\u001b[0m\u001b[0;34m)\u001b[0m\u001b[0;34m\u001b[0m\u001b[0;34m\u001b[0m\u001b[0m\n\u001b[1;32m    148\u001b[0m \u001b[0;34m\u001b[0m\u001b[0m\n\u001b[0;32m--> 149\u001b[0;31m   \u001b[0;32mwhile\u001b[0m \u001b[0mresult\u001b[0m\u001b[0;34m[\u001b[0m\u001b[0;34m'action'\u001b[0m\u001b[0;34m]\u001b[0m \u001b[0;34m!=\u001b[0m \u001b[0;34m'complete'\u001b[0m\u001b[0;34m:\u001b[0m\u001b[0;34m\u001b[0m\u001b[0;34m\u001b[0m\u001b[0m\n\u001b[0m\u001b[1;32m    150\u001b[0m     result = _output.eval_js(\n\u001b[1;32m    151\u001b[0m         'google.colab._files._uploadFilesContinue(\"{output_id}\")'.format(\n",
            "\u001b[0;31mTypeError\u001b[0m: 'NoneType' object is not subscriptable"
          ]
        }
      ],
      "source": [
        "from google.colab import files\n",
        "import io\n",
        "\n",
        "uploaded = files.upload()\n",
        "\n"
      ]
    },
    {
      "cell_type": "code",
      "execution_count": null,
      "metadata": {
        "colab": {
          "base_uri": "https://localhost:8080/"
        },
        "id": "aGQM4gxSPeSu",
        "outputId": "efa334b3-acdb-4cdb-c752-0647c576b525"
      },
      "outputs": [
        {
          "name": "stdout",
          "output_type": "stream",
          "text": [
            "     Unnamed: 0  Num                     Title  Year   Released  Runtime  \\\n",
            "0             0    1  The Shawshank Redemption  1994  14-Oct-94  142 min   \n",
            "1             1    2             The Godfather  1972  24-Mar-72  175 min   \n",
            "2             2    3    The Godfather: Part II  1974  20-Dec-74  202 min   \n",
            "3             3    4           The Dark Knight  2008  18-Jul-08  152 min   \n",
            "4             4    5              12 Angry Men  1957   1-Apr-57   96 min   \n",
            "..          ...  ...                       ...   ...        ...      ...   \n",
            "245         245  246          The Lost Weekend  1945   1-Jan-46  101 min   \n",
            "246         246  247             Short Term 12  2013  23-Aug-13   96 min   \n",
            "247         247  248           His Girl Friday  1940  18-Jan-40   92 min   \n",
            "248         248  249        The Straight Story  1999   3-Nov-99  112 min   \n",
            "249         249  250       Slumdog Millionaire  2008  25-Dec-08  120 min   \n",
            "\n",
            "                      Genre                      Director  \\\n",
            "0              Crime, Drama                Frank Darabont   \n",
            "1              Crime, Drama          Francis Ford Coppola   \n",
            "2              Crime, Drama          Francis Ford Coppola   \n",
            "3      Action, Crime, Drama             Christopher Nolan   \n",
            "4              Crime, Drama                  Sidney Lumet   \n",
            "..                      ...                           ...   \n",
            "245        Drama, Film-Noir                  Billy Wilder   \n",
            "246                   Drama         Destin Daniel Cretton   \n",
            "247  Comedy, Drama, Romance                  Howard Hawks   \n",
            "248        Biography, Drama                   David Lynch   \n",
            "249                   Drama  Danny Boyle, Loveleen Tandan   \n",
            "\n",
            "                                                Writer  \\\n",
            "0    Stephen King (short story \"Rita Hayworth and S...   \n",
            "1    Mario Puzo (screenplay), Francis Ford Coppola ...   \n",
            "2    Francis Ford Coppola (screenplay), Mario Puzo ...   \n",
            "3    Jonathan Nolan (screenplay), Christopher Nolan...   \n",
            "4    Reginald Rose (story), Reginald Rose (screenplay)   \n",
            "..                                                 ...   \n",
            "245  Charles R. Jackson (from the novel by), Charle...   \n",
            "246                              Destin Daniel Cretton   \n",
            "247  Charles Lederer (screen play), Ben Hecht (from...   \n",
            "248                           John Roach, Mary Sweeney   \n",
            "249   Simon Beaufoy (screenplay), Vikas Swarup (novel)   \n",
            "\n",
            "                                                Actors  ...  \\\n",
            "0    Tim Robbins, Morgan Freeman, Bob Gunton, Willi...  ...   \n",
            "1    Marlon Brando, Al Pacino, James Caan, Richard ...  ...   \n",
            "2    Al Pacino, Robert Duvall, Diane Keaton, Robert...  ...   \n",
            "3    Christian Bale, Heath Ledger, Aaron Eckhart, M...  ...   \n",
            "4    Martin Balsam, John Fiedler, Lee J. Cobb, E.G....  ...   \n",
            "..                                                 ...  ...   \n",
            "245  Ray Milland, Jane Wyman, Phillip Terry, Howard...  ...   \n",
            "246  Brie Larson, John Gallagher Jr., Stephanie Bea...  ...   \n",
            "247  Cary Grant, Rosalind Russell, Ralph Bellamy, G...  ...   \n",
            "248  Sissy Spacek, Jane Galloway Heitz, Joseph A. C...  ...   \n",
            "249  Dev Patel, Saurabh Shukla, Anil Kapoor, Raj Zu...  ...   \n",
            "\n",
            "                                                Awards Metascore imdbRating  \\\n",
            "0    Nominated for 7 Oscars. Another 19 wins & 30 n...      80.0        9.3   \n",
            "1      Won 3 Oscars. Another 23 wins & 27 nominations.     100.0        9.2   \n",
            "2      Won 6 Oscars. Another 10 wins & 20 nominations.      85.0        9.0   \n",
            "3    Won 2 Oscars. Another 151 wins & 153 nominations.      82.0        9.0   \n",
            "4    Nominated for 3 Oscars. Another 16 wins & 8 no...      96.0        8.9   \n",
            "..                                                 ...       ...        ...   \n",
            "245     Won 4 Oscars. Another 12 wins & 3 nominations.       NaN        8.0   \n",
            "246                          35 wins & 70 nominations.      82.0        8.0   \n",
            "247                                            2 wins.       NaN        8.0   \n",
            "248  Nominated for 1 Oscar. Another 14 wins & 37 no...      86.0        8.0   \n",
            "249  Won 8 Oscars. Another 144 wins & 126 nominations.      86.0        8.0   \n",
            "\n",
            "     imdbVotes     imdbID   Type        DVD      BoxOffice  \\\n",
            "0    1,825,626  tt0111161  movie  27-Jan-98            NaN   \n",
            "1    1,243,444  tt0068646  movie   9-Oct-01            NaN   \n",
            "2      856,870  tt0071562  movie  24-May-05            NaN   \n",
            "3    1,802,351  tt0468569  movie   9-Dec-08  $533,316,061    \n",
            "4      494,215  tt0050083  movie   6-Mar-01            NaN   \n",
            "..         ...        ...    ...        ...            ...   \n",
            "245     26,834  tt0037884  movie   6-Feb-01            NaN   \n",
            "246     62,348  tt2370248  movie  14-Jan-14            NaN   \n",
            "247     43,551  tt0032599  movie  28-Dec-04            NaN   \n",
            "248     67,045  tt0166896  movie   7-Nov-00            NaN   \n",
            "249    679,975  tt1010048  movie  31-Mar-09  $141,243,551    \n",
            "\n",
            "                          Production  \\\n",
            "0                  Columbia Pictures   \n",
            "1                 Paramount Pictures   \n",
            "2                 Paramount Pictures   \n",
            "3    Warner Bros. Pictures/Legendary   \n",
            "4               Criterion Collection   \n",
            "..                               ...   \n",
            "245               Paramount Pictures   \n",
            "246                         Cinedigm   \n",
            "247                Columbia Pictures   \n",
            "248             Buena Vista Pictures   \n",
            "249         Fox Searchlight Pictures   \n",
            "\n",
            "                                               Website  \n",
            "0                                                  NaN  \n",
            "1                          http://www.thegodfather.com  \n",
            "2                         http://www.thegodfather.com/  \n",
            "3                 http://thedarkknight.warnerbros.com/  \n",
            "4    http://www.criterion.com/films/27871-12-angry-men  \n",
            "..                                                 ...  \n",
            "245                                                NaN  \n",
            "246                             http://shortterm12.com  \n",
            "247                                                NaN  \n",
            "248  http://disney.go.com/DisneyPictures/straightst...  \n",
            "249  http://www.foxsearchlight.com/slumdogmillionaire/  \n",
            "\n",
            "[250 rows x 23 columns]\n"
          ]
        }
      ],
      "source": [
        "import pandas as pd\n",
        "import io\n",
        "\n",
        "df = pd.read_csv(io.BytesIO(uploaded['IMDB_Top_250.csv']))\n",
        "print(df)"
      ]
    },
    {
      "cell_type": "markdown",
      "metadata": {
        "id": "EtvI98PMg2Ch"
      },
      "source": [
        "### 11. Summary Statistics\n",
        "\n",
        "11.1 What are the datatypes for `imdb`?"
      ]
    },
    {
      "cell_type": "code",
      "execution_count": null,
      "metadata": {
        "colab": {
          "base_uri": "https://localhost:8080/"
        },
        "id": "21r4lPTPg2Ch",
        "outputId": "5e5b8167-81b2-4900-940a-f42a0638ac33"
      },
      "outputs": [
        {
          "data": {
            "text/plain": [
              "Unnamed: 0      int64\n",
              "Num             int64\n",
              "Title          object\n",
              "Year            int64\n",
              "Released       object\n",
              "Runtime        object\n",
              "Genre          object\n",
              "Director       object\n",
              "Writer         object\n",
              "Actors         object\n",
              "Plot           object\n",
              "Language       object\n",
              "Country        object\n",
              "Awards         object\n",
              "Metascore     float64\n",
              "imdbRating    float64\n",
              "imdbVotes      object\n",
              "imdbID         object\n",
              "Type           object\n",
              "DVD            object\n",
              "BoxOffice      object\n",
              "Production     object\n",
              "Website        object\n",
              "dtype: object"
            ]
          },
          "execution_count": 143,
          "metadata": {},
          "output_type": "execute_result"
        }
      ],
      "source": [
        "df.dtypes"
      ]
    },
    {
      "cell_type": "markdown",
      "metadata": {
        "id": "0wAlNDgKg2Ch"
      },
      "source": [
        "11.2 How many rows and columns are present in your dataset?"
      ]
    },
    {
      "cell_type": "markdown",
      "metadata": {
        "id": "SBD-E2VPQXp8"
      },
      "source": [
        "The IMDB_Top_250 file contains 250 rows and 23 columns."
      ]
    },
    {
      "cell_type": "markdown",
      "metadata": {
        "id": "AWrsLx-pg2Ci"
      },
      "source": [
        "11.3 Return the first 10 rows and last 10 rows of your dataset"
      ]
    },
    {
      "cell_type": "code",
      "execution_count": null,
      "metadata": {
        "colab": {
          "base_uri": "https://localhost:8080/",
          "height": 1000
        },
        "id": "UsBwZW3lg2Ci",
        "outputId": "f560e2aa-2d08-4958-80d3-f898d2f6bba8"
      },
      "outputs": [
        {
          "data": {
            "text/html": [
              "\n",
              "  <div id=\"df-1e368f01-b33c-4df2-88e2-50744bbc88b4\">\n",
              "    <div class=\"colab-df-container\">\n",
              "      <div>\n",
              "<style scoped>\n",
              "    .dataframe tbody tr th:only-of-type {\n",
              "        vertical-align: middle;\n",
              "    }\n",
              "\n",
              "    .dataframe tbody tr th {\n",
              "        vertical-align: top;\n",
              "    }\n",
              "\n",
              "    .dataframe thead th {\n",
              "        text-align: right;\n",
              "    }\n",
              "</style>\n",
              "<table border=\"1\" class=\"dataframe\">\n",
              "  <thead>\n",
              "    <tr style=\"text-align: right;\">\n",
              "      <th></th>\n",
              "      <th>Unnamed: 0</th>\n",
              "      <th>Num</th>\n",
              "      <th>Title</th>\n",
              "      <th>Year</th>\n",
              "      <th>Released</th>\n",
              "      <th>Runtime</th>\n",
              "      <th>Genre</th>\n",
              "      <th>Director</th>\n",
              "      <th>Writer</th>\n",
              "      <th>Actors</th>\n",
              "      <th>...</th>\n",
              "      <th>Awards</th>\n",
              "      <th>Metascore</th>\n",
              "      <th>imdbRating</th>\n",
              "      <th>imdbVotes</th>\n",
              "      <th>imdbID</th>\n",
              "      <th>Type</th>\n",
              "      <th>DVD</th>\n",
              "      <th>BoxOffice</th>\n",
              "      <th>Production</th>\n",
              "      <th>Website</th>\n",
              "    </tr>\n",
              "  </thead>\n",
              "  <tbody>\n",
              "    <tr>\n",
              "      <th>0</th>\n",
              "      <td>0</td>\n",
              "      <td>1</td>\n",
              "      <td>The Shawshank Redemption</td>\n",
              "      <td>1994</td>\n",
              "      <td>14-Oct-94</td>\n",
              "      <td>142 min</td>\n",
              "      <td>Crime, Drama</td>\n",
              "      <td>Frank Darabont</td>\n",
              "      <td>Stephen King (short story \"Rita Hayworth and S...</td>\n",
              "      <td>Tim Robbins, Morgan Freeman, Bob Gunton, Willi...</td>\n",
              "      <td>...</td>\n",
              "      <td>Nominated for 7 Oscars. Another 19 wins &amp; 30 n...</td>\n",
              "      <td>80.0</td>\n",
              "      <td>9.3</td>\n",
              "      <td>1,825,626</td>\n",
              "      <td>tt0111161</td>\n",
              "      <td>movie</td>\n",
              "      <td>27-Jan-98</td>\n",
              "      <td>NaN</td>\n",
              "      <td>Columbia Pictures</td>\n",
              "      <td>NaN</td>\n",
              "    </tr>\n",
              "    <tr>\n",
              "      <th>1</th>\n",
              "      <td>1</td>\n",
              "      <td>2</td>\n",
              "      <td>The Godfather</td>\n",
              "      <td>1972</td>\n",
              "      <td>24-Mar-72</td>\n",
              "      <td>175 min</td>\n",
              "      <td>Crime, Drama</td>\n",
              "      <td>Francis Ford Coppola</td>\n",
              "      <td>Mario Puzo (screenplay), Francis Ford Coppola ...</td>\n",
              "      <td>Marlon Brando, Al Pacino, James Caan, Richard ...</td>\n",
              "      <td>...</td>\n",
              "      <td>Won 3 Oscars. Another 23 wins &amp; 27 nominations.</td>\n",
              "      <td>100.0</td>\n",
              "      <td>9.2</td>\n",
              "      <td>1,243,444</td>\n",
              "      <td>tt0068646</td>\n",
              "      <td>movie</td>\n",
              "      <td>9-Oct-01</td>\n",
              "      <td>NaN</td>\n",
              "      <td>Paramount Pictures</td>\n",
              "      <td>http://www.thegodfather.com</td>\n",
              "    </tr>\n",
              "    <tr>\n",
              "      <th>2</th>\n",
              "      <td>2</td>\n",
              "      <td>3</td>\n",
              "      <td>The Godfather: Part II</td>\n",
              "      <td>1974</td>\n",
              "      <td>20-Dec-74</td>\n",
              "      <td>202 min</td>\n",
              "      <td>Crime, Drama</td>\n",
              "      <td>Francis Ford Coppola</td>\n",
              "      <td>Francis Ford Coppola (screenplay), Mario Puzo ...</td>\n",
              "      <td>Al Pacino, Robert Duvall, Diane Keaton, Robert...</td>\n",
              "      <td>...</td>\n",
              "      <td>Won 6 Oscars. Another 10 wins &amp; 20 nominations.</td>\n",
              "      <td>85.0</td>\n",
              "      <td>9.0</td>\n",
              "      <td>856,870</td>\n",
              "      <td>tt0071562</td>\n",
              "      <td>movie</td>\n",
              "      <td>24-May-05</td>\n",
              "      <td>NaN</td>\n",
              "      <td>Paramount Pictures</td>\n",
              "      <td>http://www.thegodfather.com/</td>\n",
              "    </tr>\n",
              "    <tr>\n",
              "      <th>3</th>\n",
              "      <td>3</td>\n",
              "      <td>4</td>\n",
              "      <td>The Dark Knight</td>\n",
              "      <td>2008</td>\n",
              "      <td>18-Jul-08</td>\n",
              "      <td>152 min</td>\n",
              "      <td>Action, Crime, Drama</td>\n",
              "      <td>Christopher Nolan</td>\n",
              "      <td>Jonathan Nolan (screenplay), Christopher Nolan...</td>\n",
              "      <td>Christian Bale, Heath Ledger, Aaron Eckhart, M...</td>\n",
              "      <td>...</td>\n",
              "      <td>Won 2 Oscars. Another 151 wins &amp; 153 nominations.</td>\n",
              "      <td>82.0</td>\n",
              "      <td>9.0</td>\n",
              "      <td>1,802,351</td>\n",
              "      <td>tt0468569</td>\n",
              "      <td>movie</td>\n",
              "      <td>9-Dec-08</td>\n",
              "      <td>$533,316,061</td>\n",
              "      <td>Warner Bros. Pictures/Legendary</td>\n",
              "      <td>http://thedarkknight.warnerbros.com/</td>\n",
              "    </tr>\n",
              "    <tr>\n",
              "      <th>4</th>\n",
              "      <td>4</td>\n",
              "      <td>5</td>\n",
              "      <td>12 Angry Men</td>\n",
              "      <td>1957</td>\n",
              "      <td>1-Apr-57</td>\n",
              "      <td>96 min</td>\n",
              "      <td>Crime, Drama</td>\n",
              "      <td>Sidney Lumet</td>\n",
              "      <td>Reginald Rose (story), Reginald Rose (screenplay)</td>\n",
              "      <td>Martin Balsam, John Fiedler, Lee J. Cobb, E.G....</td>\n",
              "      <td>...</td>\n",
              "      <td>Nominated for 3 Oscars. Another 16 wins &amp; 8 no...</td>\n",
              "      <td>96.0</td>\n",
              "      <td>8.9</td>\n",
              "      <td>494,215</td>\n",
              "      <td>tt0050083</td>\n",
              "      <td>movie</td>\n",
              "      <td>6-Mar-01</td>\n",
              "      <td>NaN</td>\n",
              "      <td>Criterion Collection</td>\n",
              "      <td>http://www.criterion.com/films/27871-12-angry-men</td>\n",
              "    </tr>\n",
              "    <tr>\n",
              "      <th>5</th>\n",
              "      <td>5</td>\n",
              "      <td>6</td>\n",
              "      <td>Schindler's List</td>\n",
              "      <td>1993</td>\n",
              "      <td>4-Feb-94</td>\n",
              "      <td>195 min</td>\n",
              "      <td>Biography, Drama, History</td>\n",
              "      <td>Steven Spielberg</td>\n",
              "      <td>Thomas Keneally (book), Steven Zaillian (scree...</td>\n",
              "      <td>Liam Neeson, Ben Kingsley, Ralph Fiennes, Caro...</td>\n",
              "      <td>...</td>\n",
              "      <td>Won 7 Oscars. Another 71 wins &amp; 33 nominations.</td>\n",
              "      <td>93.0</td>\n",
              "      <td>8.9</td>\n",
              "      <td>937,837</td>\n",
              "      <td>tt0108052</td>\n",
              "      <td>movie</td>\n",
              "      <td>9-Mar-04</td>\n",
              "      <td>NaN</td>\n",
              "      <td>Universal Pictures</td>\n",
              "      <td>http://www.schindlerslist.com</td>\n",
              "    </tr>\n",
              "    <tr>\n",
              "      <th>6</th>\n",
              "      <td>6</td>\n",
              "      <td>7</td>\n",
              "      <td>The Lord of the Rings: The Return of the King</td>\n",
              "      <td>2003</td>\n",
              "      <td>17-Dec-03</td>\n",
              "      <td>201 min</td>\n",
              "      <td>Adventure, Drama, Fantasy</td>\n",
              "      <td>Peter Jackson</td>\n",
              "      <td>J.R.R. Tolkien (novel), Fran Walsh (screenplay...</td>\n",
              "      <td>Noel Appleby, Ali Astin, Sean Astin, David Aston</td>\n",
              "      <td>...</td>\n",
              "      <td>Won 11 Oscars. Another 197 wins &amp; 122 nominati...</td>\n",
              "      <td>94.0</td>\n",
              "      <td>8.9</td>\n",
              "      <td>1,304,569</td>\n",
              "      <td>tt0167260</td>\n",
              "      <td>movie</td>\n",
              "      <td>25-May-04</td>\n",
              "      <td>$364,000,000</td>\n",
              "      <td>New Line Cinema</td>\n",
              "      <td>http://www.lordoftherings.net/</td>\n",
              "    </tr>\n",
              "    <tr>\n",
              "      <th>7</th>\n",
              "      <td>7</td>\n",
              "      <td>8</td>\n",
              "      <td>Pulp Fiction</td>\n",
              "      <td>1994</td>\n",
              "      <td>14-Oct-94</td>\n",
              "      <td>154 min</td>\n",
              "      <td>Crime, Drama</td>\n",
              "      <td>Quentin Tarantino</td>\n",
              "      <td>Quentin Tarantino (stories), Roger Avary (stor...</td>\n",
              "      <td>Tim Roth, Amanda Plummer, Laura Lovelace, John...</td>\n",
              "      <td>...</td>\n",
              "      <td>Won 1 Oscar. Another 60 wins &amp; 68 nominations.</td>\n",
              "      <td>94.0</td>\n",
              "      <td>8.9</td>\n",
              "      <td>1,427,451</td>\n",
              "      <td>tt0110912</td>\n",
              "      <td>movie</td>\n",
              "      <td>19-May-98</td>\n",
              "      <td>NaN</td>\n",
              "      <td>Miramax Films</td>\n",
              "      <td>NaN</td>\n",
              "    </tr>\n",
              "    <tr>\n",
              "      <th>8</th>\n",
              "      <td>8</td>\n",
              "      <td>9</td>\n",
              "      <td>Fight Club</td>\n",
              "      <td>1999</td>\n",
              "      <td>15-Oct-99</td>\n",
              "      <td>139 min</td>\n",
              "      <td>Drama</td>\n",
              "      <td>David Fincher</td>\n",
              "      <td>Chuck Palahniuk (novel), Jim Uhls (screenplay)</td>\n",
              "      <td>Edward Norton, Brad Pitt, Meat Loaf, Zach Grenier</td>\n",
              "      <td>...</td>\n",
              "      <td>Nominated for 1 Oscar. Another 10 wins &amp; 31 no...</td>\n",
              "      <td>66.0</td>\n",
              "      <td>8.8</td>\n",
              "      <td>1,458,676</td>\n",
              "      <td>tt0137523</td>\n",
              "      <td>movie</td>\n",
              "      <td>6-Jun-00</td>\n",
              "      <td>NaN</td>\n",
              "      <td>20th Century Fox</td>\n",
              "      <td>http://www.foxmovies.com/fightclub/</td>\n",
              "    </tr>\n",
              "    <tr>\n",
              "      <th>9</th>\n",
              "      <td>9</td>\n",
              "      <td>10</td>\n",
              "      <td>The Lord of the Rings: The Fellowship of the Ring</td>\n",
              "      <td>2001</td>\n",
              "      <td>19-Dec-01</td>\n",
              "      <td>178 min</td>\n",
              "      <td>Adventure, Drama, Fantasy</td>\n",
              "      <td>Peter Jackson</td>\n",
              "      <td>J.R.R. Tolkien (novel), Fran Walsh (screenplay...</td>\n",
              "      <td>Alan Howard, Noel Appleby, Sean Astin, Sala Baker</td>\n",
              "      <td>...</td>\n",
              "      <td>Won 4 Oscars. Another 113 wins &amp; 124 nominations.</td>\n",
              "      <td>92.0</td>\n",
              "      <td>8.8</td>\n",
              "      <td>1,326,876</td>\n",
              "      <td>tt0120737</td>\n",
              "      <td>movie</td>\n",
              "      <td>6-Aug-02</td>\n",
              "      <td>$314,000,000</td>\n",
              "      <td>New Line Cinema</td>\n",
              "      <td>http://www.lordoftherings.net/film/trilogy/the...</td>\n",
              "    </tr>\n",
              "  </tbody>\n",
              "</table>\n",
              "<p>10 rows × 23 columns</p>\n",
              "</div>\n",
              "      <button class=\"colab-df-convert\" onclick=\"convertToInteractive('df-1e368f01-b33c-4df2-88e2-50744bbc88b4')\"\n",
              "              title=\"Convert this dataframe to an interactive table.\"\n",
              "              style=\"display:none;\">\n",
              "        \n",
              "  <svg xmlns=\"http://www.w3.org/2000/svg\" height=\"24px\"viewBox=\"0 0 24 24\"\n",
              "       width=\"24px\">\n",
              "    <path d=\"M0 0h24v24H0V0z\" fill=\"none\"/>\n",
              "    <path d=\"M18.56 5.44l.94 2.06.94-2.06 2.06-.94-2.06-.94-.94-2.06-.94 2.06-2.06.94zm-11 1L8.5 8.5l.94-2.06 2.06-.94-2.06-.94L8.5 2.5l-.94 2.06-2.06.94zm10 10l.94 2.06.94-2.06 2.06-.94-2.06-.94-.94-2.06-.94 2.06-2.06.94z\"/><path d=\"M17.41 7.96l-1.37-1.37c-.4-.4-.92-.59-1.43-.59-.52 0-1.04.2-1.43.59L10.3 9.45l-7.72 7.72c-.78.78-.78 2.05 0 2.83L4 21.41c.39.39.9.59 1.41.59.51 0 1.02-.2 1.41-.59l7.78-7.78 2.81-2.81c.8-.78.8-2.07 0-2.86zM5.41 20L4 18.59l7.72-7.72 1.47 1.35L5.41 20z\"/>\n",
              "  </svg>\n",
              "      </button>\n",
              "      \n",
              "  <style>\n",
              "    .colab-df-container {\n",
              "      display:flex;\n",
              "      flex-wrap:wrap;\n",
              "      gap: 12px;\n",
              "    }\n",
              "\n",
              "    .colab-df-convert {\n",
              "      background-color: #E8F0FE;\n",
              "      border: none;\n",
              "      border-radius: 50%;\n",
              "      cursor: pointer;\n",
              "      display: none;\n",
              "      fill: #1967D2;\n",
              "      height: 32px;\n",
              "      padding: 0 0 0 0;\n",
              "      width: 32px;\n",
              "    }\n",
              "\n",
              "    .colab-df-convert:hover {\n",
              "      background-color: #E2EBFA;\n",
              "      box-shadow: 0px 1px 2px rgba(60, 64, 67, 0.3), 0px 1px 3px 1px rgba(60, 64, 67, 0.15);\n",
              "      fill: #174EA6;\n",
              "    }\n",
              "\n",
              "    [theme=dark] .colab-df-convert {\n",
              "      background-color: #3B4455;\n",
              "      fill: #D2E3FC;\n",
              "    }\n",
              "\n",
              "    [theme=dark] .colab-df-convert:hover {\n",
              "      background-color: #434B5C;\n",
              "      box-shadow: 0px 1px 3px 1px rgba(0, 0, 0, 0.15);\n",
              "      filter: drop-shadow(0px 1px 2px rgba(0, 0, 0, 0.3));\n",
              "      fill: #FFFFFF;\n",
              "    }\n",
              "  </style>\n",
              "\n",
              "      <script>\n",
              "        const buttonEl =\n",
              "          document.querySelector('#df-1e368f01-b33c-4df2-88e2-50744bbc88b4 button.colab-df-convert');\n",
              "        buttonEl.style.display =\n",
              "          google.colab.kernel.accessAllowed ? 'block' : 'none';\n",
              "\n",
              "        async function convertToInteractive(key) {\n",
              "          const element = document.querySelector('#df-1e368f01-b33c-4df2-88e2-50744bbc88b4');\n",
              "          const dataTable =\n",
              "            await google.colab.kernel.invokeFunction('convertToInteractive',\n",
              "                                                     [key], {});\n",
              "          if (!dataTable) return;\n",
              "\n",
              "          const docLinkHtml = 'Like what you see? Visit the ' +\n",
              "            '<a target=\"_blank\" href=https://colab.research.google.com/notebooks/data_table.ipynb>data table notebook</a>'\n",
              "            + ' to learn more about interactive tables.';\n",
              "          element.innerHTML = '';\n",
              "          dataTable['output_type'] = 'display_data';\n",
              "          await google.colab.output.renderOutput(dataTable, element);\n",
              "          const docLink = document.createElement('div');\n",
              "          docLink.innerHTML = docLinkHtml;\n",
              "          element.appendChild(docLink);\n",
              "        }\n",
              "      </script>\n",
              "    </div>\n",
              "  </div>\n",
              "  "
            ],
            "text/plain": [
              "   Unnamed: 0  Num                                              Title  Year  \\\n",
              "0           0    1                           The Shawshank Redemption  1994   \n",
              "1           1    2                                      The Godfather  1972   \n",
              "2           2    3                             The Godfather: Part II  1974   \n",
              "3           3    4                                    The Dark Knight  2008   \n",
              "4           4    5                                       12 Angry Men  1957   \n",
              "5           5    6                                   Schindler's List  1993   \n",
              "6           6    7      The Lord of the Rings: The Return of the King  2003   \n",
              "7           7    8                                       Pulp Fiction  1994   \n",
              "8           8    9                                         Fight Club  1999   \n",
              "9           9   10  The Lord of the Rings: The Fellowship of the Ring  2001   \n",
              "\n",
              "    Released  Runtime                      Genre              Director  \\\n",
              "0  14-Oct-94  142 min               Crime, Drama        Frank Darabont   \n",
              "1  24-Mar-72  175 min               Crime, Drama  Francis Ford Coppola   \n",
              "2  20-Dec-74  202 min               Crime, Drama  Francis Ford Coppola   \n",
              "3  18-Jul-08  152 min       Action, Crime, Drama     Christopher Nolan   \n",
              "4   1-Apr-57   96 min               Crime, Drama          Sidney Lumet   \n",
              "5   4-Feb-94  195 min  Biography, Drama, History      Steven Spielberg   \n",
              "6  17-Dec-03  201 min  Adventure, Drama, Fantasy         Peter Jackson   \n",
              "7  14-Oct-94  154 min               Crime, Drama     Quentin Tarantino   \n",
              "8  15-Oct-99  139 min                      Drama         David Fincher   \n",
              "9  19-Dec-01  178 min  Adventure, Drama, Fantasy         Peter Jackson   \n",
              "\n",
              "                                              Writer  \\\n",
              "0  Stephen King (short story \"Rita Hayworth and S...   \n",
              "1  Mario Puzo (screenplay), Francis Ford Coppola ...   \n",
              "2  Francis Ford Coppola (screenplay), Mario Puzo ...   \n",
              "3  Jonathan Nolan (screenplay), Christopher Nolan...   \n",
              "4  Reginald Rose (story), Reginald Rose (screenplay)   \n",
              "5  Thomas Keneally (book), Steven Zaillian (scree...   \n",
              "6  J.R.R. Tolkien (novel), Fran Walsh (screenplay...   \n",
              "7  Quentin Tarantino (stories), Roger Avary (stor...   \n",
              "8     Chuck Palahniuk (novel), Jim Uhls (screenplay)   \n",
              "9  J.R.R. Tolkien (novel), Fran Walsh (screenplay...   \n",
              "\n",
              "                                              Actors  ...  \\\n",
              "0  Tim Robbins, Morgan Freeman, Bob Gunton, Willi...  ...   \n",
              "1  Marlon Brando, Al Pacino, James Caan, Richard ...  ...   \n",
              "2  Al Pacino, Robert Duvall, Diane Keaton, Robert...  ...   \n",
              "3  Christian Bale, Heath Ledger, Aaron Eckhart, M...  ...   \n",
              "4  Martin Balsam, John Fiedler, Lee J. Cobb, E.G....  ...   \n",
              "5  Liam Neeson, Ben Kingsley, Ralph Fiennes, Caro...  ...   \n",
              "6   Noel Appleby, Ali Astin, Sean Astin, David Aston  ...   \n",
              "7  Tim Roth, Amanda Plummer, Laura Lovelace, John...  ...   \n",
              "8  Edward Norton, Brad Pitt, Meat Loaf, Zach Grenier  ...   \n",
              "9  Alan Howard, Noel Appleby, Sean Astin, Sala Baker  ...   \n",
              "\n",
              "                                              Awards Metascore imdbRating  \\\n",
              "0  Nominated for 7 Oscars. Another 19 wins & 30 n...      80.0        9.3   \n",
              "1    Won 3 Oscars. Another 23 wins & 27 nominations.     100.0        9.2   \n",
              "2    Won 6 Oscars. Another 10 wins & 20 nominations.      85.0        9.0   \n",
              "3  Won 2 Oscars. Another 151 wins & 153 nominations.      82.0        9.0   \n",
              "4  Nominated for 3 Oscars. Another 16 wins & 8 no...      96.0        8.9   \n",
              "5    Won 7 Oscars. Another 71 wins & 33 nominations.      93.0        8.9   \n",
              "6  Won 11 Oscars. Another 197 wins & 122 nominati...      94.0        8.9   \n",
              "7     Won 1 Oscar. Another 60 wins & 68 nominations.      94.0        8.9   \n",
              "8  Nominated for 1 Oscar. Another 10 wins & 31 no...      66.0        8.8   \n",
              "9  Won 4 Oscars. Another 113 wins & 124 nominations.      92.0        8.8   \n",
              "\n",
              "   imdbVotes     imdbID   Type        DVD      BoxOffice  \\\n",
              "0  1,825,626  tt0111161  movie  27-Jan-98            NaN   \n",
              "1  1,243,444  tt0068646  movie   9-Oct-01            NaN   \n",
              "2    856,870  tt0071562  movie  24-May-05            NaN   \n",
              "3  1,802,351  tt0468569  movie   9-Dec-08  $533,316,061    \n",
              "4    494,215  tt0050083  movie   6-Mar-01            NaN   \n",
              "5    937,837  tt0108052  movie   9-Mar-04            NaN   \n",
              "6  1,304,569  tt0167260  movie  25-May-04  $364,000,000    \n",
              "7  1,427,451  tt0110912  movie  19-May-98            NaN   \n",
              "8  1,458,676  tt0137523  movie   6-Jun-00            NaN   \n",
              "9  1,326,876  tt0120737  movie   6-Aug-02  $314,000,000    \n",
              "\n",
              "                        Production  \\\n",
              "0                Columbia Pictures   \n",
              "1               Paramount Pictures   \n",
              "2               Paramount Pictures   \n",
              "3  Warner Bros. Pictures/Legendary   \n",
              "4             Criterion Collection   \n",
              "5               Universal Pictures   \n",
              "6                  New Line Cinema   \n",
              "7                    Miramax Films   \n",
              "8                 20th Century Fox   \n",
              "9                  New Line Cinema   \n",
              "\n",
              "                                             Website  \n",
              "0                                                NaN  \n",
              "1                        http://www.thegodfather.com  \n",
              "2                       http://www.thegodfather.com/  \n",
              "3               http://thedarkknight.warnerbros.com/  \n",
              "4  http://www.criterion.com/films/27871-12-angry-men  \n",
              "5                      http://www.schindlerslist.com  \n",
              "6                     http://www.lordoftherings.net/  \n",
              "7                                                NaN  \n",
              "8                http://www.foxmovies.com/fightclub/  \n",
              "9  http://www.lordoftherings.net/film/trilogy/the...  \n",
              "\n",
              "[10 rows x 23 columns]"
            ]
          },
          "execution_count": 144,
          "metadata": {},
          "output_type": "execute_result"
        }
      ],
      "source": [
        "df.head(10)"
      ]
    },
    {
      "cell_type": "code",
      "execution_count": null,
      "metadata": {
        "colab": {
          "base_uri": "https://localhost:8080/",
          "height": 1000
        },
        "id": "Rf-1Sz-PQsvc",
        "outputId": "389e3d53-27dd-4608-ab08-4c5ea64a2057"
      },
      "outputs": [
        {
          "data": {
            "text/html": [
              "\n",
              "  <div id=\"df-ee924c08-097c-4b55-900f-e9391048a5df\">\n",
              "    <div class=\"colab-df-container\">\n",
              "      <div>\n",
              "<style scoped>\n",
              "    .dataframe tbody tr th:only-of-type {\n",
              "        vertical-align: middle;\n",
              "    }\n",
              "\n",
              "    .dataframe tbody tr th {\n",
              "        vertical-align: top;\n",
              "    }\n",
              "\n",
              "    .dataframe thead th {\n",
              "        text-align: right;\n",
              "    }\n",
              "</style>\n",
              "<table border=\"1\" class=\"dataframe\">\n",
              "  <thead>\n",
              "    <tr style=\"text-align: right;\">\n",
              "      <th></th>\n",
              "      <th>Unnamed: 0</th>\n",
              "      <th>Num</th>\n",
              "      <th>Title</th>\n",
              "      <th>Year</th>\n",
              "      <th>Released</th>\n",
              "      <th>Runtime</th>\n",
              "      <th>Genre</th>\n",
              "      <th>Director</th>\n",
              "      <th>Writer</th>\n",
              "      <th>Actors</th>\n",
              "      <th>...</th>\n",
              "      <th>Awards</th>\n",
              "      <th>Metascore</th>\n",
              "      <th>imdbRating</th>\n",
              "      <th>imdbVotes</th>\n",
              "      <th>imdbID</th>\n",
              "      <th>Type</th>\n",
              "      <th>DVD</th>\n",
              "      <th>BoxOffice</th>\n",
              "      <th>Production</th>\n",
              "      <th>Website</th>\n",
              "    </tr>\n",
              "  </thead>\n",
              "  <tbody>\n",
              "    <tr>\n",
              "      <th>240</th>\n",
              "      <td>240</td>\n",
              "      <td>241</td>\n",
              "      <td>Deadpool</td>\n",
              "      <td>2016</td>\n",
              "      <td>12-Feb-16</td>\n",
              "      <td>108 min</td>\n",
              "      <td>Action, Adventure, Comedy</td>\n",
              "      <td>Tim Miller</td>\n",
              "      <td>Rhett Reese, Paul Wernick</td>\n",
              "      <td>Ryan Reynolds, Karan Soni, Ed Skrein, Michael ...</td>\n",
              "      <td>...</td>\n",
              "      <td>Nominated for 2 Golden Globes. Another 23 wins...</td>\n",
              "      <td>65.0</td>\n",
              "      <td>8.0</td>\n",
              "      <td>644,281</td>\n",
              "      <td>tt1431045</td>\n",
              "      <td>movie</td>\n",
              "      <td>10-May-16</td>\n",
              "      <td>$328,674,489</td>\n",
              "      <td>20th Century Fox</td>\n",
              "      <td>http://www.foxmovies.com/deadpool</td>\n",
              "    </tr>\n",
              "    <tr>\n",
              "      <th>241</th>\n",
              "      <td>241</td>\n",
              "      <td>242</td>\n",
              "      <td>The Wild Bunch</td>\n",
              "      <td>1969</td>\n",
              "      <td>7-Aug-69</td>\n",
              "      <td>135 min</td>\n",
              "      <td>Action, Adventure, Western</td>\n",
              "      <td>Sam Peckinpah</td>\n",
              "      <td>Walon Green (screenplay), Sam Peckinpah (scree...</td>\n",
              "      <td>William Holden, Ernest Borgnine, Robert Ryan, ...</td>\n",
              "      <td>...</td>\n",
              "      <td>Nominated for 2 Oscars. Another 5 wins &amp; 4 nom...</td>\n",
              "      <td>NaN</td>\n",
              "      <td>8.0</td>\n",
              "      <td>65,987</td>\n",
              "      <td>tt0065214</td>\n",
              "      <td>movie</td>\n",
              "      <td>27-Aug-97</td>\n",
              "      <td>NaN</td>\n",
              "      <td>Warner Bros. Pictures</td>\n",
              "      <td>NaN</td>\n",
              "    </tr>\n",
              "    <tr>\n",
              "      <th>242</th>\n",
              "      <td>242</td>\n",
              "      <td>243</td>\n",
              "      <td>Aladdin</td>\n",
              "      <td>1992</td>\n",
              "      <td>25-Nov-92</td>\n",
              "      <td>90 min</td>\n",
              "      <td>Animation, Adventure, Comedy</td>\n",
              "      <td>Ron Clements, John Musker</td>\n",
              "      <td>Ron Clements (screenplay), John Musker (screen...</td>\n",
              "      <td>Scott Weinger, Robin Williams, Linda Larkin, J...</td>\n",
              "      <td>...</td>\n",
              "      <td>Won 2 Oscars. Another 25 wins &amp; 18 nominations.</td>\n",
              "      <td>NaN</td>\n",
              "      <td>8.0</td>\n",
              "      <td>281,651</td>\n",
              "      <td>tt0103639</td>\n",
              "      <td>movie</td>\n",
              "      <td>5-Oct-04</td>\n",
              "      <td>NaN</td>\n",
              "      <td>Buena Vista Distribution Compa</td>\n",
              "      <td>http://disney.go.com/vault/archives/characters...</td>\n",
              "    </tr>\n",
              "    <tr>\n",
              "      <th>243</th>\n",
              "      <td>243</td>\n",
              "      <td>244</td>\n",
              "      <td>Big Fish</td>\n",
              "      <td>2003</td>\n",
              "      <td>9-Jan-04</td>\n",
              "      <td>125 min</td>\n",
              "      <td>Adventure, Drama, Fantasy</td>\n",
              "      <td>Tim Burton</td>\n",
              "      <td>Daniel Wallace (novel), John August (screenplay)</td>\n",
              "      <td>Ewan McGregor, Albert Finney, Billy Crudup, Je...</td>\n",
              "      <td>...</td>\n",
              "      <td>Nominated for 1 Oscar. Another 1 win &amp; 68 nomi...</td>\n",
              "      <td>58.0</td>\n",
              "      <td>8.0</td>\n",
              "      <td>364,938</td>\n",
              "      <td>tt0319061</td>\n",
              "      <td>movie</td>\n",
              "      <td>27-Apr-04</td>\n",
              "      <td>$66,257,002</td>\n",
              "      <td>Sony Pictures</td>\n",
              "      <td>http://www.sonypictures.com/movies/bigfish/ind...</td>\n",
              "    </tr>\n",
              "    <tr>\n",
              "      <th>244</th>\n",
              "      <td>244</td>\n",
              "      <td>245</td>\n",
              "      <td>Patton</td>\n",
              "      <td>1970</td>\n",
              "      <td>2-Apr-70</td>\n",
              "      <td>172 min</td>\n",
              "      <td>Biography, Drama, War</td>\n",
              "      <td>Franklin J. Schaffner</td>\n",
              "      <td>Francis Ford Coppola (screen story and screenp...</td>\n",
              "      <td>George C. Scott, Karl Malden, Stephen Young, M...</td>\n",
              "      <td>...</td>\n",
              "      <td>Won 7 Oscars. Another 17 wins &amp; 8 nominations.</td>\n",
              "      <td>91.0</td>\n",
              "      <td>8.0</td>\n",
              "      <td>80,730</td>\n",
              "      <td>tt0066206</td>\n",
              "      <td>movie</td>\n",
              "      <td>2-Nov-99</td>\n",
              "      <td>NaN</td>\n",
              "      <td>Twentieth Century Fox Home Entertainment</td>\n",
              "      <td>NaN</td>\n",
              "    </tr>\n",
              "    <tr>\n",
              "      <th>245</th>\n",
              "      <td>245</td>\n",
              "      <td>246</td>\n",
              "      <td>The Lost Weekend</td>\n",
              "      <td>1945</td>\n",
              "      <td>1-Jan-46</td>\n",
              "      <td>101 min</td>\n",
              "      <td>Drama, Film-Noir</td>\n",
              "      <td>Billy Wilder</td>\n",
              "      <td>Charles R. Jackson (from the novel by), Charle...</td>\n",
              "      <td>Ray Milland, Jane Wyman, Phillip Terry, Howard...</td>\n",
              "      <td>...</td>\n",
              "      <td>Won 4 Oscars. Another 12 wins &amp; 3 nominations.</td>\n",
              "      <td>NaN</td>\n",
              "      <td>8.0</td>\n",
              "      <td>26,834</td>\n",
              "      <td>tt0037884</td>\n",
              "      <td>movie</td>\n",
              "      <td>6-Feb-01</td>\n",
              "      <td>NaN</td>\n",
              "      <td>Paramount Pictures</td>\n",
              "      <td>NaN</td>\n",
              "    </tr>\n",
              "    <tr>\n",
              "      <th>246</th>\n",
              "      <td>246</td>\n",
              "      <td>247</td>\n",
              "      <td>Short Term 12</td>\n",
              "      <td>2013</td>\n",
              "      <td>23-Aug-13</td>\n",
              "      <td>96 min</td>\n",
              "      <td>Drama</td>\n",
              "      <td>Destin Daniel Cretton</td>\n",
              "      <td>Destin Daniel Cretton</td>\n",
              "      <td>Brie Larson, John Gallagher Jr., Stephanie Bea...</td>\n",
              "      <td>...</td>\n",
              "      <td>35 wins &amp; 70 nominations.</td>\n",
              "      <td>82.0</td>\n",
              "      <td>8.0</td>\n",
              "      <td>62,348</td>\n",
              "      <td>tt2370248</td>\n",
              "      <td>movie</td>\n",
              "      <td>14-Jan-14</td>\n",
              "      <td>NaN</td>\n",
              "      <td>Cinedigm</td>\n",
              "      <td>http://shortterm12.com</td>\n",
              "    </tr>\n",
              "    <tr>\n",
              "      <th>247</th>\n",
              "      <td>247</td>\n",
              "      <td>248</td>\n",
              "      <td>His Girl Friday</td>\n",
              "      <td>1940</td>\n",
              "      <td>18-Jan-40</td>\n",
              "      <td>92 min</td>\n",
              "      <td>Comedy, Drama, Romance</td>\n",
              "      <td>Howard Hawks</td>\n",
              "      <td>Charles Lederer (screen play), Ben Hecht (from...</td>\n",
              "      <td>Cary Grant, Rosalind Russell, Ralph Bellamy, G...</td>\n",
              "      <td>...</td>\n",
              "      <td>2 wins.</td>\n",
              "      <td>NaN</td>\n",
              "      <td>8.0</td>\n",
              "      <td>43,551</td>\n",
              "      <td>tt0032599</td>\n",
              "      <td>movie</td>\n",
              "      <td>28-Dec-04</td>\n",
              "      <td>NaN</td>\n",
              "      <td>Columbia Pictures</td>\n",
              "      <td>NaN</td>\n",
              "    </tr>\n",
              "    <tr>\n",
              "      <th>248</th>\n",
              "      <td>248</td>\n",
              "      <td>249</td>\n",
              "      <td>The Straight Story</td>\n",
              "      <td>1999</td>\n",
              "      <td>3-Nov-99</td>\n",
              "      <td>112 min</td>\n",
              "      <td>Biography, Drama</td>\n",
              "      <td>David Lynch</td>\n",
              "      <td>John Roach, Mary Sweeney</td>\n",
              "      <td>Sissy Spacek, Jane Galloway Heitz, Joseph A. C...</td>\n",
              "      <td>...</td>\n",
              "      <td>Nominated for 1 Oscar. Another 14 wins &amp; 37 no...</td>\n",
              "      <td>86.0</td>\n",
              "      <td>8.0</td>\n",
              "      <td>67,045</td>\n",
              "      <td>tt0166896</td>\n",
              "      <td>movie</td>\n",
              "      <td>7-Nov-00</td>\n",
              "      <td>NaN</td>\n",
              "      <td>Buena Vista Pictures</td>\n",
              "      <td>http://disney.go.com/DisneyPictures/straightst...</td>\n",
              "    </tr>\n",
              "    <tr>\n",
              "      <th>249</th>\n",
              "      <td>249</td>\n",
              "      <td>250</td>\n",
              "      <td>Slumdog Millionaire</td>\n",
              "      <td>2008</td>\n",
              "      <td>25-Dec-08</td>\n",
              "      <td>120 min</td>\n",
              "      <td>Drama</td>\n",
              "      <td>Danny Boyle, Loveleen Tandan</td>\n",
              "      <td>Simon Beaufoy (screenplay), Vikas Swarup (novel)</td>\n",
              "      <td>Dev Patel, Saurabh Shukla, Anil Kapoor, Raj Zu...</td>\n",
              "      <td>...</td>\n",
              "      <td>Won 8 Oscars. Another 144 wins &amp; 126 nominations.</td>\n",
              "      <td>86.0</td>\n",
              "      <td>8.0</td>\n",
              "      <td>679,975</td>\n",
              "      <td>tt1010048</td>\n",
              "      <td>movie</td>\n",
              "      <td>31-Mar-09</td>\n",
              "      <td>$141,243,551</td>\n",
              "      <td>Fox Searchlight Pictures</td>\n",
              "      <td>http://www.foxsearchlight.com/slumdogmillionaire/</td>\n",
              "    </tr>\n",
              "  </tbody>\n",
              "</table>\n",
              "<p>10 rows × 23 columns</p>\n",
              "</div>\n",
              "      <button class=\"colab-df-convert\" onclick=\"convertToInteractive('df-ee924c08-097c-4b55-900f-e9391048a5df')\"\n",
              "              title=\"Convert this dataframe to an interactive table.\"\n",
              "              style=\"display:none;\">\n",
              "        \n",
              "  <svg xmlns=\"http://www.w3.org/2000/svg\" height=\"24px\"viewBox=\"0 0 24 24\"\n",
              "       width=\"24px\">\n",
              "    <path d=\"M0 0h24v24H0V0z\" fill=\"none\"/>\n",
              "    <path d=\"M18.56 5.44l.94 2.06.94-2.06 2.06-.94-2.06-.94-.94-2.06-.94 2.06-2.06.94zm-11 1L8.5 8.5l.94-2.06 2.06-.94-2.06-.94L8.5 2.5l-.94 2.06-2.06.94zm10 10l.94 2.06.94-2.06 2.06-.94-2.06-.94-.94-2.06-.94 2.06-2.06.94z\"/><path d=\"M17.41 7.96l-1.37-1.37c-.4-.4-.92-.59-1.43-.59-.52 0-1.04.2-1.43.59L10.3 9.45l-7.72 7.72c-.78.78-.78 2.05 0 2.83L4 21.41c.39.39.9.59 1.41.59.51 0 1.02-.2 1.41-.59l7.78-7.78 2.81-2.81c.8-.78.8-2.07 0-2.86zM5.41 20L4 18.59l7.72-7.72 1.47 1.35L5.41 20z\"/>\n",
              "  </svg>\n",
              "      </button>\n",
              "      \n",
              "  <style>\n",
              "    .colab-df-container {\n",
              "      display:flex;\n",
              "      flex-wrap:wrap;\n",
              "      gap: 12px;\n",
              "    }\n",
              "\n",
              "    .colab-df-convert {\n",
              "      background-color: #E8F0FE;\n",
              "      border: none;\n",
              "      border-radius: 50%;\n",
              "      cursor: pointer;\n",
              "      display: none;\n",
              "      fill: #1967D2;\n",
              "      height: 32px;\n",
              "      padding: 0 0 0 0;\n",
              "      width: 32px;\n",
              "    }\n",
              "\n",
              "    .colab-df-convert:hover {\n",
              "      background-color: #E2EBFA;\n",
              "      box-shadow: 0px 1px 2px rgba(60, 64, 67, 0.3), 0px 1px 3px 1px rgba(60, 64, 67, 0.15);\n",
              "      fill: #174EA6;\n",
              "    }\n",
              "\n",
              "    [theme=dark] .colab-df-convert {\n",
              "      background-color: #3B4455;\n",
              "      fill: #D2E3FC;\n",
              "    }\n",
              "\n",
              "    [theme=dark] .colab-df-convert:hover {\n",
              "      background-color: #434B5C;\n",
              "      box-shadow: 0px 1px 3px 1px rgba(0, 0, 0, 0.15);\n",
              "      filter: drop-shadow(0px 1px 2px rgba(0, 0, 0, 0.3));\n",
              "      fill: #FFFFFF;\n",
              "    }\n",
              "  </style>\n",
              "\n",
              "      <script>\n",
              "        const buttonEl =\n",
              "          document.querySelector('#df-ee924c08-097c-4b55-900f-e9391048a5df button.colab-df-convert');\n",
              "        buttonEl.style.display =\n",
              "          google.colab.kernel.accessAllowed ? 'block' : 'none';\n",
              "\n",
              "        async function convertToInteractive(key) {\n",
              "          const element = document.querySelector('#df-ee924c08-097c-4b55-900f-e9391048a5df');\n",
              "          const dataTable =\n",
              "            await google.colab.kernel.invokeFunction('convertToInteractive',\n",
              "                                                     [key], {});\n",
              "          if (!dataTable) return;\n",
              "\n",
              "          const docLinkHtml = 'Like what you see? Visit the ' +\n",
              "            '<a target=\"_blank\" href=https://colab.research.google.com/notebooks/data_table.ipynb>data table notebook</a>'\n",
              "            + ' to learn more about interactive tables.';\n",
              "          element.innerHTML = '';\n",
              "          dataTable['output_type'] = 'display_data';\n",
              "          await google.colab.output.renderOutput(dataTable, element);\n",
              "          const docLink = document.createElement('div');\n",
              "          docLink.innerHTML = docLinkHtml;\n",
              "          element.appendChild(docLink);\n",
              "        }\n",
              "      </script>\n",
              "    </div>\n",
              "  </div>\n",
              "  "
            ],
            "text/plain": [
              "     Unnamed: 0  Num                Title  Year   Released  Runtime  \\\n",
              "240         240  241             Deadpool  2016  12-Feb-16  108 min   \n",
              "241         241  242       The Wild Bunch  1969   7-Aug-69  135 min   \n",
              "242         242  243              Aladdin  1992  25-Nov-92   90 min   \n",
              "243         243  244             Big Fish  2003   9-Jan-04  125 min   \n",
              "244         244  245               Patton  1970   2-Apr-70  172 min   \n",
              "245         245  246     The Lost Weekend  1945   1-Jan-46  101 min   \n",
              "246         246  247        Short Term 12  2013  23-Aug-13   96 min   \n",
              "247         247  248      His Girl Friday  1940  18-Jan-40   92 min   \n",
              "248         248  249   The Straight Story  1999   3-Nov-99  112 min   \n",
              "249         249  250  Slumdog Millionaire  2008  25-Dec-08  120 min   \n",
              "\n",
              "                            Genre                      Director  \\\n",
              "240     Action, Adventure, Comedy                    Tim Miller   \n",
              "241    Action, Adventure, Western                 Sam Peckinpah   \n",
              "242  Animation, Adventure, Comedy     Ron Clements, John Musker   \n",
              "243     Adventure, Drama, Fantasy                    Tim Burton   \n",
              "244         Biography, Drama, War         Franklin J. Schaffner   \n",
              "245              Drama, Film-Noir                  Billy Wilder   \n",
              "246                         Drama         Destin Daniel Cretton   \n",
              "247        Comedy, Drama, Romance                  Howard Hawks   \n",
              "248              Biography, Drama                   David Lynch   \n",
              "249                         Drama  Danny Boyle, Loveleen Tandan   \n",
              "\n",
              "                                                Writer  \\\n",
              "240                          Rhett Reese, Paul Wernick   \n",
              "241  Walon Green (screenplay), Sam Peckinpah (scree...   \n",
              "242  Ron Clements (screenplay), John Musker (screen...   \n",
              "243   Daniel Wallace (novel), John August (screenplay)   \n",
              "244  Francis Ford Coppola (screen story and screenp...   \n",
              "245  Charles R. Jackson (from the novel by), Charle...   \n",
              "246                              Destin Daniel Cretton   \n",
              "247  Charles Lederer (screen play), Ben Hecht (from...   \n",
              "248                           John Roach, Mary Sweeney   \n",
              "249   Simon Beaufoy (screenplay), Vikas Swarup (novel)   \n",
              "\n",
              "                                                Actors  ...  \\\n",
              "240  Ryan Reynolds, Karan Soni, Ed Skrein, Michael ...  ...   \n",
              "241  William Holden, Ernest Borgnine, Robert Ryan, ...  ...   \n",
              "242  Scott Weinger, Robin Williams, Linda Larkin, J...  ...   \n",
              "243  Ewan McGregor, Albert Finney, Billy Crudup, Je...  ...   \n",
              "244  George C. Scott, Karl Malden, Stephen Young, M...  ...   \n",
              "245  Ray Milland, Jane Wyman, Phillip Terry, Howard...  ...   \n",
              "246  Brie Larson, John Gallagher Jr., Stephanie Bea...  ...   \n",
              "247  Cary Grant, Rosalind Russell, Ralph Bellamy, G...  ...   \n",
              "248  Sissy Spacek, Jane Galloway Heitz, Joseph A. C...  ...   \n",
              "249  Dev Patel, Saurabh Shukla, Anil Kapoor, Raj Zu...  ...   \n",
              "\n",
              "                                                Awards Metascore imdbRating  \\\n",
              "240  Nominated for 2 Golden Globes. Another 23 wins...      65.0        8.0   \n",
              "241  Nominated for 2 Oscars. Another 5 wins & 4 nom...       NaN        8.0   \n",
              "242    Won 2 Oscars. Another 25 wins & 18 nominations.       NaN        8.0   \n",
              "243  Nominated for 1 Oscar. Another 1 win & 68 nomi...      58.0        8.0   \n",
              "244     Won 7 Oscars. Another 17 wins & 8 nominations.      91.0        8.0   \n",
              "245     Won 4 Oscars. Another 12 wins & 3 nominations.       NaN        8.0   \n",
              "246                          35 wins & 70 nominations.      82.0        8.0   \n",
              "247                                            2 wins.       NaN        8.0   \n",
              "248  Nominated for 1 Oscar. Another 14 wins & 37 no...      86.0        8.0   \n",
              "249  Won 8 Oscars. Another 144 wins & 126 nominations.      86.0        8.0   \n",
              "\n",
              "    imdbVotes     imdbID   Type        DVD      BoxOffice  \\\n",
              "240   644,281  tt1431045  movie  10-May-16  $328,674,489    \n",
              "241    65,987  tt0065214  movie  27-Aug-97            NaN   \n",
              "242   281,651  tt0103639  movie   5-Oct-04            NaN   \n",
              "243   364,938  tt0319061  movie  27-Apr-04   $66,257,002    \n",
              "244    80,730  tt0066206  movie   2-Nov-99            NaN   \n",
              "245    26,834  tt0037884  movie   6-Feb-01            NaN   \n",
              "246    62,348  tt2370248  movie  14-Jan-14            NaN   \n",
              "247    43,551  tt0032599  movie  28-Dec-04            NaN   \n",
              "248    67,045  tt0166896  movie   7-Nov-00            NaN   \n",
              "249   679,975  tt1010048  movie  31-Mar-09  $141,243,551    \n",
              "\n",
              "                                   Production  \\\n",
              "240                          20th Century Fox   \n",
              "241                     Warner Bros. Pictures   \n",
              "242            Buena Vista Distribution Compa   \n",
              "243                             Sony Pictures   \n",
              "244  Twentieth Century Fox Home Entertainment   \n",
              "245                        Paramount Pictures   \n",
              "246                                  Cinedigm   \n",
              "247                         Columbia Pictures   \n",
              "248                      Buena Vista Pictures   \n",
              "249                  Fox Searchlight Pictures   \n",
              "\n",
              "                                               Website  \n",
              "240                  http://www.foxmovies.com/deadpool  \n",
              "241                                                NaN  \n",
              "242  http://disney.go.com/vault/archives/characters...  \n",
              "243  http://www.sonypictures.com/movies/bigfish/ind...  \n",
              "244                                                NaN  \n",
              "245                                                NaN  \n",
              "246                             http://shortterm12.com  \n",
              "247                                                NaN  \n",
              "248  http://disney.go.com/DisneyPictures/straightst...  \n",
              "249  http://www.foxsearchlight.com/slumdogmillionaire/  \n",
              "\n",
              "[10 rows x 23 columns]"
            ]
          },
          "execution_count": 145,
          "metadata": {},
          "output_type": "execute_result"
        }
      ],
      "source": [
        "df.tail(10)"
      ]
    },
    {
      "cell_type": "markdown",
      "metadata": {
        "id": "xra51Ksbg2Ci"
      },
      "source": [
        "11.4 Return information about your entire dataset"
      ]
    },
    {
      "cell_type": "code",
      "execution_count": null,
      "metadata": {
        "colab": {
          "base_uri": "https://localhost:8080/",
          "height": 300
        },
        "id": "youl7Lw8g2Ci",
        "outputId": "90b175b8-394b-4f34-ec69-5dcba67f65f1"
      },
      "outputs": [
        {
          "data": {
            "text/html": [
              "\n",
              "  <div id=\"df-1042babf-1359-490a-a301-a38aa82a424f\">\n",
              "    <div class=\"colab-df-container\">\n",
              "      <div>\n",
              "<style scoped>\n",
              "    .dataframe tbody tr th:only-of-type {\n",
              "        vertical-align: middle;\n",
              "    }\n",
              "\n",
              "    .dataframe tbody tr th {\n",
              "        vertical-align: top;\n",
              "    }\n",
              "\n",
              "    .dataframe thead th {\n",
              "        text-align: right;\n",
              "    }\n",
              "</style>\n",
              "<table border=\"1\" class=\"dataframe\">\n",
              "  <thead>\n",
              "    <tr style=\"text-align: right;\">\n",
              "      <th></th>\n",
              "      <th>Unnamed: 0</th>\n",
              "      <th>Num</th>\n",
              "      <th>Year</th>\n",
              "      <th>Metascore</th>\n",
              "      <th>imdbRating</th>\n",
              "    </tr>\n",
              "  </thead>\n",
              "  <tbody>\n",
              "    <tr>\n",
              "      <th>count</th>\n",
              "      <td>250.000000</td>\n",
              "      <td>250.000000</td>\n",
              "      <td>250.000000</td>\n",
              "      <td>177.000000</td>\n",
              "      <td>250.000000</td>\n",
              "    </tr>\n",
              "    <tr>\n",
              "      <th>mean</th>\n",
              "      <td>124.500000</td>\n",
              "      <td>125.500000</td>\n",
              "      <td>1982.676000</td>\n",
              "      <td>80.045198</td>\n",
              "      <td>8.244000</td>\n",
              "    </tr>\n",
              "    <tr>\n",
              "      <th>std</th>\n",
              "      <td>72.312977</td>\n",
              "      <td>72.312977</td>\n",
              "      <td>24.809212</td>\n",
              "      <td>11.030340</td>\n",
              "      <td>0.245735</td>\n",
              "    </tr>\n",
              "    <tr>\n",
              "      <th>min</th>\n",
              "      <td>0.000000</td>\n",
              "      <td>1.000000</td>\n",
              "      <td>1921.000000</td>\n",
              "      <td>53.000000</td>\n",
              "      <td>8.000000</td>\n",
              "    </tr>\n",
              "    <tr>\n",
              "      <th>25%</th>\n",
              "      <td>62.250000</td>\n",
              "      <td>63.250000</td>\n",
              "      <td>1961.250000</td>\n",
              "      <td>72.000000</td>\n",
              "      <td>8.100000</td>\n",
              "    </tr>\n",
              "    <tr>\n",
              "      <th>50%</th>\n",
              "      <td>124.500000</td>\n",
              "      <td>125.500000</td>\n",
              "      <td>1988.000000</td>\n",
              "      <td>81.000000</td>\n",
              "      <td>8.200000</td>\n",
              "    </tr>\n",
              "    <tr>\n",
              "      <th>75%</th>\n",
              "      <td>186.750000</td>\n",
              "      <td>187.750000</td>\n",
              "      <td>2003.000000</td>\n",
              "      <td>89.000000</td>\n",
              "      <td>8.375000</td>\n",
              "    </tr>\n",
              "    <tr>\n",
              "      <th>max</th>\n",
              "      <td>249.000000</td>\n",
              "      <td>250.000000</td>\n",
              "      <td>2017.000000</td>\n",
              "      <td>100.000000</td>\n",
              "      <td>9.300000</td>\n",
              "    </tr>\n",
              "  </tbody>\n",
              "</table>\n",
              "</div>\n",
              "      <button class=\"colab-df-convert\" onclick=\"convertToInteractive('df-1042babf-1359-490a-a301-a38aa82a424f')\"\n",
              "              title=\"Convert this dataframe to an interactive table.\"\n",
              "              style=\"display:none;\">\n",
              "        \n",
              "  <svg xmlns=\"http://www.w3.org/2000/svg\" height=\"24px\"viewBox=\"0 0 24 24\"\n",
              "       width=\"24px\">\n",
              "    <path d=\"M0 0h24v24H0V0z\" fill=\"none\"/>\n",
              "    <path d=\"M18.56 5.44l.94 2.06.94-2.06 2.06-.94-2.06-.94-.94-2.06-.94 2.06-2.06.94zm-11 1L8.5 8.5l.94-2.06 2.06-.94-2.06-.94L8.5 2.5l-.94 2.06-2.06.94zm10 10l.94 2.06.94-2.06 2.06-.94-2.06-.94-.94-2.06-.94 2.06-2.06.94z\"/><path d=\"M17.41 7.96l-1.37-1.37c-.4-.4-.92-.59-1.43-.59-.52 0-1.04.2-1.43.59L10.3 9.45l-7.72 7.72c-.78.78-.78 2.05 0 2.83L4 21.41c.39.39.9.59 1.41.59.51 0 1.02-.2 1.41-.59l7.78-7.78 2.81-2.81c.8-.78.8-2.07 0-2.86zM5.41 20L4 18.59l7.72-7.72 1.47 1.35L5.41 20z\"/>\n",
              "  </svg>\n",
              "      </button>\n",
              "      \n",
              "  <style>\n",
              "    .colab-df-container {\n",
              "      display:flex;\n",
              "      flex-wrap:wrap;\n",
              "      gap: 12px;\n",
              "    }\n",
              "\n",
              "    .colab-df-convert {\n",
              "      background-color: #E8F0FE;\n",
              "      border: none;\n",
              "      border-radius: 50%;\n",
              "      cursor: pointer;\n",
              "      display: none;\n",
              "      fill: #1967D2;\n",
              "      height: 32px;\n",
              "      padding: 0 0 0 0;\n",
              "      width: 32px;\n",
              "    }\n",
              "\n",
              "    .colab-df-convert:hover {\n",
              "      background-color: #E2EBFA;\n",
              "      box-shadow: 0px 1px 2px rgba(60, 64, 67, 0.3), 0px 1px 3px 1px rgba(60, 64, 67, 0.15);\n",
              "      fill: #174EA6;\n",
              "    }\n",
              "\n",
              "    [theme=dark] .colab-df-convert {\n",
              "      background-color: #3B4455;\n",
              "      fill: #D2E3FC;\n",
              "    }\n",
              "\n",
              "    [theme=dark] .colab-df-convert:hover {\n",
              "      background-color: #434B5C;\n",
              "      box-shadow: 0px 1px 3px 1px rgba(0, 0, 0, 0.15);\n",
              "      filter: drop-shadow(0px 1px 2px rgba(0, 0, 0, 0.3));\n",
              "      fill: #FFFFFF;\n",
              "    }\n",
              "  </style>\n",
              "\n",
              "      <script>\n",
              "        const buttonEl =\n",
              "          document.querySelector('#df-1042babf-1359-490a-a301-a38aa82a424f button.colab-df-convert');\n",
              "        buttonEl.style.display =\n",
              "          google.colab.kernel.accessAllowed ? 'block' : 'none';\n",
              "\n",
              "        async function convertToInteractive(key) {\n",
              "          const element = document.querySelector('#df-1042babf-1359-490a-a301-a38aa82a424f');\n",
              "          const dataTable =\n",
              "            await google.colab.kernel.invokeFunction('convertToInteractive',\n",
              "                                                     [key], {});\n",
              "          if (!dataTable) return;\n",
              "\n",
              "          const docLinkHtml = 'Like what you see? Visit the ' +\n",
              "            '<a target=\"_blank\" href=https://colab.research.google.com/notebooks/data_table.ipynb>data table notebook</a>'\n",
              "            + ' to learn more about interactive tables.';\n",
              "          element.innerHTML = '';\n",
              "          dataTable['output_type'] = 'display_data';\n",
              "          await google.colab.output.renderOutput(dataTable, element);\n",
              "          const docLink = document.createElement('div');\n",
              "          docLink.innerHTML = docLinkHtml;\n",
              "          element.appendChild(docLink);\n",
              "        }\n",
              "      </script>\n",
              "    </div>\n",
              "  </div>\n",
              "  "
            ],
            "text/plain": [
              "       Unnamed: 0         Num         Year   Metascore  imdbRating\n",
              "count  250.000000  250.000000   250.000000  177.000000  250.000000\n",
              "mean   124.500000  125.500000  1982.676000   80.045198    8.244000\n",
              "std     72.312977   72.312977    24.809212   11.030340    0.245735\n",
              "min      0.000000    1.000000  1921.000000   53.000000    8.000000\n",
              "25%     62.250000   63.250000  1961.250000   72.000000    8.100000\n",
              "50%    124.500000  125.500000  1988.000000   81.000000    8.200000\n",
              "75%    186.750000  187.750000  2003.000000   89.000000    8.375000\n",
              "max    249.000000  250.000000  2017.000000  100.000000    9.300000"
            ]
          },
          "execution_count": 146,
          "metadata": {},
          "output_type": "execute_result"
        }
      ],
      "source": [
        "df.describe()"
      ]
    },
    {
      "cell_type": "markdown",
      "metadata": {
        "id": "mM77xem7g2Ci"
      },
      "source": [
        "11.5 How many NaNs or missing values are in your dataset? Is there any changes that may need to be done to your dataset to handle such cases"
      ]
    },
    {
      "cell_type": "code",
      "execution_count": null,
      "metadata": {
        "colab": {
          "base_uri": "https://localhost:8080/"
        },
        "id": "6VuYdoqNg2Ci",
        "outputId": "7c9f3653-95fd-4952-f21c-ecf3f883a36d"
      },
      "outputs": [
        {
          "name": "stdout",
          "output_type": "stream",
          "text": [
            "Unnamed: 0      0\n",
            "Num             0\n",
            "Title           0\n",
            "Year            0\n",
            "Released        2\n",
            "Runtime         0\n",
            "Genre           0\n",
            "Director        0\n",
            "Writer          1\n",
            "Actors          0\n",
            "Plot            0\n",
            "Language        0\n",
            "Country         0\n",
            "Awards          5\n",
            "Metascore      73\n",
            "imdbRating      0\n",
            "imdbVotes       0\n",
            "imdbID          0\n",
            "Type            0\n",
            "DVD             3\n",
            "BoxOffice     175\n",
            "Production      0\n",
            "Website       119\n",
            "dtype: int64\n"
          ]
        }
      ],
      "source": [
        "print(df.isnull().sum())"
      ]
    },
    {
      "cell_type": "markdown",
      "metadata": {
        "id": "t0c7BsKcg2Ci"
      },
      "source": [
        "11.6 Can you return basic statisitics for atleast 3-5 columns of your dataset? What can you learn from looking at these statistics?"
      ]
    },
    {
      "cell_type": "code",
      "execution_count": null,
      "metadata": {
        "id": "akPJPI5Gg2Cj"
      },
      "outputs": [],
      "source": [
        "#basic stats for metascores\n",
        "\n",
        "#imbdrating\n",
        "#boxoffice\n"
      ]
    },
    {
      "cell_type": "markdown",
      "metadata": {
        "id": "r2q6VghYg2Cj"
      },
      "source": [
        "### 12. Slicing\n",
        "\n",
        "12.1 Return the entire second column of your dataset"
      ]
    },
    {
      "cell_type": "code",
      "execution_count": null,
      "metadata": {
        "colab": {
          "base_uri": "https://localhost:8080/"
        },
        "id": "eDNvQLuHg2Cj",
        "outputId": "d49ca99b-8e71-48d8-f1cb-3e6934d2292c"
      },
      "outputs": [
        {
          "data": {
            "text/plain": [
              "3          The Dark Knight\n",
              "5                      Num\n",
              "6                      Num\n",
              "7                      Num\n",
              "8                      Num\n",
              "              ...         \n",
              "229      The King's Speech\n",
              "234          Blood Diamond\n",
              "240               Deadpool\n",
              "243               Big Fish\n",
              "249    Slumdog Millionaire\n",
              "Name: Title, Length: 70, dtype: object"
            ]
          },
          "execution_count": 165,
          "metadata": {},
          "output_type": "execute_result"
        }
      ],
      "source": [
        "\n",
        "df['Title']\n"
      ]
    },
    {
      "cell_type": "markdown",
      "metadata": {
        "id": "i77lvvXFg2Cj"
      },
      "source": [
        "12.2 Return rows 5-10 of the second column of your dataset "
      ]
    },
    {
      "cell_type": "code",
      "execution_count": null,
      "metadata": {
        "colab": {
          "base_uri": "https://localhost:8080/",
          "height": 1000
        },
        "id": "9xifeR6tlnob",
        "outputId": "c0be2d1c-6859-403e-f3c5-718c64d2e9cf"
      },
      "outputs": [
        {
          "data": {
            "text/html": [
              "\n",
              "     <input type=\"file\" id=\"files-bb6a341c-f28d-4f6e-ab2a-52127129ab11\" name=\"files[]\" multiple disabled\n",
              "        style=\"border:none\" />\n",
              "     <output id=\"result-bb6a341c-f28d-4f6e-ab2a-52127129ab11\">\n",
              "      Upload widget is only available when the cell has been executed in the\n",
              "      current browser session. Please rerun this cell to enable.\n",
              "      </output>\n",
              "      <script>// Copyright 2017 Google LLC\n",
              "//\n",
              "// Licensed under the Apache License, Version 2.0 (the \"License\");\n",
              "// you may not use this file except in compliance with the License.\n",
              "// You may obtain a copy of the License at\n",
              "//\n",
              "//      http://www.apache.org/licenses/LICENSE-2.0\n",
              "//\n",
              "// Unless required by applicable law or agreed to in writing, software\n",
              "// distributed under the License is distributed on an \"AS IS\" BASIS,\n",
              "// WITHOUT WARRANTIES OR CONDITIONS OF ANY KIND, either express or implied.\n",
              "// See the License for the specific language governing permissions and\n",
              "// limitations under the License.\n",
              "\n",
              "/**\n",
              " * @fileoverview Helpers for google.colab Python module.\n",
              " */\n",
              "(function(scope) {\n",
              "function span(text, styleAttributes = {}) {\n",
              "  const element = document.createElement('span');\n",
              "  element.textContent = text;\n",
              "  for (const key of Object.keys(styleAttributes)) {\n",
              "    element.style[key] = styleAttributes[key];\n",
              "  }\n",
              "  return element;\n",
              "}\n",
              "\n",
              "// Max number of bytes which will be uploaded at a time.\n",
              "const MAX_PAYLOAD_SIZE = 100 * 1024;\n",
              "\n",
              "function _uploadFiles(inputId, outputId) {\n",
              "  const steps = uploadFilesStep(inputId, outputId);\n",
              "  const outputElement = document.getElementById(outputId);\n",
              "  // Cache steps on the outputElement to make it available for the next call\n",
              "  // to uploadFilesContinue from Python.\n",
              "  outputElement.steps = steps;\n",
              "\n",
              "  return _uploadFilesContinue(outputId);\n",
              "}\n",
              "\n",
              "// This is roughly an async generator (not supported in the browser yet),\n",
              "// where there are multiple asynchronous steps and the Python side is going\n",
              "// to poll for completion of each step.\n",
              "// This uses a Promise to block the python side on completion of each step,\n",
              "// then passes the result of the previous step as the input to the next step.\n",
              "function _uploadFilesContinue(outputId) {\n",
              "  const outputElement = document.getElementById(outputId);\n",
              "  const steps = outputElement.steps;\n",
              "\n",
              "  const next = steps.next(outputElement.lastPromiseValue);\n",
              "  return Promise.resolve(next.value.promise).then((value) => {\n",
              "    // Cache the last promise value to make it available to the next\n",
              "    // step of the generator.\n",
              "    outputElement.lastPromiseValue = value;\n",
              "    return next.value.response;\n",
              "  });\n",
              "}\n",
              "\n",
              "/**\n",
              " * Generator function which is called between each async step of the upload\n",
              " * process.\n",
              " * @param {string} inputId Element ID of the input file picker element.\n",
              " * @param {string} outputId Element ID of the output display.\n",
              " * @return {!Iterable<!Object>} Iterable of next steps.\n",
              " */\n",
              "function* uploadFilesStep(inputId, outputId) {\n",
              "  const inputElement = document.getElementById(inputId);\n",
              "  inputElement.disabled = false;\n",
              "\n",
              "  const outputElement = document.getElementById(outputId);\n",
              "  outputElement.innerHTML = '';\n",
              "\n",
              "  const pickedPromise = new Promise((resolve) => {\n",
              "    inputElement.addEventListener('change', (e) => {\n",
              "      resolve(e.target.files);\n",
              "    });\n",
              "  });\n",
              "\n",
              "  const cancel = document.createElement('button');\n",
              "  inputElement.parentElement.appendChild(cancel);\n",
              "  cancel.textContent = 'Cancel upload';\n",
              "  const cancelPromise = new Promise((resolve) => {\n",
              "    cancel.onclick = () => {\n",
              "      resolve(null);\n",
              "    };\n",
              "  });\n",
              "\n",
              "  // Wait for the user to pick the files.\n",
              "  const files = yield {\n",
              "    promise: Promise.race([pickedPromise, cancelPromise]),\n",
              "    response: {\n",
              "      action: 'starting',\n",
              "    }\n",
              "  };\n",
              "\n",
              "  cancel.remove();\n",
              "\n",
              "  // Disable the input element since further picks are not allowed.\n",
              "  inputElement.disabled = true;\n",
              "\n",
              "  if (!files) {\n",
              "    return {\n",
              "      response: {\n",
              "        action: 'complete',\n",
              "      }\n",
              "    };\n",
              "  }\n",
              "\n",
              "  for (const file of files) {\n",
              "    const li = document.createElement('li');\n",
              "    li.append(span(file.name, {fontWeight: 'bold'}));\n",
              "    li.append(span(\n",
              "        `(${file.type || 'n/a'}) - ${file.size} bytes, ` +\n",
              "        `last modified: ${\n",
              "            file.lastModifiedDate ? file.lastModifiedDate.toLocaleDateString() :\n",
              "                                    'n/a'} - `));\n",
              "    const percent = span('0% done');\n",
              "    li.appendChild(percent);\n",
              "\n",
              "    outputElement.appendChild(li);\n",
              "\n",
              "    const fileDataPromise = new Promise((resolve) => {\n",
              "      const reader = new FileReader();\n",
              "      reader.onload = (e) => {\n",
              "        resolve(e.target.result);\n",
              "      };\n",
              "      reader.readAsArrayBuffer(file);\n",
              "    });\n",
              "    // Wait for the data to be ready.\n",
              "    let fileData = yield {\n",
              "      promise: fileDataPromise,\n",
              "      response: {\n",
              "        action: 'continue',\n",
              "      }\n",
              "    };\n",
              "\n",
              "    // Use a chunked sending to avoid message size limits. See b/62115660.\n",
              "    let position = 0;\n",
              "    do {\n",
              "      const length = Math.min(fileData.byteLength - position, MAX_PAYLOAD_SIZE);\n",
              "      const chunk = new Uint8Array(fileData, position, length);\n",
              "      position += length;\n",
              "\n",
              "      const base64 = btoa(String.fromCharCode.apply(null, chunk));\n",
              "      yield {\n",
              "        response: {\n",
              "          action: 'append',\n",
              "          file: file.name,\n",
              "          data: base64,\n",
              "        },\n",
              "      };\n",
              "\n",
              "      let percentDone = fileData.byteLength === 0 ?\n",
              "          100 :\n",
              "          Math.round((position / fileData.byteLength) * 100);\n",
              "      percent.textContent = `${percentDone}% done`;\n",
              "\n",
              "    } while (position < fileData.byteLength);\n",
              "  }\n",
              "\n",
              "  // All done.\n",
              "  yield {\n",
              "    response: {\n",
              "      action: 'complete',\n",
              "    }\n",
              "  };\n",
              "}\n",
              "\n",
              "scope.google = scope.google || {};\n",
              "scope.google.colab = scope.google.colab || {};\n",
              "scope.google.colab._files = {\n",
              "  _uploadFiles,\n",
              "  _uploadFilesContinue,\n",
              "};\n",
              "})(self);\n",
              "</script> "
            ],
            "text/plain": [
              "<IPython.core.display.HTML object>"
            ]
          },
          "metadata": {},
          "output_type": "display_data"
        },
        {
          "name": "stdout",
          "output_type": "stream",
          "text": [
            "Saving IMDB_Top_250.csv to IMDB_Top_250 (3).csv\n",
            "     Unnamed: 0  Num                     Title  Year   Released  Runtime  \\\n",
            "0             0    1  The Shawshank Redemption  1994  14-Oct-94  142 min   \n",
            "1             1    2             The Godfather  1972  24-Mar-72  175 min   \n",
            "2             2    3    The Godfather: Part II  1974  20-Dec-74  202 min   \n",
            "3             3    4           The Dark Knight  2008  18-Jul-08  152 min   \n",
            "4             4    5              12 Angry Men  1957   1-Apr-57   96 min   \n",
            "..          ...  ...                       ...   ...        ...      ...   \n",
            "245         245  246          The Lost Weekend  1945   1-Jan-46  101 min   \n",
            "246         246  247             Short Term 12  2013  23-Aug-13   96 min   \n",
            "247         247  248           His Girl Friday  1940  18-Jan-40   92 min   \n",
            "248         248  249        The Straight Story  1999   3-Nov-99  112 min   \n",
            "249         249  250       Slumdog Millionaire  2008  25-Dec-08  120 min   \n",
            "\n",
            "                      Genre                      Director  \\\n",
            "0              Crime, Drama                Frank Darabont   \n",
            "1              Crime, Drama          Francis Ford Coppola   \n",
            "2              Crime, Drama          Francis Ford Coppola   \n",
            "3      Action, Crime, Drama             Christopher Nolan   \n",
            "4              Crime, Drama                  Sidney Lumet   \n",
            "..                      ...                           ...   \n",
            "245        Drama, Film-Noir                  Billy Wilder   \n",
            "246                   Drama         Destin Daniel Cretton   \n",
            "247  Comedy, Drama, Romance                  Howard Hawks   \n",
            "248        Biography, Drama                   David Lynch   \n",
            "249                   Drama  Danny Boyle, Loveleen Tandan   \n",
            "\n",
            "                                                Writer  \\\n",
            "0    Stephen King (short story \"Rita Hayworth and S...   \n",
            "1    Mario Puzo (screenplay), Francis Ford Coppola ...   \n",
            "2    Francis Ford Coppola (screenplay), Mario Puzo ...   \n",
            "3    Jonathan Nolan (screenplay), Christopher Nolan...   \n",
            "4    Reginald Rose (story), Reginald Rose (screenplay)   \n",
            "..                                                 ...   \n",
            "245  Charles R. Jackson (from the novel by), Charle...   \n",
            "246                              Destin Daniel Cretton   \n",
            "247  Charles Lederer (screen play), Ben Hecht (from...   \n",
            "248                           John Roach, Mary Sweeney   \n",
            "249   Simon Beaufoy (screenplay), Vikas Swarup (novel)   \n",
            "\n",
            "                                                Actors  ...  \\\n",
            "0    Tim Robbins, Morgan Freeman, Bob Gunton, Willi...  ...   \n",
            "1    Marlon Brando, Al Pacino, James Caan, Richard ...  ...   \n",
            "2    Al Pacino, Robert Duvall, Diane Keaton, Robert...  ...   \n",
            "3    Christian Bale, Heath Ledger, Aaron Eckhart, M...  ...   \n",
            "4    Martin Balsam, John Fiedler, Lee J. Cobb, E.G....  ...   \n",
            "..                                                 ...  ...   \n",
            "245  Ray Milland, Jane Wyman, Phillip Terry, Howard...  ...   \n",
            "246  Brie Larson, John Gallagher Jr., Stephanie Bea...  ...   \n",
            "247  Cary Grant, Rosalind Russell, Ralph Bellamy, G...  ...   \n",
            "248  Sissy Spacek, Jane Galloway Heitz, Joseph A. C...  ...   \n",
            "249  Dev Patel, Saurabh Shukla, Anil Kapoor, Raj Zu...  ...   \n",
            "\n",
            "                                                Awards Metascore imdbRating  \\\n",
            "0    Nominated for 7 Oscars. Another 19 wins & 30 n...      80.0        9.3   \n",
            "1      Won 3 Oscars. Another 23 wins & 27 nominations.     100.0        9.2   \n",
            "2      Won 6 Oscars. Another 10 wins & 20 nominations.      85.0        9.0   \n",
            "3    Won 2 Oscars. Another 151 wins & 153 nominations.      82.0        9.0   \n",
            "4    Nominated for 3 Oscars. Another 16 wins & 8 no...      96.0        8.9   \n",
            "..                                                 ...       ...        ...   \n",
            "245     Won 4 Oscars. Another 12 wins & 3 nominations.       NaN        8.0   \n",
            "246                          35 wins & 70 nominations.      82.0        8.0   \n",
            "247                                            2 wins.       NaN        8.0   \n",
            "248  Nominated for 1 Oscar. Another 14 wins & 37 no...      86.0        8.0   \n",
            "249  Won 8 Oscars. Another 144 wins & 126 nominations.      86.0        8.0   \n",
            "\n",
            "     imdbVotes     imdbID   Type        DVD      BoxOffice  \\\n",
            "0    1,825,626  tt0111161  movie  27-Jan-98            NaN   \n",
            "1    1,243,444  tt0068646  movie   9-Oct-01            NaN   \n",
            "2      856,870  tt0071562  movie  24-May-05            NaN   \n",
            "3    1,802,351  tt0468569  movie   9-Dec-08  $533,316,061    \n",
            "4      494,215  tt0050083  movie   6-Mar-01            NaN   \n",
            "..         ...        ...    ...        ...            ...   \n",
            "245     26,834  tt0037884  movie   6-Feb-01            NaN   \n",
            "246     62,348  tt2370248  movie  14-Jan-14            NaN   \n",
            "247     43,551  tt0032599  movie  28-Dec-04            NaN   \n",
            "248     67,045  tt0166896  movie   7-Nov-00            NaN   \n",
            "249    679,975  tt1010048  movie  31-Mar-09  $141,243,551    \n",
            "\n",
            "                          Production  \\\n",
            "0                  Columbia Pictures   \n",
            "1                 Paramount Pictures   \n",
            "2                 Paramount Pictures   \n",
            "3    Warner Bros. Pictures/Legendary   \n",
            "4               Criterion Collection   \n",
            "..                               ...   \n",
            "245               Paramount Pictures   \n",
            "246                         Cinedigm   \n",
            "247                Columbia Pictures   \n",
            "248             Buena Vista Pictures   \n",
            "249         Fox Searchlight Pictures   \n",
            "\n",
            "                                               Website  \n",
            "0                                                  NaN  \n",
            "1                          http://www.thegodfather.com  \n",
            "2                         http://www.thegodfather.com/  \n",
            "3                 http://thedarkknight.warnerbros.com/  \n",
            "4    http://www.criterion.com/films/27871-12-angry-men  \n",
            "..                                                 ...  \n",
            "245                                                NaN  \n",
            "246                             http://shortterm12.com  \n",
            "247                                                NaN  \n",
            "248  http://disney.go.com/DisneyPictures/straightst...  \n",
            "249  http://www.foxsearchlight.com/slumdogmillionaire/  \n",
            "\n",
            "[250 rows x 23 columns]\n"
          ]
        }
      ],
      "source": [
        "import pandas as pd\n",
        "import io\n",
        "from google.colab import files\n",
        "import io\n",
        "\n",
        "uploaded = files.upload()\n",
        "\n",
        "df = pd.read_csv(io.BytesIO(uploaded['IMDB_Top_250.csv']))\n",
        "print(df)\n",
        "\n",
        "df.iloc[5:10] = \"Title\""
      ]
    },
    {
      "cell_type": "code",
      "execution_count": null,
      "metadata": {
        "colab": {
          "base_uri": "https://localhost:8080/"
        },
        "id": "zejMVg4fpsl-",
        "outputId": "2b75abea-b921-4c09-c1c9-08689207f42a"
      },
      "outputs": [
        {
          "data": {
            "text/plain": [
              "5            Title\n",
              "6            Title\n",
              "7            Title\n",
              "8            Title\n",
              "9            Title\n",
              "10    Forrest Gump\n",
              "Name: Title, dtype: object"
            ]
          },
          "execution_count": 171,
          "metadata": {},
          "output_type": "execute_result"
        }
      ],
      "source": [
        "df.loc[5:10, 'Title']"
      ]
    },
    {
      "cell_type": "markdown",
      "metadata": {
        "id": "95IyVQYPg2Ck"
      },
      "source": [
        "### 13. Cleaning\n",
        "\n",
        "13.1 Remove all NaN values from the dataset. Return output that proves there are 0 NaN values"
      ]
    },
    {
      "cell_type": "code",
      "execution_count": null,
      "metadata": {
        "colab": {
          "base_uri": "https://localhost:8080/",
          "height": 1000
        },
        "id": "mnINFIy-g2Ck",
        "outputId": "c9d2739c-05f2-42bd-e3db-7b4313548c4c"
      },
      "outputs": [
        {
          "data": {
            "text/html": [
              "\n",
              "  <div id=\"df-e3bdfe49-27c4-4a25-9c81-20f3d67c43ae\">\n",
              "    <div class=\"colab-df-container\">\n",
              "      <div>\n",
              "<style scoped>\n",
              "    .dataframe tbody tr th:only-of-type {\n",
              "        vertical-align: middle;\n",
              "    }\n",
              "\n",
              "    .dataframe tbody tr th {\n",
              "        vertical-align: top;\n",
              "    }\n",
              "\n",
              "    .dataframe thead th {\n",
              "        text-align: right;\n",
              "    }\n",
              "</style>\n",
              "<table border=\"1\" class=\"dataframe\">\n",
              "  <thead>\n",
              "    <tr style=\"text-align: right;\">\n",
              "      <th></th>\n",
              "      <th>Unnamed: 0</th>\n",
              "      <th>Num</th>\n",
              "      <th>Title</th>\n",
              "      <th>Year</th>\n",
              "      <th>Released</th>\n",
              "      <th>Runtime</th>\n",
              "      <th>Genre</th>\n",
              "      <th>Director</th>\n",
              "      <th>Writer</th>\n",
              "      <th>Actors</th>\n",
              "      <th>...</th>\n",
              "      <th>Awards</th>\n",
              "      <th>Metascore</th>\n",
              "      <th>imdbRating</th>\n",
              "      <th>imdbVotes</th>\n",
              "      <th>imdbID</th>\n",
              "      <th>Type</th>\n",
              "      <th>DVD</th>\n",
              "      <th>BoxOffice</th>\n",
              "      <th>Production</th>\n",
              "      <th>Website</th>\n",
              "    </tr>\n",
              "  </thead>\n",
              "  <tbody>\n",
              "    <tr>\n",
              "      <th>3</th>\n",
              "      <td>3</td>\n",
              "      <td>4</td>\n",
              "      <td>The Dark Knight</td>\n",
              "      <td>2008</td>\n",
              "      <td>18-Jul-08</td>\n",
              "      <td>152 min</td>\n",
              "      <td>Action, Crime, Drama</td>\n",
              "      <td>Christopher Nolan</td>\n",
              "      <td>Jonathan Nolan (screenplay), Christopher Nolan...</td>\n",
              "      <td>Christian Bale, Heath Ledger, Aaron Eckhart, M...</td>\n",
              "      <td>...</td>\n",
              "      <td>Won 2 Oscars. Another 151 wins &amp; 153 nominations.</td>\n",
              "      <td>82.0</td>\n",
              "      <td>9.0</td>\n",
              "      <td>1,802,351</td>\n",
              "      <td>tt0468569</td>\n",
              "      <td>movie</td>\n",
              "      <td>9-Dec-08</td>\n",
              "      <td>$533,316,061</td>\n",
              "      <td>Warner Bros. Pictures/Legendary</td>\n",
              "      <td>http://thedarkknight.warnerbros.com/</td>\n",
              "    </tr>\n",
              "    <tr>\n",
              "      <th>5</th>\n",
              "      <td>Title</td>\n",
              "      <td>Title</td>\n",
              "      <td>Title</td>\n",
              "      <td>Title</td>\n",
              "      <td>Title</td>\n",
              "      <td>Title</td>\n",
              "      <td>Title</td>\n",
              "      <td>Title</td>\n",
              "      <td>Title</td>\n",
              "      <td>Title</td>\n",
              "      <td>...</td>\n",
              "      <td>Title</td>\n",
              "      <td>Title</td>\n",
              "      <td>Title</td>\n",
              "      <td>Title</td>\n",
              "      <td>Title</td>\n",
              "      <td>Title</td>\n",
              "      <td>Title</td>\n",
              "      <td>Title</td>\n",
              "      <td>Title</td>\n",
              "      <td>Title</td>\n",
              "    </tr>\n",
              "    <tr>\n",
              "      <th>6</th>\n",
              "      <td>Title</td>\n",
              "      <td>Title</td>\n",
              "      <td>Title</td>\n",
              "      <td>Title</td>\n",
              "      <td>Title</td>\n",
              "      <td>Title</td>\n",
              "      <td>Title</td>\n",
              "      <td>Title</td>\n",
              "      <td>Title</td>\n",
              "      <td>Title</td>\n",
              "      <td>...</td>\n",
              "      <td>Title</td>\n",
              "      <td>Title</td>\n",
              "      <td>Title</td>\n",
              "      <td>Title</td>\n",
              "      <td>Title</td>\n",
              "      <td>Title</td>\n",
              "      <td>Title</td>\n",
              "      <td>Title</td>\n",
              "      <td>Title</td>\n",
              "      <td>Title</td>\n",
              "    </tr>\n",
              "    <tr>\n",
              "      <th>7</th>\n",
              "      <td>Title</td>\n",
              "      <td>Title</td>\n",
              "      <td>Title</td>\n",
              "      <td>Title</td>\n",
              "      <td>Title</td>\n",
              "      <td>Title</td>\n",
              "      <td>Title</td>\n",
              "      <td>Title</td>\n",
              "      <td>Title</td>\n",
              "      <td>Title</td>\n",
              "      <td>...</td>\n",
              "      <td>Title</td>\n",
              "      <td>Title</td>\n",
              "      <td>Title</td>\n",
              "      <td>Title</td>\n",
              "      <td>Title</td>\n",
              "      <td>Title</td>\n",
              "      <td>Title</td>\n",
              "      <td>Title</td>\n",
              "      <td>Title</td>\n",
              "      <td>Title</td>\n",
              "    </tr>\n",
              "    <tr>\n",
              "      <th>8</th>\n",
              "      <td>Title</td>\n",
              "      <td>Title</td>\n",
              "      <td>Title</td>\n",
              "      <td>Title</td>\n",
              "      <td>Title</td>\n",
              "      <td>Title</td>\n",
              "      <td>Title</td>\n",
              "      <td>Title</td>\n",
              "      <td>Title</td>\n",
              "      <td>Title</td>\n",
              "      <td>...</td>\n",
              "      <td>Title</td>\n",
              "      <td>Title</td>\n",
              "      <td>Title</td>\n",
              "      <td>Title</td>\n",
              "      <td>Title</td>\n",
              "      <td>Title</td>\n",
              "      <td>Title</td>\n",
              "      <td>Title</td>\n",
              "      <td>Title</td>\n",
              "      <td>Title</td>\n",
              "    </tr>\n",
              "    <tr>\n",
              "      <th>...</th>\n",
              "      <td>...</td>\n",
              "      <td>...</td>\n",
              "      <td>...</td>\n",
              "      <td>...</td>\n",
              "      <td>...</td>\n",
              "      <td>...</td>\n",
              "      <td>...</td>\n",
              "      <td>...</td>\n",
              "      <td>...</td>\n",
              "      <td>...</td>\n",
              "      <td>...</td>\n",
              "      <td>...</td>\n",
              "      <td>...</td>\n",
              "      <td>...</td>\n",
              "      <td>...</td>\n",
              "      <td>...</td>\n",
              "      <td>...</td>\n",
              "      <td>...</td>\n",
              "      <td>...</td>\n",
              "      <td>...</td>\n",
              "      <td>...</td>\n",
              "    </tr>\n",
              "    <tr>\n",
              "      <th>229</th>\n",
              "      <td>229</td>\n",
              "      <td>230</td>\n",
              "      <td>The King's Speech</td>\n",
              "      <td>2010</td>\n",
              "      <td>25-Dec-10</td>\n",
              "      <td>118 min</td>\n",
              "      <td>Biography, Drama</td>\n",
              "      <td>Tom Hooper</td>\n",
              "      <td>David Seidler (screenplay)</td>\n",
              "      <td>Colin Firth, Helena Bonham Carter, Derek Jacob...</td>\n",
              "      <td>...</td>\n",
              "      <td>Won 4 Oscars. Another 103 wins &amp; 194 nominations.</td>\n",
              "      <td>88.0</td>\n",
              "      <td>8.0</td>\n",
              "      <td>537,662</td>\n",
              "      <td>tt1504320</td>\n",
              "      <td>movie</td>\n",
              "      <td>19-Apr-11</td>\n",
              "      <td>$138,300,000</td>\n",
              "      <td>The Weinstein Company</td>\n",
              "      <td>http://www.kingsspeech.com/</td>\n",
              "    </tr>\n",
              "    <tr>\n",
              "      <th>234</th>\n",
              "      <td>234</td>\n",
              "      <td>235</td>\n",
              "      <td>Blood Diamond</td>\n",
              "      <td>2006</td>\n",
              "      <td>8-Dec-06</td>\n",
              "      <td>143 min</td>\n",
              "      <td>Adventure, Drama, Thriller</td>\n",
              "      <td>Edward Zwick</td>\n",
              "      <td>Charles Leavitt (screenplay), Charles Leavitt ...</td>\n",
              "      <td>Leonardo DiCaprio, Djimon Hounsou, Jennifer Co...</td>\n",
              "      <td>...</td>\n",
              "      <td>Nominated for 5 Oscars. Another 8 wins &amp; 26 no...</td>\n",
              "      <td>64.0</td>\n",
              "      <td>8.0</td>\n",
              "      <td>424,781</td>\n",
              "      <td>tt0450259</td>\n",
              "      <td>movie</td>\n",
              "      <td>20-Mar-07</td>\n",
              "      <td>$57,300,000</td>\n",
              "      <td>Warner Bros. Pictures</td>\n",
              "      <td>http://www.blooddiamondmovie.com/</td>\n",
              "    </tr>\n",
              "    <tr>\n",
              "      <th>240</th>\n",
              "      <td>240</td>\n",
              "      <td>241</td>\n",
              "      <td>Deadpool</td>\n",
              "      <td>2016</td>\n",
              "      <td>12-Feb-16</td>\n",
              "      <td>108 min</td>\n",
              "      <td>Action, Adventure, Comedy</td>\n",
              "      <td>Tim Miller</td>\n",
              "      <td>Rhett Reese, Paul Wernick</td>\n",
              "      <td>Ryan Reynolds, Karan Soni, Ed Skrein, Michael ...</td>\n",
              "      <td>...</td>\n",
              "      <td>Nominated for 2 Golden Globes. Another 23 wins...</td>\n",
              "      <td>65.0</td>\n",
              "      <td>8.0</td>\n",
              "      <td>644,281</td>\n",
              "      <td>tt1431045</td>\n",
              "      <td>movie</td>\n",
              "      <td>10-May-16</td>\n",
              "      <td>$328,674,489</td>\n",
              "      <td>20th Century Fox</td>\n",
              "      <td>http://www.foxmovies.com/deadpool</td>\n",
              "    </tr>\n",
              "    <tr>\n",
              "      <th>243</th>\n",
              "      <td>243</td>\n",
              "      <td>244</td>\n",
              "      <td>Big Fish</td>\n",
              "      <td>2003</td>\n",
              "      <td>9-Jan-04</td>\n",
              "      <td>125 min</td>\n",
              "      <td>Adventure, Drama, Fantasy</td>\n",
              "      <td>Tim Burton</td>\n",
              "      <td>Daniel Wallace (novel), John August (screenplay)</td>\n",
              "      <td>Ewan McGregor, Albert Finney, Billy Crudup, Je...</td>\n",
              "      <td>...</td>\n",
              "      <td>Nominated for 1 Oscar. Another 1 win &amp; 68 nomi...</td>\n",
              "      <td>58.0</td>\n",
              "      <td>8.0</td>\n",
              "      <td>364,938</td>\n",
              "      <td>tt0319061</td>\n",
              "      <td>movie</td>\n",
              "      <td>27-Apr-04</td>\n",
              "      <td>$66,257,002</td>\n",
              "      <td>Sony Pictures</td>\n",
              "      <td>http://www.sonypictures.com/movies/bigfish/ind...</td>\n",
              "    </tr>\n",
              "    <tr>\n",
              "      <th>249</th>\n",
              "      <td>249</td>\n",
              "      <td>250</td>\n",
              "      <td>Slumdog Millionaire</td>\n",
              "      <td>2008</td>\n",
              "      <td>25-Dec-08</td>\n",
              "      <td>120 min</td>\n",
              "      <td>Drama</td>\n",
              "      <td>Danny Boyle, Loveleen Tandan</td>\n",
              "      <td>Simon Beaufoy (screenplay), Vikas Swarup (novel)</td>\n",
              "      <td>Dev Patel, Saurabh Shukla, Anil Kapoor, Raj Zu...</td>\n",
              "      <td>...</td>\n",
              "      <td>Won 8 Oscars. Another 144 wins &amp; 126 nominations.</td>\n",
              "      <td>86.0</td>\n",
              "      <td>8.0</td>\n",
              "      <td>679,975</td>\n",
              "      <td>tt1010048</td>\n",
              "      <td>movie</td>\n",
              "      <td>31-Mar-09</td>\n",
              "      <td>$141,243,551</td>\n",
              "      <td>Fox Searchlight Pictures</td>\n",
              "      <td>http://www.foxsearchlight.com/slumdogmillionaire/</td>\n",
              "    </tr>\n",
              "  </tbody>\n",
              "</table>\n",
              "<p>70 rows × 23 columns</p>\n",
              "</div>\n",
              "      <button class=\"colab-df-convert\" onclick=\"convertToInteractive('df-e3bdfe49-27c4-4a25-9c81-20f3d67c43ae')\"\n",
              "              title=\"Convert this dataframe to an interactive table.\"\n",
              "              style=\"display:none;\">\n",
              "        \n",
              "  <svg xmlns=\"http://www.w3.org/2000/svg\" height=\"24px\"viewBox=\"0 0 24 24\"\n",
              "       width=\"24px\">\n",
              "    <path d=\"M0 0h24v24H0V0z\" fill=\"none\"/>\n",
              "    <path d=\"M18.56 5.44l.94 2.06.94-2.06 2.06-.94-2.06-.94-.94-2.06-.94 2.06-2.06.94zm-11 1L8.5 8.5l.94-2.06 2.06-.94-2.06-.94L8.5 2.5l-.94 2.06-2.06.94zm10 10l.94 2.06.94-2.06 2.06-.94-2.06-.94-.94-2.06-.94 2.06-2.06.94z\"/><path d=\"M17.41 7.96l-1.37-1.37c-.4-.4-.92-.59-1.43-.59-.52 0-1.04.2-1.43.59L10.3 9.45l-7.72 7.72c-.78.78-.78 2.05 0 2.83L4 21.41c.39.39.9.59 1.41.59.51 0 1.02-.2 1.41-.59l7.78-7.78 2.81-2.81c.8-.78.8-2.07 0-2.86zM5.41 20L4 18.59l7.72-7.72 1.47 1.35L5.41 20z\"/>\n",
              "  </svg>\n",
              "      </button>\n",
              "      \n",
              "  <style>\n",
              "    .colab-df-container {\n",
              "      display:flex;\n",
              "      flex-wrap:wrap;\n",
              "      gap: 12px;\n",
              "    }\n",
              "\n",
              "    .colab-df-convert {\n",
              "      background-color: #E8F0FE;\n",
              "      border: none;\n",
              "      border-radius: 50%;\n",
              "      cursor: pointer;\n",
              "      display: none;\n",
              "      fill: #1967D2;\n",
              "      height: 32px;\n",
              "      padding: 0 0 0 0;\n",
              "      width: 32px;\n",
              "    }\n",
              "\n",
              "    .colab-df-convert:hover {\n",
              "      background-color: #E2EBFA;\n",
              "      box-shadow: 0px 1px 2px rgba(60, 64, 67, 0.3), 0px 1px 3px 1px rgba(60, 64, 67, 0.15);\n",
              "      fill: #174EA6;\n",
              "    }\n",
              "\n",
              "    [theme=dark] .colab-df-convert {\n",
              "      background-color: #3B4455;\n",
              "      fill: #D2E3FC;\n",
              "    }\n",
              "\n",
              "    [theme=dark] .colab-df-convert:hover {\n",
              "      background-color: #434B5C;\n",
              "      box-shadow: 0px 1px 3px 1px rgba(0, 0, 0, 0.15);\n",
              "      filter: drop-shadow(0px 1px 2px rgba(0, 0, 0, 0.3));\n",
              "      fill: #FFFFFF;\n",
              "    }\n",
              "  </style>\n",
              "\n",
              "      <script>\n",
              "        const buttonEl =\n",
              "          document.querySelector('#df-e3bdfe49-27c4-4a25-9c81-20f3d67c43ae button.colab-df-convert');\n",
              "        buttonEl.style.display =\n",
              "          google.colab.kernel.accessAllowed ? 'block' : 'none';\n",
              "\n",
              "        async function convertToInteractive(key) {\n",
              "          const element = document.querySelector('#df-e3bdfe49-27c4-4a25-9c81-20f3d67c43ae');\n",
              "          const dataTable =\n",
              "            await google.colab.kernel.invokeFunction('convertToInteractive',\n",
              "                                                     [key], {});\n",
              "          if (!dataTable) return;\n",
              "\n",
              "          const docLinkHtml = 'Like what you see? Visit the ' +\n",
              "            '<a target=\"_blank\" href=https://colab.research.google.com/notebooks/data_table.ipynb>data table notebook</a>'\n",
              "            + ' to learn more about interactive tables.';\n",
              "          element.innerHTML = '';\n",
              "          dataTable['output_type'] = 'display_data';\n",
              "          await google.colab.output.renderOutput(dataTable, element);\n",
              "          const docLink = document.createElement('div');\n",
              "          docLink.innerHTML = docLinkHtml;\n",
              "          element.appendChild(docLink);\n",
              "        }\n",
              "      </script>\n",
              "    </div>\n",
              "  </div>\n",
              "  "
            ],
            "text/plain": [
              "    Unnamed: 0    Num                Title   Year   Released  Runtime  \\\n",
              "3            3      4      The Dark Knight   2008  18-Jul-08  152 min   \n",
              "5        Title  Title                Title  Title      Title    Title   \n",
              "6        Title  Title                Title  Title      Title    Title   \n",
              "7        Title  Title                Title  Title      Title    Title   \n",
              "8        Title  Title                Title  Title      Title    Title   \n",
              "..         ...    ...                  ...    ...        ...      ...   \n",
              "229        229    230    The King's Speech   2010  25-Dec-10  118 min   \n",
              "234        234    235        Blood Diamond   2006   8-Dec-06  143 min   \n",
              "240        240    241             Deadpool   2016  12-Feb-16  108 min   \n",
              "243        243    244             Big Fish   2003   9-Jan-04  125 min   \n",
              "249        249    250  Slumdog Millionaire   2008  25-Dec-08  120 min   \n",
              "\n",
              "                          Genre                      Director  \\\n",
              "3          Action, Crime, Drama             Christopher Nolan   \n",
              "5                         Title                         Title   \n",
              "6                         Title                         Title   \n",
              "7                         Title                         Title   \n",
              "8                         Title                         Title   \n",
              "..                          ...                           ...   \n",
              "229            Biography, Drama                    Tom Hooper   \n",
              "234  Adventure, Drama, Thriller                  Edward Zwick   \n",
              "240   Action, Adventure, Comedy                    Tim Miller   \n",
              "243   Adventure, Drama, Fantasy                    Tim Burton   \n",
              "249                       Drama  Danny Boyle, Loveleen Tandan   \n",
              "\n",
              "                                                Writer  \\\n",
              "3    Jonathan Nolan (screenplay), Christopher Nolan...   \n",
              "5                                                Title   \n",
              "6                                                Title   \n",
              "7                                                Title   \n",
              "8                                                Title   \n",
              "..                                                 ...   \n",
              "229                         David Seidler (screenplay)   \n",
              "234  Charles Leavitt (screenplay), Charles Leavitt ...   \n",
              "240                          Rhett Reese, Paul Wernick   \n",
              "243   Daniel Wallace (novel), John August (screenplay)   \n",
              "249   Simon Beaufoy (screenplay), Vikas Swarup (novel)   \n",
              "\n",
              "                                                Actors  ...  \\\n",
              "3    Christian Bale, Heath Ledger, Aaron Eckhart, M...  ...   \n",
              "5                                                Title  ...   \n",
              "6                                                Title  ...   \n",
              "7                                                Title  ...   \n",
              "8                                                Title  ...   \n",
              "..                                                 ...  ...   \n",
              "229  Colin Firth, Helena Bonham Carter, Derek Jacob...  ...   \n",
              "234  Leonardo DiCaprio, Djimon Hounsou, Jennifer Co...  ...   \n",
              "240  Ryan Reynolds, Karan Soni, Ed Skrein, Michael ...  ...   \n",
              "243  Ewan McGregor, Albert Finney, Billy Crudup, Je...  ...   \n",
              "249  Dev Patel, Saurabh Shukla, Anil Kapoor, Raj Zu...  ...   \n",
              "\n",
              "                                                Awards Metascore imdbRating  \\\n",
              "3    Won 2 Oscars. Another 151 wins & 153 nominations.      82.0        9.0   \n",
              "5                                                Title     Title      Title   \n",
              "6                                                Title     Title      Title   \n",
              "7                                                Title     Title      Title   \n",
              "8                                                Title     Title      Title   \n",
              "..                                                 ...       ...        ...   \n",
              "229  Won 4 Oscars. Another 103 wins & 194 nominations.      88.0        8.0   \n",
              "234  Nominated for 5 Oscars. Another 8 wins & 26 no...      64.0        8.0   \n",
              "240  Nominated for 2 Golden Globes. Another 23 wins...      65.0        8.0   \n",
              "243  Nominated for 1 Oscar. Another 1 win & 68 nomi...      58.0        8.0   \n",
              "249  Won 8 Oscars. Another 144 wins & 126 nominations.      86.0        8.0   \n",
              "\n",
              "     imdbVotes     imdbID   Type        DVD      BoxOffice  \\\n",
              "3    1,802,351  tt0468569  movie   9-Dec-08  $533,316,061    \n",
              "5        Title      Title  Title      Title          Title   \n",
              "6        Title      Title  Title      Title          Title   \n",
              "7        Title      Title  Title      Title          Title   \n",
              "8        Title      Title  Title      Title          Title   \n",
              "..         ...        ...    ...        ...            ...   \n",
              "229    537,662  tt1504320  movie  19-Apr-11  $138,300,000    \n",
              "234    424,781  tt0450259  movie  20-Mar-07   $57,300,000    \n",
              "240    644,281  tt1431045  movie  10-May-16  $328,674,489    \n",
              "243    364,938  tt0319061  movie  27-Apr-04   $66,257,002    \n",
              "249    679,975  tt1010048  movie  31-Mar-09  $141,243,551    \n",
              "\n",
              "                          Production  \\\n",
              "3    Warner Bros. Pictures/Legendary   \n",
              "5                              Title   \n",
              "6                              Title   \n",
              "7                              Title   \n",
              "8                              Title   \n",
              "..                               ...   \n",
              "229            The Weinstein Company   \n",
              "234            Warner Bros. Pictures   \n",
              "240                 20th Century Fox   \n",
              "243                    Sony Pictures   \n",
              "249         Fox Searchlight Pictures   \n",
              "\n",
              "                                               Website  \n",
              "3                 http://thedarkknight.warnerbros.com/  \n",
              "5                                                Title  \n",
              "6                                                Title  \n",
              "7                                                Title  \n",
              "8                                                Title  \n",
              "..                                                 ...  \n",
              "229                        http://www.kingsspeech.com/  \n",
              "234                  http://www.blooddiamondmovie.com/  \n",
              "240                  http://www.foxmovies.com/deadpool  \n",
              "243  http://www.sonypictures.com/movies/bigfish/ind...  \n",
              "249  http://www.foxsearchlight.com/slumdogmillionaire/  \n",
              "\n",
              "[70 rows x 23 columns]"
            ]
          },
          "execution_count": 172,
          "metadata": {},
          "output_type": "execute_result"
        }
      ],
      "source": [
        "df.dropna()"
      ]
    },
    {
      "cell_type": "code",
      "execution_count": null,
      "metadata": {
        "colab": {
          "base_uri": "https://localhost:8080/",
          "height": 1000
        },
        "id": "TooD5V-PL29d",
        "outputId": "4bcedaa5-2a88-4619-ce37-39cf31da3ff6"
      },
      "outputs": [
        {
          "data": {
            "text/html": [
              "\n",
              "  <div id=\"df-fe958427-8566-462a-a188-bd62ebba7355\">\n",
              "    <div class=\"colab-df-container\">\n",
              "      <div>\n",
              "<style scoped>\n",
              "    .dataframe tbody tr th:only-of-type {\n",
              "        vertical-align: middle;\n",
              "    }\n",
              "\n",
              "    .dataframe tbody tr th {\n",
              "        vertical-align: top;\n",
              "    }\n",
              "\n",
              "    .dataframe thead th {\n",
              "        text-align: right;\n",
              "    }\n",
              "</style>\n",
              "<table border=\"1\" class=\"dataframe\">\n",
              "  <thead>\n",
              "    <tr style=\"text-align: right;\">\n",
              "      <th></th>\n",
              "      <th>Unnamed: 0</th>\n",
              "      <th>Num</th>\n",
              "      <th>Title</th>\n",
              "      <th>Year</th>\n",
              "      <th>Released</th>\n",
              "      <th>Runtime</th>\n",
              "      <th>Genre</th>\n",
              "      <th>Director</th>\n",
              "      <th>Writer</th>\n",
              "      <th>Actors</th>\n",
              "      <th>...</th>\n",
              "      <th>Awards</th>\n",
              "      <th>Metascore</th>\n",
              "      <th>imdbRating</th>\n",
              "      <th>imdbVotes</th>\n",
              "      <th>imdbID</th>\n",
              "      <th>Type</th>\n",
              "      <th>DVD</th>\n",
              "      <th>BoxOffice</th>\n",
              "      <th>Production</th>\n",
              "      <th>Website</th>\n",
              "    </tr>\n",
              "  </thead>\n",
              "  <tbody>\n",
              "    <tr>\n",
              "      <th>3</th>\n",
              "      <td>3</td>\n",
              "      <td>4</td>\n",
              "      <td>The Dark Knight</td>\n",
              "      <td>2008</td>\n",
              "      <td>18-Jul-08</td>\n",
              "      <td>152 min</td>\n",
              "      <td>Action, Crime, Drama</td>\n",
              "      <td>Christopher Nolan</td>\n",
              "      <td>Jonathan Nolan (screenplay), Christopher Nolan...</td>\n",
              "      <td>Christian Bale, Heath Ledger, Aaron Eckhart, M...</td>\n",
              "      <td>...</td>\n",
              "      <td>Won 2 Oscars. Another 151 wins &amp; 153 nominations.</td>\n",
              "      <td>82.0</td>\n",
              "      <td>9.0</td>\n",
              "      <td>1,802,351</td>\n",
              "      <td>tt0468569</td>\n",
              "      <td>movie</td>\n",
              "      <td>9-Dec-08</td>\n",
              "      <td>$533,316,061</td>\n",
              "      <td>Warner Bros. Pictures/Legendary</td>\n",
              "      <td>http://thedarkknight.warnerbros.com/</td>\n",
              "    </tr>\n",
              "    <tr>\n",
              "      <th>5</th>\n",
              "      <td>Title</td>\n",
              "      <td>Title</td>\n",
              "      <td>Title</td>\n",
              "      <td>Title</td>\n",
              "      <td>Title</td>\n",
              "      <td>Title</td>\n",
              "      <td>Title</td>\n",
              "      <td>Title</td>\n",
              "      <td>Title</td>\n",
              "      <td>Title</td>\n",
              "      <td>...</td>\n",
              "      <td>Title</td>\n",
              "      <td>Title</td>\n",
              "      <td>Title</td>\n",
              "      <td>Title</td>\n",
              "      <td>Title</td>\n",
              "      <td>Title</td>\n",
              "      <td>Title</td>\n",
              "      <td>Title</td>\n",
              "      <td>Title</td>\n",
              "      <td>Title</td>\n",
              "    </tr>\n",
              "    <tr>\n",
              "      <th>6</th>\n",
              "      <td>Title</td>\n",
              "      <td>Title</td>\n",
              "      <td>Title</td>\n",
              "      <td>Title</td>\n",
              "      <td>Title</td>\n",
              "      <td>Title</td>\n",
              "      <td>Title</td>\n",
              "      <td>Title</td>\n",
              "      <td>Title</td>\n",
              "      <td>Title</td>\n",
              "      <td>...</td>\n",
              "      <td>Title</td>\n",
              "      <td>Title</td>\n",
              "      <td>Title</td>\n",
              "      <td>Title</td>\n",
              "      <td>Title</td>\n",
              "      <td>Title</td>\n",
              "      <td>Title</td>\n",
              "      <td>Title</td>\n",
              "      <td>Title</td>\n",
              "      <td>Title</td>\n",
              "    </tr>\n",
              "    <tr>\n",
              "      <th>7</th>\n",
              "      <td>Title</td>\n",
              "      <td>Title</td>\n",
              "      <td>Title</td>\n",
              "      <td>Title</td>\n",
              "      <td>Title</td>\n",
              "      <td>Title</td>\n",
              "      <td>Title</td>\n",
              "      <td>Title</td>\n",
              "      <td>Title</td>\n",
              "      <td>Title</td>\n",
              "      <td>...</td>\n",
              "      <td>Title</td>\n",
              "      <td>Title</td>\n",
              "      <td>Title</td>\n",
              "      <td>Title</td>\n",
              "      <td>Title</td>\n",
              "      <td>Title</td>\n",
              "      <td>Title</td>\n",
              "      <td>Title</td>\n",
              "      <td>Title</td>\n",
              "      <td>Title</td>\n",
              "    </tr>\n",
              "    <tr>\n",
              "      <th>8</th>\n",
              "      <td>Title</td>\n",
              "      <td>Title</td>\n",
              "      <td>Title</td>\n",
              "      <td>Title</td>\n",
              "      <td>Title</td>\n",
              "      <td>Title</td>\n",
              "      <td>Title</td>\n",
              "      <td>Title</td>\n",
              "      <td>Title</td>\n",
              "      <td>Title</td>\n",
              "      <td>...</td>\n",
              "      <td>Title</td>\n",
              "      <td>Title</td>\n",
              "      <td>Title</td>\n",
              "      <td>Title</td>\n",
              "      <td>Title</td>\n",
              "      <td>Title</td>\n",
              "      <td>Title</td>\n",
              "      <td>Title</td>\n",
              "      <td>Title</td>\n",
              "      <td>Title</td>\n",
              "    </tr>\n",
              "    <tr>\n",
              "      <th>...</th>\n",
              "      <td>...</td>\n",
              "      <td>...</td>\n",
              "      <td>...</td>\n",
              "      <td>...</td>\n",
              "      <td>...</td>\n",
              "      <td>...</td>\n",
              "      <td>...</td>\n",
              "      <td>...</td>\n",
              "      <td>...</td>\n",
              "      <td>...</td>\n",
              "      <td>...</td>\n",
              "      <td>...</td>\n",
              "      <td>...</td>\n",
              "      <td>...</td>\n",
              "      <td>...</td>\n",
              "      <td>...</td>\n",
              "      <td>...</td>\n",
              "      <td>...</td>\n",
              "      <td>...</td>\n",
              "      <td>...</td>\n",
              "      <td>...</td>\n",
              "    </tr>\n",
              "    <tr>\n",
              "      <th>229</th>\n",
              "      <td>229</td>\n",
              "      <td>230</td>\n",
              "      <td>The King's Speech</td>\n",
              "      <td>2010</td>\n",
              "      <td>25-Dec-10</td>\n",
              "      <td>118 min</td>\n",
              "      <td>Biography, Drama</td>\n",
              "      <td>Tom Hooper</td>\n",
              "      <td>David Seidler (screenplay)</td>\n",
              "      <td>Colin Firth, Helena Bonham Carter, Derek Jacob...</td>\n",
              "      <td>...</td>\n",
              "      <td>Won 4 Oscars. Another 103 wins &amp; 194 nominations.</td>\n",
              "      <td>88.0</td>\n",
              "      <td>8.0</td>\n",
              "      <td>537,662</td>\n",
              "      <td>tt1504320</td>\n",
              "      <td>movie</td>\n",
              "      <td>19-Apr-11</td>\n",
              "      <td>$138,300,000</td>\n",
              "      <td>The Weinstein Company</td>\n",
              "      <td>http://www.kingsspeech.com/</td>\n",
              "    </tr>\n",
              "    <tr>\n",
              "      <th>234</th>\n",
              "      <td>234</td>\n",
              "      <td>235</td>\n",
              "      <td>Blood Diamond</td>\n",
              "      <td>2006</td>\n",
              "      <td>8-Dec-06</td>\n",
              "      <td>143 min</td>\n",
              "      <td>Adventure, Drama, Thriller</td>\n",
              "      <td>Edward Zwick</td>\n",
              "      <td>Charles Leavitt (screenplay), Charles Leavitt ...</td>\n",
              "      <td>Leonardo DiCaprio, Djimon Hounsou, Jennifer Co...</td>\n",
              "      <td>...</td>\n",
              "      <td>Nominated for 5 Oscars. Another 8 wins &amp; 26 no...</td>\n",
              "      <td>64.0</td>\n",
              "      <td>8.0</td>\n",
              "      <td>424,781</td>\n",
              "      <td>tt0450259</td>\n",
              "      <td>movie</td>\n",
              "      <td>20-Mar-07</td>\n",
              "      <td>$57,300,000</td>\n",
              "      <td>Warner Bros. Pictures</td>\n",
              "      <td>http://www.blooddiamondmovie.com/</td>\n",
              "    </tr>\n",
              "    <tr>\n",
              "      <th>240</th>\n",
              "      <td>240</td>\n",
              "      <td>241</td>\n",
              "      <td>Deadpool</td>\n",
              "      <td>2016</td>\n",
              "      <td>12-Feb-16</td>\n",
              "      <td>108 min</td>\n",
              "      <td>Action, Adventure, Comedy</td>\n",
              "      <td>Tim Miller</td>\n",
              "      <td>Rhett Reese, Paul Wernick</td>\n",
              "      <td>Ryan Reynolds, Karan Soni, Ed Skrein, Michael ...</td>\n",
              "      <td>...</td>\n",
              "      <td>Nominated for 2 Golden Globes. Another 23 wins...</td>\n",
              "      <td>65.0</td>\n",
              "      <td>8.0</td>\n",
              "      <td>644,281</td>\n",
              "      <td>tt1431045</td>\n",
              "      <td>movie</td>\n",
              "      <td>10-May-16</td>\n",
              "      <td>$328,674,489</td>\n",
              "      <td>20th Century Fox</td>\n",
              "      <td>http://www.foxmovies.com/deadpool</td>\n",
              "    </tr>\n",
              "    <tr>\n",
              "      <th>243</th>\n",
              "      <td>243</td>\n",
              "      <td>244</td>\n",
              "      <td>Big Fish</td>\n",
              "      <td>2003</td>\n",
              "      <td>9-Jan-04</td>\n",
              "      <td>125 min</td>\n",
              "      <td>Adventure, Drama, Fantasy</td>\n",
              "      <td>Tim Burton</td>\n",
              "      <td>Daniel Wallace (novel), John August (screenplay)</td>\n",
              "      <td>Ewan McGregor, Albert Finney, Billy Crudup, Je...</td>\n",
              "      <td>...</td>\n",
              "      <td>Nominated for 1 Oscar. Another 1 win &amp; 68 nomi...</td>\n",
              "      <td>58.0</td>\n",
              "      <td>8.0</td>\n",
              "      <td>364,938</td>\n",
              "      <td>tt0319061</td>\n",
              "      <td>movie</td>\n",
              "      <td>27-Apr-04</td>\n",
              "      <td>$66,257,002</td>\n",
              "      <td>Sony Pictures</td>\n",
              "      <td>http://www.sonypictures.com/movies/bigfish/ind...</td>\n",
              "    </tr>\n",
              "    <tr>\n",
              "      <th>249</th>\n",
              "      <td>249</td>\n",
              "      <td>250</td>\n",
              "      <td>Slumdog Millionaire</td>\n",
              "      <td>2008</td>\n",
              "      <td>25-Dec-08</td>\n",
              "      <td>120 min</td>\n",
              "      <td>Drama</td>\n",
              "      <td>Danny Boyle, Loveleen Tandan</td>\n",
              "      <td>Simon Beaufoy (screenplay), Vikas Swarup (novel)</td>\n",
              "      <td>Dev Patel, Saurabh Shukla, Anil Kapoor, Raj Zu...</td>\n",
              "      <td>...</td>\n",
              "      <td>Won 8 Oscars. Another 144 wins &amp; 126 nominations.</td>\n",
              "      <td>86.0</td>\n",
              "      <td>8.0</td>\n",
              "      <td>679,975</td>\n",
              "      <td>tt1010048</td>\n",
              "      <td>movie</td>\n",
              "      <td>31-Mar-09</td>\n",
              "      <td>$141,243,551</td>\n",
              "      <td>Fox Searchlight Pictures</td>\n",
              "      <td>http://www.foxsearchlight.com/slumdogmillionaire/</td>\n",
              "    </tr>\n",
              "  </tbody>\n",
              "</table>\n",
              "<p>70 rows × 23 columns</p>\n",
              "</div>\n",
              "      <button class=\"colab-df-convert\" onclick=\"convertToInteractive('df-fe958427-8566-462a-a188-bd62ebba7355')\"\n",
              "              title=\"Convert this dataframe to an interactive table.\"\n",
              "              style=\"display:none;\">\n",
              "        \n",
              "  <svg xmlns=\"http://www.w3.org/2000/svg\" height=\"24px\"viewBox=\"0 0 24 24\"\n",
              "       width=\"24px\">\n",
              "    <path d=\"M0 0h24v24H0V0z\" fill=\"none\"/>\n",
              "    <path d=\"M18.56 5.44l.94 2.06.94-2.06 2.06-.94-2.06-.94-.94-2.06-.94 2.06-2.06.94zm-11 1L8.5 8.5l.94-2.06 2.06-.94-2.06-.94L8.5 2.5l-.94 2.06-2.06.94zm10 10l.94 2.06.94-2.06 2.06-.94-2.06-.94-.94-2.06-.94 2.06-2.06.94z\"/><path d=\"M17.41 7.96l-1.37-1.37c-.4-.4-.92-.59-1.43-.59-.52 0-1.04.2-1.43.59L10.3 9.45l-7.72 7.72c-.78.78-.78 2.05 0 2.83L4 21.41c.39.39.9.59 1.41.59.51 0 1.02-.2 1.41-.59l7.78-7.78 2.81-2.81c.8-.78.8-2.07 0-2.86zM5.41 20L4 18.59l7.72-7.72 1.47 1.35L5.41 20z\"/>\n",
              "  </svg>\n",
              "      </button>\n",
              "      \n",
              "  <style>\n",
              "    .colab-df-container {\n",
              "      display:flex;\n",
              "      flex-wrap:wrap;\n",
              "      gap: 12px;\n",
              "    }\n",
              "\n",
              "    .colab-df-convert {\n",
              "      background-color: #E8F0FE;\n",
              "      border: none;\n",
              "      border-radius: 50%;\n",
              "      cursor: pointer;\n",
              "      display: none;\n",
              "      fill: #1967D2;\n",
              "      height: 32px;\n",
              "      padding: 0 0 0 0;\n",
              "      width: 32px;\n",
              "    }\n",
              "\n",
              "    .colab-df-convert:hover {\n",
              "      background-color: #E2EBFA;\n",
              "      box-shadow: 0px 1px 2px rgba(60, 64, 67, 0.3), 0px 1px 3px 1px rgba(60, 64, 67, 0.15);\n",
              "      fill: #174EA6;\n",
              "    }\n",
              "\n",
              "    [theme=dark] .colab-df-convert {\n",
              "      background-color: #3B4455;\n",
              "      fill: #D2E3FC;\n",
              "    }\n",
              "\n",
              "    [theme=dark] .colab-df-convert:hover {\n",
              "      background-color: #434B5C;\n",
              "      box-shadow: 0px 1px 3px 1px rgba(0, 0, 0, 0.15);\n",
              "      filter: drop-shadow(0px 1px 2px rgba(0, 0, 0, 0.3));\n",
              "      fill: #FFFFFF;\n",
              "    }\n",
              "  </style>\n",
              "\n",
              "      <script>\n",
              "        const buttonEl =\n",
              "          document.querySelector('#df-fe958427-8566-462a-a188-bd62ebba7355 button.colab-df-convert');\n",
              "        buttonEl.style.display =\n",
              "          google.colab.kernel.accessAllowed ? 'block' : 'none';\n",
              "\n",
              "        async function convertToInteractive(key) {\n",
              "          const element = document.querySelector('#df-fe958427-8566-462a-a188-bd62ebba7355');\n",
              "          const dataTable =\n",
              "            await google.colab.kernel.invokeFunction('convertToInteractive',\n",
              "                                                     [key], {});\n",
              "          if (!dataTable) return;\n",
              "\n",
              "          const docLinkHtml = 'Like what you see? Visit the ' +\n",
              "            '<a target=\"_blank\" href=https://colab.research.google.com/notebooks/data_table.ipynb>data table notebook</a>'\n",
              "            + ' to learn more about interactive tables.';\n",
              "          element.innerHTML = '';\n",
              "          dataTable['output_type'] = 'display_data';\n",
              "          await google.colab.output.renderOutput(dataTable, element);\n",
              "          const docLink = document.createElement('div');\n",
              "          docLink.innerHTML = docLinkHtml;\n",
              "          element.appendChild(docLink);\n",
              "        }\n",
              "      </script>\n",
              "    </div>\n",
              "  </div>\n",
              "  "
            ],
            "text/plain": [
              "    Unnamed: 0    Num                Title   Year   Released  Runtime  \\\n",
              "3            3      4      The Dark Knight   2008  18-Jul-08  152 min   \n",
              "5        Title  Title                Title  Title      Title    Title   \n",
              "6        Title  Title                Title  Title      Title    Title   \n",
              "7        Title  Title                Title  Title      Title    Title   \n",
              "8        Title  Title                Title  Title      Title    Title   \n",
              "..         ...    ...                  ...    ...        ...      ...   \n",
              "229        229    230    The King's Speech   2010  25-Dec-10  118 min   \n",
              "234        234    235        Blood Diamond   2006   8-Dec-06  143 min   \n",
              "240        240    241             Deadpool   2016  12-Feb-16  108 min   \n",
              "243        243    244             Big Fish   2003   9-Jan-04  125 min   \n",
              "249        249    250  Slumdog Millionaire   2008  25-Dec-08  120 min   \n",
              "\n",
              "                          Genre                      Director  \\\n",
              "3          Action, Crime, Drama             Christopher Nolan   \n",
              "5                         Title                         Title   \n",
              "6                         Title                         Title   \n",
              "7                         Title                         Title   \n",
              "8                         Title                         Title   \n",
              "..                          ...                           ...   \n",
              "229            Biography, Drama                    Tom Hooper   \n",
              "234  Adventure, Drama, Thriller                  Edward Zwick   \n",
              "240   Action, Adventure, Comedy                    Tim Miller   \n",
              "243   Adventure, Drama, Fantasy                    Tim Burton   \n",
              "249                       Drama  Danny Boyle, Loveleen Tandan   \n",
              "\n",
              "                                                Writer  \\\n",
              "3    Jonathan Nolan (screenplay), Christopher Nolan...   \n",
              "5                                                Title   \n",
              "6                                                Title   \n",
              "7                                                Title   \n",
              "8                                                Title   \n",
              "..                                                 ...   \n",
              "229                         David Seidler (screenplay)   \n",
              "234  Charles Leavitt (screenplay), Charles Leavitt ...   \n",
              "240                          Rhett Reese, Paul Wernick   \n",
              "243   Daniel Wallace (novel), John August (screenplay)   \n",
              "249   Simon Beaufoy (screenplay), Vikas Swarup (novel)   \n",
              "\n",
              "                                                Actors  ...  \\\n",
              "3    Christian Bale, Heath Ledger, Aaron Eckhart, M...  ...   \n",
              "5                                                Title  ...   \n",
              "6                                                Title  ...   \n",
              "7                                                Title  ...   \n",
              "8                                                Title  ...   \n",
              "..                                                 ...  ...   \n",
              "229  Colin Firth, Helena Bonham Carter, Derek Jacob...  ...   \n",
              "234  Leonardo DiCaprio, Djimon Hounsou, Jennifer Co...  ...   \n",
              "240  Ryan Reynolds, Karan Soni, Ed Skrein, Michael ...  ...   \n",
              "243  Ewan McGregor, Albert Finney, Billy Crudup, Je...  ...   \n",
              "249  Dev Patel, Saurabh Shukla, Anil Kapoor, Raj Zu...  ...   \n",
              "\n",
              "                                                Awards Metascore imdbRating  \\\n",
              "3    Won 2 Oscars. Another 151 wins & 153 nominations.      82.0        9.0   \n",
              "5                                                Title     Title      Title   \n",
              "6                                                Title     Title      Title   \n",
              "7                                                Title     Title      Title   \n",
              "8                                                Title     Title      Title   \n",
              "..                                                 ...       ...        ...   \n",
              "229  Won 4 Oscars. Another 103 wins & 194 nominations.      88.0        8.0   \n",
              "234  Nominated for 5 Oscars. Another 8 wins & 26 no...      64.0        8.0   \n",
              "240  Nominated for 2 Golden Globes. Another 23 wins...      65.0        8.0   \n",
              "243  Nominated for 1 Oscar. Another 1 win & 68 nomi...      58.0        8.0   \n",
              "249  Won 8 Oscars. Another 144 wins & 126 nominations.      86.0        8.0   \n",
              "\n",
              "     imdbVotes     imdbID   Type        DVD      BoxOffice  \\\n",
              "3    1,802,351  tt0468569  movie   9-Dec-08  $533,316,061    \n",
              "5        Title      Title  Title      Title          Title   \n",
              "6        Title      Title  Title      Title          Title   \n",
              "7        Title      Title  Title      Title          Title   \n",
              "8        Title      Title  Title      Title          Title   \n",
              "..         ...        ...    ...        ...            ...   \n",
              "229    537,662  tt1504320  movie  19-Apr-11  $138,300,000    \n",
              "234    424,781  tt0450259  movie  20-Mar-07   $57,300,000    \n",
              "240    644,281  tt1431045  movie  10-May-16  $328,674,489    \n",
              "243    364,938  tt0319061  movie  27-Apr-04   $66,257,002    \n",
              "249    679,975  tt1010048  movie  31-Mar-09  $141,243,551    \n",
              "\n",
              "                          Production  \\\n",
              "3    Warner Bros. Pictures/Legendary   \n",
              "5                              Title   \n",
              "6                              Title   \n",
              "7                              Title   \n",
              "8                              Title   \n",
              "..                               ...   \n",
              "229            The Weinstein Company   \n",
              "234            Warner Bros. Pictures   \n",
              "240                 20th Century Fox   \n",
              "243                    Sony Pictures   \n",
              "249         Fox Searchlight Pictures   \n",
              "\n",
              "                                               Website  \n",
              "3                 http://thedarkknight.warnerbros.com/  \n",
              "5                                                Title  \n",
              "6                                                Title  \n",
              "7                                                Title  \n",
              "8                                                Title  \n",
              "..                                                 ...  \n",
              "229                        http://www.kingsspeech.com/  \n",
              "234                  http://www.blooddiamondmovie.com/  \n",
              "240                  http://www.foxmovies.com/deadpool  \n",
              "243  http://www.sonypictures.com/movies/bigfish/ind...  \n",
              "249  http://www.foxsearchlight.com/slumdogmillionaire/  \n",
              "\n",
              "[70 rows x 23 columns]"
            ]
          },
          "execution_count": 173,
          "metadata": {},
          "output_type": "execute_result"
        }
      ],
      "source": [
        "df.dropna(inplace=True)\n",
        "df"
      ]
    },
    {
      "cell_type": "code",
      "execution_count": null,
      "metadata": {
        "colab": {
          "base_uri": "https://localhost:8080/"
        },
        "id": "m_FrSazCM-Hc",
        "outputId": "941f3f5c-b1a6-46df-eba1-d3ab52071af4"
      },
      "outputs": [
        {
          "name": "stdout",
          "output_type": "stream",
          "text": [
            "Unnamed: 0    0\n",
            "Num           0\n",
            "Title         0\n",
            "Year          0\n",
            "Released      0\n",
            "Runtime       0\n",
            "Genre         0\n",
            "Director      0\n",
            "Writer        0\n",
            "Actors        0\n",
            "Plot          0\n",
            "Language      0\n",
            "Country       0\n",
            "Awards        0\n",
            "Metascore     0\n",
            "imdbRating    0\n",
            "imdbVotes     0\n",
            "imdbID        0\n",
            "Type          0\n",
            "DVD           0\n",
            "BoxOffice     0\n",
            "Production    0\n",
            "Website       0\n",
            "dtype: int64\n"
          ]
        }
      ],
      "source": [
        "print(df.isnull().sum())"
      ]
    },
    {
      "cell_type": "markdown",
      "metadata": {
        "id": "YZEfAGmIg2Ck"
      },
      "source": [
        "### 14. Sorting\n",
        "\n",
        "14.1 Sort your dataset via a specific column in ascending order. What column might be best to sort your dataset by?"
      ]
    },
    {
      "cell_type": "code",
      "execution_count": null,
      "metadata": {
        "colab": {
          "base_uri": "https://localhost:8080/",
          "height": 1000
        },
        "id": "6AdrTputg2Ck",
        "outputId": "93c73f65-8a81-4475-fa11-2fd0b96a8bb1"
      },
      "outputs": [
        {
          "data": {
            "text/html": [
              "\n",
              "  <div id=\"df-7841385c-c80b-4cef-abab-a0b0c9ee1c77\">\n",
              "    <div class=\"colab-df-container\">\n",
              "      <div>\n",
              "<style scoped>\n",
              "    .dataframe tbody tr th:only-of-type {\n",
              "        vertical-align: middle;\n",
              "    }\n",
              "\n",
              "    .dataframe tbody tr th {\n",
              "        vertical-align: top;\n",
              "    }\n",
              "\n",
              "    .dataframe thead th {\n",
              "        text-align: right;\n",
              "    }\n",
              "</style>\n",
              "<table border=\"1\" class=\"dataframe\">\n",
              "  <thead>\n",
              "    <tr style=\"text-align: right;\">\n",
              "      <th></th>\n",
              "      <th>Unnamed: 0</th>\n",
              "      <th>Num</th>\n",
              "      <th>Title</th>\n",
              "      <th>Year</th>\n",
              "      <th>Released</th>\n",
              "      <th>Runtime</th>\n",
              "      <th>Genre</th>\n",
              "      <th>Director</th>\n",
              "      <th>Writer</th>\n",
              "      <th>Actors</th>\n",
              "      <th>...</th>\n",
              "      <th>Awards</th>\n",
              "      <th>Metascore</th>\n",
              "      <th>imdbRating</th>\n",
              "      <th>imdbVotes</th>\n",
              "      <th>imdbID</th>\n",
              "      <th>Type</th>\n",
              "      <th>DVD</th>\n",
              "      <th>BoxOffice</th>\n",
              "      <th>Production</th>\n",
              "      <th>Website</th>\n",
              "    </tr>\n",
              "  </thead>\n",
              "  <tbody>\n",
              "    <tr>\n",
              "      <th>48</th>\n",
              "      <td>48</td>\n",
              "      <td>49</td>\n",
              "      <td>Django Unchained</td>\n",
              "      <td>2012</td>\n",
              "      <td>25-Dec-12</td>\n",
              "      <td>165 min</td>\n",
              "      <td>Drama, Western</td>\n",
              "      <td>Quentin Tarantino</td>\n",
              "      <td>Quentin Tarantino</td>\n",
              "      <td>Jamie Foxx, Christoph Waltz, Leonardo DiCaprio...</td>\n",
              "      <td>...</td>\n",
              "      <td>Won 2 Oscars. Another 56 wins &amp; 151 nominations.</td>\n",
              "      <td>81.0</td>\n",
              "      <td>8.4</td>\n",
              "      <td>1,047,465</td>\n",
              "      <td>tt1853728</td>\n",
              "      <td>movie</td>\n",
              "      <td>16-Apr-13</td>\n",
              "      <td>$162,804,648</td>\n",
              "      <td>The Weinstein Co.</td>\n",
              "      <td>http://unchainedmovie.com/</td>\n",
              "    </tr>\n",
              "    <tr>\n",
              "      <th>219</th>\n",
              "      <td>219</td>\n",
              "      <td>220</td>\n",
              "      <td>The Avengers</td>\n",
              "      <td>2012</td>\n",
              "      <td>4-May-12</td>\n",
              "      <td>143 min</td>\n",
              "      <td>Action, Sci-Fi</td>\n",
              "      <td>Joss Whedon</td>\n",
              "      <td>Joss Whedon (screenplay), Zak Penn (story), Jo...</td>\n",
              "      <td>Robert Downey Jr., Chris Evans, Mark Ruffalo, ...</td>\n",
              "      <td>...</td>\n",
              "      <td>Nominated for 1 Oscar. Another 37 wins &amp; 79 no...</td>\n",
              "      <td>69.0</td>\n",
              "      <td>8.1</td>\n",
              "      <td>1,051,143</td>\n",
              "      <td>tt0848228</td>\n",
              "      <td>movie</td>\n",
              "      <td>25-Sep-12</td>\n",
              "      <td>$623,279,547</td>\n",
              "      <td>Walt Disney Pictures</td>\n",
              "      <td>http://marvel.com/avengers_movie</td>\n",
              "    </tr>\n",
              "    <tr>\n",
              "      <th>89</th>\n",
              "      <td>89</td>\n",
              "      <td>90</td>\n",
              "      <td>Batman Begins</td>\n",
              "      <td>2005</td>\n",
              "      <td>15-Jun-05</td>\n",
              "      <td>140 min</td>\n",
              "      <td>Action, Adventure</td>\n",
              "      <td>Christopher Nolan</td>\n",
              "      <td>Bob Kane (characters), David S. Goyer (story),...</td>\n",
              "      <td>Christian Bale, Michael Caine, Liam Neeson, Ka...</td>\n",
              "      <td>...</td>\n",
              "      <td>Nominated for 1 Oscar. Another 14 wins &amp; 71 no...</td>\n",
              "      <td>70.0</td>\n",
              "      <td>8.3</td>\n",
              "      <td>1,053,569</td>\n",
              "      <td>tt0372784</td>\n",
              "      <td>movie</td>\n",
              "      <td>18-Oct-05</td>\n",
              "      <td>$204,100,000</td>\n",
              "      <td>Warner Bros. Pictures</td>\n",
              "      <td>http://www.batmanbegins.com/</td>\n",
              "    </tr>\n",
              "    <tr>\n",
              "      <th>25</th>\n",
              "      <td>25</td>\n",
              "      <td>26</td>\n",
              "      <td>Interstellar</td>\n",
              "      <td>2014</td>\n",
              "      <td>7-Nov-14</td>\n",
              "      <td>169 min</td>\n",
              "      <td>Adventure, Drama, Sci-Fi</td>\n",
              "      <td>Christopher Nolan</td>\n",
              "      <td>Jonathan Nolan, Christopher Nolan</td>\n",
              "      <td>Ellen Burstyn, Matthew McConaughey, Mackenzie ...</td>\n",
              "      <td>...</td>\n",
              "      <td>Won 1 Oscar. Another 41 wins &amp; 142 nominations.</td>\n",
              "      <td>74.0</td>\n",
              "      <td>8.6</td>\n",
              "      <td>1,057,411</td>\n",
              "      <td>tt0816692</td>\n",
              "      <td>movie</td>\n",
              "      <td>31-Mar-15</td>\n",
              "      <td>$158,737,441</td>\n",
              "      <td>Paramount Pictures</td>\n",
              "      <td>http://www.InterstellarMovie.com/</td>\n",
              "    </tr>\n",
              "    <tr>\n",
              "      <th>38</th>\n",
              "      <td>38</td>\n",
              "      <td>39</td>\n",
              "      <td>Gladiator</td>\n",
              "      <td>2000</td>\n",
              "      <td>5-May-00</td>\n",
              "      <td>155 min</td>\n",
              "      <td>Action, Adventure, Drama</td>\n",
              "      <td>Ridley Scott</td>\n",
              "      <td>David Franzoni (story), David Franzoni (screen...</td>\n",
              "      <td>Russell Crowe, Joaquin Phoenix, Connie Nielsen...</td>\n",
              "      <td>...</td>\n",
              "      <td>Won 5 Oscars. Another 53 wins &amp; 101 nominations.</td>\n",
              "      <td>67.0</td>\n",
              "      <td>8.5</td>\n",
              "      <td>1,059,523</td>\n",
              "      <td>tt0172495</td>\n",
              "      <td>movie</td>\n",
              "      <td>21-Nov-00</td>\n",
              "      <td>NaN</td>\n",
              "      <td>Dreamworks Distribution LLC</td>\n",
              "      <td>http://www.gladiator-thefilm.com</td>\n",
              "    </tr>\n",
              "    <tr>\n",
              "      <th>...</th>\n",
              "      <td>...</td>\n",
              "      <td>...</td>\n",
              "      <td>...</td>\n",
              "      <td>...</td>\n",
              "      <td>...</td>\n",
              "      <td>...</td>\n",
              "      <td>...</td>\n",
              "      <td>...</td>\n",
              "      <td>...</td>\n",
              "      <td>...</td>\n",
              "      <td>...</td>\n",
              "      <td>...</td>\n",
              "      <td>...</td>\n",
              "      <td>...</td>\n",
              "      <td>...</td>\n",
              "      <td>...</td>\n",
              "      <td>...</td>\n",
              "      <td>...</td>\n",
              "      <td>...</td>\n",
              "      <td>...</td>\n",
              "      <td>...</td>\n",
              "    </tr>\n",
              "    <tr>\n",
              "      <th>34</th>\n",
              "      <td>34</td>\n",
              "      <td>35</td>\n",
              "      <td>The Departed</td>\n",
              "      <td>2006</td>\n",
              "      <td>6-Oct-06</td>\n",
              "      <td>151 min</td>\n",
              "      <td>Crime, Drama, Thriller</td>\n",
              "      <td>Martin Scorsese</td>\n",
              "      <td>William Monahan (screenplay), Alan Mak, Felix ...</td>\n",
              "      <td>Leonardo DiCaprio, Matt Damon, Jack Nicholson,...</td>\n",
              "      <td>...</td>\n",
              "      <td>Won 4 Oscars. Another 92 wins &amp; 134 nominations.</td>\n",
              "      <td>85.0</td>\n",
              "      <td>8.5</td>\n",
              "      <td>943,314</td>\n",
              "      <td>tt0407887</td>\n",
              "      <td>movie</td>\n",
              "      <td>13-Feb-07</td>\n",
              "      <td>$132,300,000</td>\n",
              "      <td>Warner Bros. Pictures</td>\n",
              "      <td>http://www.thedeparted.com/</td>\n",
              "    </tr>\n",
              "    <tr>\n",
              "      <th>23</th>\n",
              "      <td>23</td>\n",
              "      <td>24</td>\n",
              "      <td>Saving Private Ryan</td>\n",
              "      <td>1998</td>\n",
              "      <td>24-Jul-98</td>\n",
              "      <td>169 min</td>\n",
              "      <td>Drama, War</td>\n",
              "      <td>Steven Spielberg</td>\n",
              "      <td>Robert Rodat</td>\n",
              "      <td>Tom Hanks, Tom Sizemore, Edward Burns, Barry P...</td>\n",
              "      <td>...</td>\n",
              "      <td>Won 5 Oscars. Another 74 wins &amp; 74 nominations.</td>\n",
              "      <td>90.0</td>\n",
              "      <td>8.6</td>\n",
              "      <td>960,639</td>\n",
              "      <td>tt0120815</td>\n",
              "      <td>movie</td>\n",
              "      <td>2-Nov-99</td>\n",
              "      <td>NaN</td>\n",
              "      <td>Paramount Pictures</td>\n",
              "      <td>http://https://www.facebook.com/SavingPrivateR...</td>\n",
              "    </tr>\n",
              "    <tr>\n",
              "      <th>20</th>\n",
              "      <td>20</td>\n",
              "      <td>21</td>\n",
              "      <td>The Silence of the Lambs</td>\n",
              "      <td>1991</td>\n",
              "      <td>14-Feb-91</td>\n",
              "      <td>118 min</td>\n",
              "      <td>Crime, Drama, Thriller</td>\n",
              "      <td>Jonathan Demme</td>\n",
              "      <td>Thomas Harris (novel), Ted Tally (screenplay)</td>\n",
              "      <td>Jodie Foster, Lawrence A. Bonney, Kasi Lemmons...</td>\n",
              "      <td>...</td>\n",
              "      <td>Won 5 Oscars. Another 49 wins &amp; 37 nominations.</td>\n",
              "      <td>84.0</td>\n",
              "      <td>8.6</td>\n",
              "      <td>967,878</td>\n",
              "      <td>tt0102926</td>\n",
              "      <td>movie</td>\n",
              "      <td>1-Jul-98</td>\n",
              "      <td>NaN</td>\n",
              "      <td>Orion Pictures Corporation</td>\n",
              "      <td>NaN</td>\n",
              "    </tr>\n",
              "    <tr>\n",
              "      <th>78</th>\n",
              "      <td>78</td>\n",
              "      <td>79</td>\n",
              "      <td>Inglourious Basterds</td>\n",
              "      <td>2009</td>\n",
              "      <td>21-Aug-09</td>\n",
              "      <td>153 min</td>\n",
              "      <td>Adventure, Drama, War</td>\n",
              "      <td>Quentin Tarantino, Eli Roth</td>\n",
              "      <td>Quentin Tarantino</td>\n",
              "      <td>Brad Pitt, M√É¬©lanie Laurent, Christoph Waltz...</td>\n",
              "      <td>...</td>\n",
              "      <td>Won 1 Oscar. Another 129 wins &amp; 165 nominations.</td>\n",
              "      <td>69.0</td>\n",
              "      <td>8.3</td>\n",
              "      <td>969,927</td>\n",
              "      <td>tt0361748</td>\n",
              "      <td>movie</td>\n",
              "      <td>15-Dec-09</td>\n",
              "      <td>$120,523,073</td>\n",
              "      <td>The Weinstein Company</td>\n",
              "      <td>http://www.inglouriousbasterds-movie.com/</td>\n",
              "    </tr>\n",
              "    <tr>\n",
              "      <th>17</th>\n",
              "      <td>17</td>\n",
              "      <td>18</td>\n",
              "      <td>Star Wars: Episode IV - A New Hope</td>\n",
              "      <td>1977</td>\n",
              "      <td>25-May-77</td>\n",
              "      <td>121 min</td>\n",
              "      <td>Action, Adventure, Fantasy</td>\n",
              "      <td>George Lucas</td>\n",
              "      <td>George Lucas</td>\n",
              "      <td>Mark Hamill, Harrison Ford, Carrie Fisher, Pet...</td>\n",
              "      <td>...</td>\n",
              "      <td>Won 6 Oscars. Another 50 wins &amp; 28 nominations.</td>\n",
              "      <td>92.0</td>\n",
              "      <td>8.7</td>\n",
              "      <td>982,688</td>\n",
              "      <td>tt0076759</td>\n",
              "      <td>movie</td>\n",
              "      <td>21-Sep-04</td>\n",
              "      <td>NaN</td>\n",
              "      <td>20th Century Fox</td>\n",
              "      <td>http://www.starwars.com/episode-iv/</td>\n",
              "    </tr>\n",
              "  </tbody>\n",
              "</table>\n",
              "<p>250 rows × 23 columns</p>\n",
              "</div>\n",
              "      <button class=\"colab-df-convert\" onclick=\"convertToInteractive('df-7841385c-c80b-4cef-abab-a0b0c9ee1c77')\"\n",
              "              title=\"Convert this dataframe to an interactive table.\"\n",
              "              style=\"display:none;\">\n",
              "        \n",
              "  <svg xmlns=\"http://www.w3.org/2000/svg\" height=\"24px\"viewBox=\"0 0 24 24\"\n",
              "       width=\"24px\">\n",
              "    <path d=\"M0 0h24v24H0V0z\" fill=\"none\"/>\n",
              "    <path d=\"M18.56 5.44l.94 2.06.94-2.06 2.06-.94-2.06-.94-.94-2.06-.94 2.06-2.06.94zm-11 1L8.5 8.5l.94-2.06 2.06-.94-2.06-.94L8.5 2.5l-.94 2.06-2.06.94zm10 10l.94 2.06.94-2.06 2.06-.94-2.06-.94-.94-2.06-.94 2.06-2.06.94z\"/><path d=\"M17.41 7.96l-1.37-1.37c-.4-.4-.92-.59-1.43-.59-.52 0-1.04.2-1.43.59L10.3 9.45l-7.72 7.72c-.78.78-.78 2.05 0 2.83L4 21.41c.39.39.9.59 1.41.59.51 0 1.02-.2 1.41-.59l7.78-7.78 2.81-2.81c.8-.78.8-2.07 0-2.86zM5.41 20L4 18.59l7.72-7.72 1.47 1.35L5.41 20z\"/>\n",
              "  </svg>\n",
              "      </button>\n",
              "      \n",
              "  <style>\n",
              "    .colab-df-container {\n",
              "      display:flex;\n",
              "      flex-wrap:wrap;\n",
              "      gap: 12px;\n",
              "    }\n",
              "\n",
              "    .colab-df-convert {\n",
              "      background-color: #E8F0FE;\n",
              "      border: none;\n",
              "      border-radius: 50%;\n",
              "      cursor: pointer;\n",
              "      display: none;\n",
              "      fill: #1967D2;\n",
              "      height: 32px;\n",
              "      padding: 0 0 0 0;\n",
              "      width: 32px;\n",
              "    }\n",
              "\n",
              "    .colab-df-convert:hover {\n",
              "      background-color: #E2EBFA;\n",
              "      box-shadow: 0px 1px 2px rgba(60, 64, 67, 0.3), 0px 1px 3px 1px rgba(60, 64, 67, 0.15);\n",
              "      fill: #174EA6;\n",
              "    }\n",
              "\n",
              "    [theme=dark] .colab-df-convert {\n",
              "      background-color: #3B4455;\n",
              "      fill: #D2E3FC;\n",
              "    }\n",
              "\n",
              "    [theme=dark] .colab-df-convert:hover {\n",
              "      background-color: #434B5C;\n",
              "      box-shadow: 0px 1px 3px 1px rgba(0, 0, 0, 0.15);\n",
              "      filter: drop-shadow(0px 1px 2px rgba(0, 0, 0, 0.3));\n",
              "      fill: #FFFFFF;\n",
              "    }\n",
              "  </style>\n",
              "\n",
              "      <script>\n",
              "        const buttonEl =\n",
              "          document.querySelector('#df-7841385c-c80b-4cef-abab-a0b0c9ee1c77 button.colab-df-convert');\n",
              "        buttonEl.style.display =\n",
              "          google.colab.kernel.accessAllowed ? 'block' : 'none';\n",
              "\n",
              "        async function convertToInteractive(key) {\n",
              "          const element = document.querySelector('#df-7841385c-c80b-4cef-abab-a0b0c9ee1c77');\n",
              "          const dataTable =\n",
              "            await google.colab.kernel.invokeFunction('convertToInteractive',\n",
              "                                                     [key], {});\n",
              "          if (!dataTable) return;\n",
              "\n",
              "          const docLinkHtml = 'Like what you see? Visit the ' +\n",
              "            '<a target=\"_blank\" href=https://colab.research.google.com/notebooks/data_table.ipynb>data table notebook</a>'\n",
              "            + ' to learn more about interactive tables.';\n",
              "          element.innerHTML = '';\n",
              "          dataTable['output_type'] = 'display_data';\n",
              "          await google.colab.output.renderOutput(dataTable, element);\n",
              "          const docLink = document.createElement('div');\n",
              "          docLink.innerHTML = docLinkHtml;\n",
              "          element.appendChild(docLink);\n",
              "        }\n",
              "      </script>\n",
              "    </div>\n",
              "  </div>\n",
              "  "
            ],
            "text/plain": [
              "     Unnamed: 0  Num                               Title  Year   Released  \\\n",
              "48           48   49                    Django Unchained  2012  25-Dec-12   \n",
              "219         219  220                        The Avengers  2012   4-May-12   \n",
              "89           89   90                       Batman Begins  2005  15-Jun-05   \n",
              "25           25   26                        Interstellar  2014   7-Nov-14   \n",
              "38           38   39                           Gladiator  2000   5-May-00   \n",
              "..          ...  ...                                 ...   ...        ...   \n",
              "34           34   35                        The Departed  2006   6-Oct-06   \n",
              "23           23   24                 Saving Private Ryan  1998  24-Jul-98   \n",
              "20           20   21            The Silence of the Lambs  1991  14-Feb-91   \n",
              "78           78   79                Inglourious Basterds  2009  21-Aug-09   \n",
              "17           17   18  Star Wars: Episode IV - A New Hope  1977  25-May-77   \n",
              "\n",
              "     Runtime                       Genre                     Director  \\\n",
              "48   165 min              Drama, Western            Quentin Tarantino   \n",
              "219  143 min              Action, Sci-Fi                  Joss Whedon   \n",
              "89   140 min           Action, Adventure            Christopher Nolan   \n",
              "25   169 min    Adventure, Drama, Sci-Fi            Christopher Nolan   \n",
              "38   155 min    Action, Adventure, Drama                 Ridley Scott   \n",
              "..       ...                         ...                          ...   \n",
              "34   151 min      Crime, Drama, Thriller              Martin Scorsese   \n",
              "23   169 min                  Drama, War             Steven Spielberg   \n",
              "20   118 min      Crime, Drama, Thriller               Jonathan Demme   \n",
              "78   153 min       Adventure, Drama, War  Quentin Tarantino, Eli Roth   \n",
              "17   121 min  Action, Adventure, Fantasy                 George Lucas   \n",
              "\n",
              "                                                Writer  \\\n",
              "48                                   Quentin Tarantino   \n",
              "219  Joss Whedon (screenplay), Zak Penn (story), Jo...   \n",
              "89   Bob Kane (characters), David S. Goyer (story),...   \n",
              "25                   Jonathan Nolan, Christopher Nolan   \n",
              "38   David Franzoni (story), David Franzoni (screen...   \n",
              "..                                                 ...   \n",
              "34   William Monahan (screenplay), Alan Mak, Felix ...   \n",
              "23                                        Robert Rodat   \n",
              "20       Thomas Harris (novel), Ted Tally (screenplay)   \n",
              "78                                   Quentin Tarantino   \n",
              "17                                        George Lucas   \n",
              "\n",
              "                                                Actors  ...  \\\n",
              "48   Jamie Foxx, Christoph Waltz, Leonardo DiCaprio...  ...   \n",
              "219  Robert Downey Jr., Chris Evans, Mark Ruffalo, ...  ...   \n",
              "89   Christian Bale, Michael Caine, Liam Neeson, Ka...  ...   \n",
              "25   Ellen Burstyn, Matthew McConaughey, Mackenzie ...  ...   \n",
              "38   Russell Crowe, Joaquin Phoenix, Connie Nielsen...  ...   \n",
              "..                                                 ...  ...   \n",
              "34   Leonardo DiCaprio, Matt Damon, Jack Nicholson,...  ...   \n",
              "23   Tom Hanks, Tom Sizemore, Edward Burns, Barry P...  ...   \n",
              "20   Jodie Foster, Lawrence A. Bonney, Kasi Lemmons...  ...   \n",
              "78   Brad Pitt, M√É¬©lanie Laurent, Christoph Waltz...  ...   \n",
              "17   Mark Hamill, Harrison Ford, Carrie Fisher, Pet...  ...   \n",
              "\n",
              "                                                Awards Metascore imdbRating  \\\n",
              "48    Won 2 Oscars. Another 56 wins & 151 nominations.      81.0        8.4   \n",
              "219  Nominated for 1 Oscar. Another 37 wins & 79 no...      69.0        8.1   \n",
              "89   Nominated for 1 Oscar. Another 14 wins & 71 no...      70.0        8.3   \n",
              "25     Won 1 Oscar. Another 41 wins & 142 nominations.      74.0        8.6   \n",
              "38    Won 5 Oscars. Another 53 wins & 101 nominations.      67.0        8.5   \n",
              "..                                                 ...       ...        ...   \n",
              "34    Won 4 Oscars. Another 92 wins & 134 nominations.      85.0        8.5   \n",
              "23     Won 5 Oscars. Another 74 wins & 74 nominations.      90.0        8.6   \n",
              "20     Won 5 Oscars. Another 49 wins & 37 nominations.      84.0        8.6   \n",
              "78    Won 1 Oscar. Another 129 wins & 165 nominations.      69.0        8.3   \n",
              "17     Won 6 Oscars. Another 50 wins & 28 nominations.      92.0        8.7   \n",
              "\n",
              "     imdbVotes     imdbID   Type        DVD      BoxOffice  \\\n",
              "48   1,047,465  tt1853728  movie  16-Apr-13  $162,804,648    \n",
              "219  1,051,143  tt0848228  movie  25-Sep-12  $623,279,547    \n",
              "89   1,053,569  tt0372784  movie  18-Oct-05  $204,100,000    \n",
              "25   1,057,411  tt0816692  movie  31-Mar-15  $158,737,441    \n",
              "38   1,059,523  tt0172495  movie  21-Nov-00            NaN   \n",
              "..         ...        ...    ...        ...            ...   \n",
              "34     943,314  tt0407887  movie  13-Feb-07  $132,300,000    \n",
              "23     960,639  tt0120815  movie   2-Nov-99            NaN   \n",
              "20     967,878  tt0102926  movie   1-Jul-98            NaN   \n",
              "78     969,927  tt0361748  movie  15-Dec-09  $120,523,073    \n",
              "17     982,688  tt0076759  movie  21-Sep-04            NaN   \n",
              "\n",
              "                      Production  \\\n",
              "48             The Weinstein Co.   \n",
              "219         Walt Disney Pictures   \n",
              "89         Warner Bros. Pictures   \n",
              "25            Paramount Pictures   \n",
              "38   Dreamworks Distribution LLC   \n",
              "..                           ...   \n",
              "34         Warner Bros. Pictures   \n",
              "23            Paramount Pictures   \n",
              "20    Orion Pictures Corporation   \n",
              "78         The Weinstein Company   \n",
              "17              20th Century Fox   \n",
              "\n",
              "                                               Website  \n",
              "48                          http://unchainedmovie.com/  \n",
              "219                   http://marvel.com/avengers_movie  \n",
              "89                        http://www.batmanbegins.com/  \n",
              "25                   http://www.InterstellarMovie.com/  \n",
              "38                    http://www.gladiator-thefilm.com  \n",
              "..                                                 ...  \n",
              "34                         http://www.thedeparted.com/  \n",
              "23   http://https://www.facebook.com/SavingPrivateR...  \n",
              "20                                                 NaN  \n",
              "78           http://www.inglouriousbasterds-movie.com/  \n",
              "17                 http://www.starwars.com/episode-iv/  \n",
              "\n",
              "[250 rows x 23 columns]"
            ]
          },
          "execution_count": 150,
          "metadata": {},
          "output_type": "execute_result"
        }
      ],
      "source": [
        "df.sort_values(\"imdbVotes\")"
      ]
    },
    {
      "cell_type": "markdown",
      "metadata": {
        "id": "q1SS3muNg2Ck"
      },
      "source": [
        "14.2 If you have multiple rows with the same information or numerical data, how would you handle ties in the sorting function?"
      ]
    },
    {
      "cell_type": "markdown",
      "metadata": {
        "id": "Cg1Gc7rEtQhO"
      },
      "source": [
        "Python will sort the tied rows in the same way they were in before the sorting. A programmer can utilize the sort_index() method usng numpy.argsort() with default kind=quicksort, if you are soring only by one column. (source: https://stackoverflow.com/questions/19580900/how-is-pandas-deciding-order-in-a-sort-when-there-is-a-tie)"
      ]
    },
    {
      "cell_type": "markdown",
      "metadata": {
        "id": "JZ5tG9zrg2Cl"
      },
      "source": [
        "14.3 Try to sort your data in the following ways (there are more ways than this to understand your dataset):\n",
        "        \n",
        "        1. Find the top 10 least values of a specific column (make sure column has numerical data inside)\n",
        "        2. Can you sort the data to find the 10 greatest values of a different column?"
      ]
    },
    {
      "cell_type": "code",
      "execution_count": null,
      "metadata": {
        "colab": {
          "base_uri": "https://localhost:8080/"
        },
        "id": "X15KzWivg2Cl",
        "outputId": "400eaddf-4683-4706-9994-8744a7367011"
      },
      "outputs": [
        {
          "name": "stdout",
          "output_type": "stream",
          "text": [
            "     Unnamed: 0  Num                     Title  Year   Released  Runtime  \\\n",
            "0             0    1  The Shawshank Redemption  1994  14-Oct-94  142 min   \n",
            "1             1    2             The Godfather  1972  24-Mar-72  175 min   \n",
            "2             2    3    The Godfather: Part II  1974  20-Dec-74  202 min   \n",
            "3             3    4           The Dark Knight  2008  18-Jul-08  152 min   \n",
            "4             4    5              12 Angry Men  1957   1-Apr-57   96 min   \n",
            "..          ...  ...                       ...   ...        ...      ...   \n",
            "245         245  246          The Lost Weekend  1945   1-Jan-46  101 min   \n",
            "246         246  247             Short Term 12  2013  23-Aug-13   96 min   \n",
            "247         247  248           His Girl Friday  1940  18-Jan-40   92 min   \n",
            "248         248  249        The Straight Story  1999   3-Nov-99  112 min   \n",
            "249         249  250       Slumdog Millionaire  2008  25-Dec-08  120 min   \n",
            "\n",
            "                      Genre                      Director  \\\n",
            "0              Crime, Drama                Frank Darabont   \n",
            "1              Crime, Drama          Francis Ford Coppola   \n",
            "2              Crime, Drama          Francis Ford Coppola   \n",
            "3      Action, Crime, Drama             Christopher Nolan   \n",
            "4              Crime, Drama                  Sidney Lumet   \n",
            "..                      ...                           ...   \n",
            "245        Drama, Film-Noir                  Billy Wilder   \n",
            "246                   Drama         Destin Daniel Cretton   \n",
            "247  Comedy, Drama, Romance                  Howard Hawks   \n",
            "248        Biography, Drama                   David Lynch   \n",
            "249                   Drama  Danny Boyle, Loveleen Tandan   \n",
            "\n",
            "                                                Writer  \\\n",
            "0    Stephen King (short story \"Rita Hayworth and S...   \n",
            "1    Mario Puzo (screenplay), Francis Ford Coppola ...   \n",
            "2    Francis Ford Coppola (screenplay), Mario Puzo ...   \n",
            "3    Jonathan Nolan (screenplay), Christopher Nolan...   \n",
            "4    Reginald Rose (story), Reginald Rose (screenplay)   \n",
            "..                                                 ...   \n",
            "245  Charles R. Jackson (from the novel by), Charle...   \n",
            "246                              Destin Daniel Cretton   \n",
            "247  Charles Lederer (screen play), Ben Hecht (from...   \n",
            "248                           John Roach, Mary Sweeney   \n",
            "249   Simon Beaufoy (screenplay), Vikas Swarup (novel)   \n",
            "\n",
            "                                                Actors  ...  \\\n",
            "0    Tim Robbins, Morgan Freeman, Bob Gunton, Willi...  ...   \n",
            "1    Marlon Brando, Al Pacino, James Caan, Richard ...  ...   \n",
            "2    Al Pacino, Robert Duvall, Diane Keaton, Robert...  ...   \n",
            "3    Christian Bale, Heath Ledger, Aaron Eckhart, M...  ...   \n",
            "4    Martin Balsam, John Fiedler, Lee J. Cobb, E.G....  ...   \n",
            "..                                                 ...  ...   \n",
            "245  Ray Milland, Jane Wyman, Phillip Terry, Howard...  ...   \n",
            "246  Brie Larson, John Gallagher Jr., Stephanie Bea...  ...   \n",
            "247  Cary Grant, Rosalind Russell, Ralph Bellamy, G...  ...   \n",
            "248  Sissy Spacek, Jane Galloway Heitz, Joseph A. C...  ...   \n",
            "249  Dev Patel, Saurabh Shukla, Anil Kapoor, Raj Zu...  ...   \n",
            "\n",
            "                                                Awards Metascore imdbRating  \\\n",
            "0    Nominated for 7 Oscars. Another 19 wins & 30 n...      80.0        9.3   \n",
            "1      Won 3 Oscars. Another 23 wins & 27 nominations.     100.0        9.2   \n",
            "2      Won 6 Oscars. Another 10 wins & 20 nominations.      85.0        9.0   \n",
            "3    Won 2 Oscars. Another 151 wins & 153 nominations.      82.0        9.0   \n",
            "4    Nominated for 3 Oscars. Another 16 wins & 8 no...      96.0        8.9   \n",
            "..                                                 ...       ...        ...   \n",
            "245     Won 4 Oscars. Another 12 wins & 3 nominations.       NaN        8.0   \n",
            "246                          35 wins & 70 nominations.      82.0        8.0   \n",
            "247                                            2 wins.       NaN        8.0   \n",
            "248  Nominated for 1 Oscar. Another 14 wins & 37 no...      86.0        8.0   \n",
            "249  Won 8 Oscars. Another 144 wins & 126 nominations.      86.0        8.0   \n",
            "\n",
            "     imdbVotes     imdbID   Type        DVD      BoxOffice  \\\n",
            "0    1,825,626  tt0111161  movie  27-Jan-98            NaN   \n",
            "1    1,243,444  tt0068646  movie   9-Oct-01            NaN   \n",
            "2      856,870  tt0071562  movie  24-May-05            NaN   \n",
            "3    1,802,351  tt0468569  movie   9-Dec-08  $533,316,061    \n",
            "4      494,215  tt0050083  movie   6-Mar-01            NaN   \n",
            "..         ...        ...    ...        ...            ...   \n",
            "245     26,834  tt0037884  movie   6-Feb-01            NaN   \n",
            "246     62,348  tt2370248  movie  14-Jan-14            NaN   \n",
            "247     43,551  tt0032599  movie  28-Dec-04            NaN   \n",
            "248     67,045  tt0166896  movie   7-Nov-00            NaN   \n",
            "249    679,975  tt1010048  movie  31-Mar-09  $141,243,551    \n",
            "\n",
            "                          Production  \\\n",
            "0                  Columbia Pictures   \n",
            "1                 Paramount Pictures   \n",
            "2                 Paramount Pictures   \n",
            "3    Warner Bros. Pictures/Legendary   \n",
            "4               Criterion Collection   \n",
            "..                               ...   \n",
            "245               Paramount Pictures   \n",
            "246                         Cinedigm   \n",
            "247                Columbia Pictures   \n",
            "248             Buena Vista Pictures   \n",
            "249         Fox Searchlight Pictures   \n",
            "\n",
            "                                               Website  \n",
            "0                                                  NaN  \n",
            "1                          http://www.thegodfather.com  \n",
            "2                         http://www.thegodfather.com/  \n",
            "3                 http://thedarkknight.warnerbros.com/  \n",
            "4    http://www.criterion.com/films/27871-12-angry-men  \n",
            "..                                                 ...  \n",
            "245                                                NaN  \n",
            "246                             http://shortterm12.com  \n",
            "247                                                NaN  \n",
            "248  http://disney.go.com/DisneyPictures/straightst...  \n",
            "249  http://www.foxsearchlight.com/slumdogmillionaire/  \n",
            "\n",
            "[250 rows x 23 columns]\n"
          ]
        }
      ],
      "source": [
        "df.sort_values('imdbID')\n",
        "print(df)"
      ]
    },
    {
      "cell_type": "markdown",
      "metadata": {
        "id": "3EXN_wozg2Cl"
      },
      "source": [
        "### 15. Custom Columns\n",
        "\n",
        "15.1 Make a custom column in your dataset. Make sure to name it appropriately!"
      ]
    },
    {
      "cell_type": "code",
      "execution_count": null,
      "metadata": {
        "colab": {
          "base_uri": "https://localhost:8080/",
          "height": 1000
        },
        "id": "JmMYOC4m1-pC",
        "outputId": "a7b45038-7365-43ad-f31c-4e502b00e97d"
      },
      "outputs": [
        {
          "output_type": "display_data",
          "data": {
            "text/plain": [
              "<IPython.core.display.HTML object>"
            ],
            "text/html": [
              "\n",
              "     <input type=\"file\" id=\"files-fae8a911-3dd5-4988-9c9b-24207ec055f7\" name=\"files[]\" multiple disabled\n",
              "        style=\"border:none\" />\n",
              "     <output id=\"result-fae8a911-3dd5-4988-9c9b-24207ec055f7\">\n",
              "      Upload widget is only available when the cell has been executed in the\n",
              "      current browser session. Please rerun this cell to enable.\n",
              "      </output>\n",
              "      <script>// Copyright 2017 Google LLC\n",
              "//\n",
              "// Licensed under the Apache License, Version 2.0 (the \"License\");\n",
              "// you may not use this file except in compliance with the License.\n",
              "// You may obtain a copy of the License at\n",
              "//\n",
              "//      http://www.apache.org/licenses/LICENSE-2.0\n",
              "//\n",
              "// Unless required by applicable law or agreed to in writing, software\n",
              "// distributed under the License is distributed on an \"AS IS\" BASIS,\n",
              "// WITHOUT WARRANTIES OR CONDITIONS OF ANY KIND, either express or implied.\n",
              "// See the License for the specific language governing permissions and\n",
              "// limitations under the License.\n",
              "\n",
              "/**\n",
              " * @fileoverview Helpers for google.colab Python module.\n",
              " */\n",
              "(function(scope) {\n",
              "function span(text, styleAttributes = {}) {\n",
              "  const element = document.createElement('span');\n",
              "  element.textContent = text;\n",
              "  for (const key of Object.keys(styleAttributes)) {\n",
              "    element.style[key] = styleAttributes[key];\n",
              "  }\n",
              "  return element;\n",
              "}\n",
              "\n",
              "// Max number of bytes which will be uploaded at a time.\n",
              "const MAX_PAYLOAD_SIZE = 100 * 1024;\n",
              "\n",
              "function _uploadFiles(inputId, outputId) {\n",
              "  const steps = uploadFilesStep(inputId, outputId);\n",
              "  const outputElement = document.getElementById(outputId);\n",
              "  // Cache steps on the outputElement to make it available for the next call\n",
              "  // to uploadFilesContinue from Python.\n",
              "  outputElement.steps = steps;\n",
              "\n",
              "  return _uploadFilesContinue(outputId);\n",
              "}\n",
              "\n",
              "// This is roughly an async generator (not supported in the browser yet),\n",
              "// where there are multiple asynchronous steps and the Python side is going\n",
              "// to poll for completion of each step.\n",
              "// This uses a Promise to block the python side on completion of each step,\n",
              "// then passes the result of the previous step as the input to the next step.\n",
              "function _uploadFilesContinue(outputId) {\n",
              "  const outputElement = document.getElementById(outputId);\n",
              "  const steps = outputElement.steps;\n",
              "\n",
              "  const next = steps.next(outputElement.lastPromiseValue);\n",
              "  return Promise.resolve(next.value.promise).then((value) => {\n",
              "    // Cache the last promise value to make it available to the next\n",
              "    // step of the generator.\n",
              "    outputElement.lastPromiseValue = value;\n",
              "    return next.value.response;\n",
              "  });\n",
              "}\n",
              "\n",
              "/**\n",
              " * Generator function which is called between each async step of the upload\n",
              " * process.\n",
              " * @param {string} inputId Element ID of the input file picker element.\n",
              " * @param {string} outputId Element ID of the output display.\n",
              " * @return {!Iterable<!Object>} Iterable of next steps.\n",
              " */\n",
              "function* uploadFilesStep(inputId, outputId) {\n",
              "  const inputElement = document.getElementById(inputId);\n",
              "  inputElement.disabled = false;\n",
              "\n",
              "  const outputElement = document.getElementById(outputId);\n",
              "  outputElement.innerHTML = '';\n",
              "\n",
              "  const pickedPromise = new Promise((resolve) => {\n",
              "    inputElement.addEventListener('change', (e) => {\n",
              "      resolve(e.target.files);\n",
              "    });\n",
              "  });\n",
              "\n",
              "  const cancel = document.createElement('button');\n",
              "  inputElement.parentElement.appendChild(cancel);\n",
              "  cancel.textContent = 'Cancel upload';\n",
              "  const cancelPromise = new Promise((resolve) => {\n",
              "    cancel.onclick = () => {\n",
              "      resolve(null);\n",
              "    };\n",
              "  });\n",
              "\n",
              "  // Wait for the user to pick the files.\n",
              "  const files = yield {\n",
              "    promise: Promise.race([pickedPromise, cancelPromise]),\n",
              "    response: {\n",
              "      action: 'starting',\n",
              "    }\n",
              "  };\n",
              "\n",
              "  cancel.remove();\n",
              "\n",
              "  // Disable the input element since further picks are not allowed.\n",
              "  inputElement.disabled = true;\n",
              "\n",
              "  if (!files) {\n",
              "    return {\n",
              "      response: {\n",
              "        action: 'complete',\n",
              "      }\n",
              "    };\n",
              "  }\n",
              "\n",
              "  for (const file of files) {\n",
              "    const li = document.createElement('li');\n",
              "    li.append(span(file.name, {fontWeight: 'bold'}));\n",
              "    li.append(span(\n",
              "        `(${file.type || 'n/a'}) - ${file.size} bytes, ` +\n",
              "        `last modified: ${\n",
              "            file.lastModifiedDate ? file.lastModifiedDate.toLocaleDateString() :\n",
              "                                    'n/a'} - `));\n",
              "    const percent = span('0% done');\n",
              "    li.appendChild(percent);\n",
              "\n",
              "    outputElement.appendChild(li);\n",
              "\n",
              "    const fileDataPromise = new Promise((resolve) => {\n",
              "      const reader = new FileReader();\n",
              "      reader.onload = (e) => {\n",
              "        resolve(e.target.result);\n",
              "      };\n",
              "      reader.readAsArrayBuffer(file);\n",
              "    });\n",
              "    // Wait for the data to be ready.\n",
              "    let fileData = yield {\n",
              "      promise: fileDataPromise,\n",
              "      response: {\n",
              "        action: 'continue',\n",
              "      }\n",
              "    };\n",
              "\n",
              "    // Use a chunked sending to avoid message size limits. See b/62115660.\n",
              "    let position = 0;\n",
              "    do {\n",
              "      const length = Math.min(fileData.byteLength - position, MAX_PAYLOAD_SIZE);\n",
              "      const chunk = new Uint8Array(fileData, position, length);\n",
              "      position += length;\n",
              "\n",
              "      const base64 = btoa(String.fromCharCode.apply(null, chunk));\n",
              "      yield {\n",
              "        response: {\n",
              "          action: 'append',\n",
              "          file: file.name,\n",
              "          data: base64,\n",
              "        },\n",
              "      };\n",
              "\n",
              "      let percentDone = fileData.byteLength === 0 ?\n",
              "          100 :\n",
              "          Math.round((position / fileData.byteLength) * 100);\n",
              "      percent.textContent = `${percentDone}% done`;\n",
              "\n",
              "    } while (position < fileData.byteLength);\n",
              "  }\n",
              "\n",
              "  // All done.\n",
              "  yield {\n",
              "    response: {\n",
              "      action: 'complete',\n",
              "    }\n",
              "  };\n",
              "}\n",
              "\n",
              "scope.google = scope.google || {};\n",
              "scope.google.colab = scope.google.colab || {};\n",
              "scope.google.colab._files = {\n",
              "  _uploadFiles,\n",
              "  _uploadFilesContinue,\n",
              "};\n",
              "})(self);\n",
              "</script> "
            ]
          },
          "metadata": {}
        },
        {
          "output_type": "stream",
          "name": "stdout",
          "text": [
            "Saving IMDB_Top_250.csv to IMDB_Top_250 (5).csv\n",
            "     Unnamed: 0  Num                     Title  Year   Released  Runtime  \\\n",
            "0             0    1  The Shawshank Redemption  1994  14-Oct-94  142 min   \n",
            "1             1    2             The Godfather  1972  24-Mar-72  175 min   \n",
            "2             2    3    The Godfather: Part II  1974  20-Dec-74  202 min   \n",
            "3             3    4           The Dark Knight  2008  18-Jul-08  152 min   \n",
            "4             4    5              12 Angry Men  1957   1-Apr-57   96 min   \n",
            "..          ...  ...                       ...   ...        ...      ...   \n",
            "245         245  246          The Lost Weekend  1945   1-Jan-46  101 min   \n",
            "246         246  247             Short Term 12  2013  23-Aug-13   96 min   \n",
            "247         247  248           His Girl Friday  1940  18-Jan-40   92 min   \n",
            "248         248  249        The Straight Story  1999   3-Nov-99  112 min   \n",
            "249         249  250       Slumdog Millionaire  2008  25-Dec-08  120 min   \n",
            "\n",
            "                      Genre                      Director  \\\n",
            "0              Crime, Drama                Frank Darabont   \n",
            "1              Crime, Drama          Francis Ford Coppola   \n",
            "2              Crime, Drama          Francis Ford Coppola   \n",
            "3      Action, Crime, Drama             Christopher Nolan   \n",
            "4              Crime, Drama                  Sidney Lumet   \n",
            "..                      ...                           ...   \n",
            "245        Drama, Film-Noir                  Billy Wilder   \n",
            "246                   Drama         Destin Daniel Cretton   \n",
            "247  Comedy, Drama, Romance                  Howard Hawks   \n",
            "248        Biography, Drama                   David Lynch   \n",
            "249                   Drama  Danny Boyle, Loveleen Tandan   \n",
            "\n",
            "                                                Writer  \\\n",
            "0    Stephen King (short story \"Rita Hayworth and S...   \n",
            "1    Mario Puzo (screenplay), Francis Ford Coppola ...   \n",
            "2    Francis Ford Coppola (screenplay), Mario Puzo ...   \n",
            "3    Jonathan Nolan (screenplay), Christopher Nolan...   \n",
            "4    Reginald Rose (story), Reginald Rose (screenplay)   \n",
            "..                                                 ...   \n",
            "245  Charles R. Jackson (from the novel by), Charle...   \n",
            "246                              Destin Daniel Cretton   \n",
            "247  Charles Lederer (screen play), Ben Hecht (from...   \n",
            "248                           John Roach, Mary Sweeney   \n",
            "249   Simon Beaufoy (screenplay), Vikas Swarup (novel)   \n",
            "\n",
            "                                                Actors  ...  \\\n",
            "0    Tim Robbins, Morgan Freeman, Bob Gunton, Willi...  ...   \n",
            "1    Marlon Brando, Al Pacino, James Caan, Richard ...  ...   \n",
            "2    Al Pacino, Robert Duvall, Diane Keaton, Robert...  ...   \n",
            "3    Christian Bale, Heath Ledger, Aaron Eckhart, M...  ...   \n",
            "4    Martin Balsam, John Fiedler, Lee J. Cobb, E.G....  ...   \n",
            "..                                                 ...  ...   \n",
            "245  Ray Milland, Jane Wyman, Phillip Terry, Howard...  ...   \n",
            "246  Brie Larson, John Gallagher Jr., Stephanie Bea...  ...   \n",
            "247  Cary Grant, Rosalind Russell, Ralph Bellamy, G...  ...   \n",
            "248  Sissy Spacek, Jane Galloway Heitz, Joseph A. C...  ...   \n",
            "249  Dev Patel, Saurabh Shukla, Anil Kapoor, Raj Zu...  ...   \n",
            "\n",
            "                                                Awards Metascore imdbRating  \\\n",
            "0    Nominated for 7 Oscars. Another 19 wins & 30 n...      80.0        9.3   \n",
            "1      Won 3 Oscars. Another 23 wins & 27 nominations.     100.0        9.2   \n",
            "2      Won 6 Oscars. Another 10 wins & 20 nominations.      85.0        9.0   \n",
            "3    Won 2 Oscars. Another 151 wins & 153 nominations.      82.0        9.0   \n",
            "4    Nominated for 3 Oscars. Another 16 wins & 8 no...      96.0        8.9   \n",
            "..                                                 ...       ...        ...   \n",
            "245     Won 4 Oscars. Another 12 wins & 3 nominations.       NaN        8.0   \n",
            "246                          35 wins & 70 nominations.      82.0        8.0   \n",
            "247                                            2 wins.       NaN        8.0   \n",
            "248  Nominated for 1 Oscar. Another 14 wins & 37 no...      86.0        8.0   \n",
            "249  Won 8 Oscars. Another 144 wins & 126 nominations.      86.0        8.0   \n",
            "\n",
            "     imdbVotes     imdbID   Type        DVD      BoxOffice  \\\n",
            "0    1,825,626  tt0111161  movie  27-Jan-98            NaN   \n",
            "1    1,243,444  tt0068646  movie   9-Oct-01            NaN   \n",
            "2      856,870  tt0071562  movie  24-May-05            NaN   \n",
            "3    1,802,351  tt0468569  movie   9-Dec-08  $533,316,061    \n",
            "4      494,215  tt0050083  movie   6-Mar-01            NaN   \n",
            "..         ...        ...    ...        ...            ...   \n",
            "245     26,834  tt0037884  movie   6-Feb-01            NaN   \n",
            "246     62,348  tt2370248  movie  14-Jan-14            NaN   \n",
            "247     43,551  tt0032599  movie  28-Dec-04            NaN   \n",
            "248     67,045  tt0166896  movie   7-Nov-00            NaN   \n",
            "249    679,975  tt1010048  movie  31-Mar-09  $141,243,551    \n",
            "\n",
            "                          Production  \\\n",
            "0                  Columbia Pictures   \n",
            "1                 Paramount Pictures   \n",
            "2                 Paramount Pictures   \n",
            "3    Warner Bros. Pictures/Legendary   \n",
            "4               Criterion Collection   \n",
            "..                               ...   \n",
            "245               Paramount Pictures   \n",
            "246                         Cinedigm   \n",
            "247                Columbia Pictures   \n",
            "248             Buena Vista Pictures   \n",
            "249         Fox Searchlight Pictures   \n",
            "\n",
            "                                               Website  \n",
            "0                                                  NaN  \n",
            "1                          http://www.thegodfather.com  \n",
            "2                         http://www.thegodfather.com/  \n",
            "3                 http://thedarkknight.warnerbros.com/  \n",
            "4    http://www.criterion.com/films/27871-12-angry-men  \n",
            "..                                                 ...  \n",
            "245                                                NaN  \n",
            "246                             http://shortterm12.com  \n",
            "247                                                NaN  \n",
            "248  http://disney.go.com/DisneyPictures/straightst...  \n",
            "249  http://www.foxsearchlight.com/slumdogmillionaire/  \n",
            "\n",
            "[250 rows x 23 columns]\n"
          ]
        }
      ],
      "source": [
        "import pandas as pd\n",
        "import io\n",
        "from google.colab import files\n",
        "import io\n",
        "\n",
        "uploaded = files.upload()\n",
        "\n",
        "df = pd.read_csv(io.BytesIO(uploaded['IMDB_Top_250.csv']))\n",
        "print(df)\n"
      ]
    },
    {
      "cell_type": "code",
      "execution_count": null,
      "metadata": {
        "colab": {
          "base_uri": "https://localhost:8080/",
          "height": 1000
        },
        "id": "-UPhts_cO7qy",
        "outputId": "b5f09d62-56d7-4cdd-af7d-664c135f817e"
      },
      "outputs": [
        {
          "output_type": "execute_result",
          "data": {
            "text/plain": [
              "     Unnamed: 0  Num                     Title  Year   Released  Runtime  \\\n",
              "0             0    1  The Shawshank Redemption  1994  14-Oct-94  142 min   \n",
              "1             1    2             The Godfather  1972  24-Mar-72  175 min   \n",
              "2             2    3    The Godfather: Part II  1974  20-Dec-74  202 min   \n",
              "3             3    4           The Dark Knight  2008  18-Jul-08  152 min   \n",
              "4             4    5              12 Angry Men  1957   1-Apr-57   96 min   \n",
              "..          ...  ...                       ...   ...        ...      ...   \n",
              "245         245  246          The Lost Weekend  1945   1-Jan-46  101 min   \n",
              "246         246  247             Short Term 12  2013  23-Aug-13   96 min   \n",
              "247         247  248           His Girl Friday  1940  18-Jan-40   92 min   \n",
              "248         248  249        The Straight Story  1999   3-Nov-99  112 min   \n",
              "249         249  250       Slumdog Millionaire  2008  25-Dec-08  120 min   \n",
              "\n",
              "                      Genre                      Director  \\\n",
              "0              Crime, Drama                Frank Darabont   \n",
              "1              Crime, Drama          Francis Ford Coppola   \n",
              "2              Crime, Drama          Francis Ford Coppola   \n",
              "3      Action, Crime, Drama             Christopher Nolan   \n",
              "4              Crime, Drama                  Sidney Lumet   \n",
              "..                      ...                           ...   \n",
              "245        Drama, Film-Noir                  Billy Wilder   \n",
              "246                   Drama         Destin Daniel Cretton   \n",
              "247  Comedy, Drama, Romance                  Howard Hawks   \n",
              "248        Biography, Drama                   David Lynch   \n",
              "249                   Drama  Danny Boyle, Loveleen Tandan   \n",
              "\n",
              "                                                Writer  \\\n",
              "0    Stephen King (short story \"Rita Hayworth and S...   \n",
              "1    Mario Puzo (screenplay), Francis Ford Coppola ...   \n",
              "2    Francis Ford Coppola (screenplay), Mario Puzo ...   \n",
              "3    Jonathan Nolan (screenplay), Christopher Nolan...   \n",
              "4    Reginald Rose (story), Reginald Rose (screenplay)   \n",
              "..                                                 ...   \n",
              "245  Charles R. Jackson (from the novel by), Charle...   \n",
              "246                              Destin Daniel Cretton   \n",
              "247  Charles Lederer (screen play), Ben Hecht (from...   \n",
              "248                           John Roach, Mary Sweeney   \n",
              "249   Simon Beaufoy (screenplay), Vikas Swarup (novel)   \n",
              "\n",
              "                                                Actors  ... Metascore  \\\n",
              "0    Tim Robbins, Morgan Freeman, Bob Gunton, Willi...  ...      80.0   \n",
              "1    Marlon Brando, Al Pacino, James Caan, Richard ...  ...     100.0   \n",
              "2    Al Pacino, Robert Duvall, Diane Keaton, Robert...  ...      85.0   \n",
              "3    Christian Bale, Heath Ledger, Aaron Eckhart, M...  ...      82.0   \n",
              "4    Martin Balsam, John Fiedler, Lee J. Cobb, E.G....  ...      96.0   \n",
              "..                                                 ...  ...       ...   \n",
              "245  Ray Milland, Jane Wyman, Phillip Terry, Howard...  ...       NaN   \n",
              "246  Brie Larson, John Gallagher Jr., Stephanie Bea...  ...      82.0   \n",
              "247  Cary Grant, Rosalind Russell, Ralph Bellamy, G...  ...       NaN   \n",
              "248  Sissy Spacek, Jane Galloway Heitz, Joseph A. C...  ...      86.0   \n",
              "249  Dev Patel, Saurabh Shukla, Anil Kapoor, Raj Zu...  ...      86.0   \n",
              "\n",
              "    imdbRating  imdbVotes     imdbID   Type        DVD      BoxOffice  \\\n",
              "0          9.3  1,825,626  tt0111161  movie  27-Jan-98            NaN   \n",
              "1          9.2  1,243,444  tt0068646  movie   9-Oct-01            NaN   \n",
              "2          9.0    856,870  tt0071562  movie  24-May-05            NaN   \n",
              "3          9.0  1,802,351  tt0468569  movie   9-Dec-08  $533,316,061    \n",
              "4          8.9    494,215  tt0050083  movie   6-Mar-01            NaN   \n",
              "..         ...        ...        ...    ...        ...            ...   \n",
              "245        8.0     26,834  tt0037884  movie   6-Feb-01            NaN   \n",
              "246        8.0     62,348  tt2370248  movie  14-Jan-14            NaN   \n",
              "247        8.0     43,551  tt0032599  movie  28-Dec-04            NaN   \n",
              "248        8.0     67,045  tt0166896  movie   7-Nov-00            NaN   \n",
              "249        8.0    679,975  tt1010048  movie  31-Mar-09  $141,243,551    \n",
              "\n",
              "                          Production  \\\n",
              "0                  Columbia Pictures   \n",
              "1                 Paramount Pictures   \n",
              "2                 Paramount Pictures   \n",
              "3    Warner Bros. Pictures/Legendary   \n",
              "4               Criterion Collection   \n",
              "..                               ...   \n",
              "245               Paramount Pictures   \n",
              "246                         Cinedigm   \n",
              "247                Columbia Pictures   \n",
              "248             Buena Vista Pictures   \n",
              "249         Fox Searchlight Pictures   \n",
              "\n",
              "                                               Website Soundtrack  \n",
              "0                                                  NaN        NaT  \n",
              "1                          http://www.thegodfather.com        NaT  \n",
              "2                         http://www.thegodfather.com/        NaT  \n",
              "3                 http://thedarkknight.warnerbros.com/        NaT  \n",
              "4    http://www.criterion.com/films/27871-12-angry-men        NaT  \n",
              "..                                                 ...        ...  \n",
              "245                                                NaN        NaT  \n",
              "246                             http://shortterm12.com        NaT  \n",
              "247                                                NaN        NaT  \n",
              "248  http://disney.go.com/DisneyPictures/straightst...        NaT  \n",
              "249  http://www.foxsearchlight.com/slumdogmillionaire/        NaT  \n",
              "\n",
              "[250 rows x 24 columns]"
            ],
            "text/html": [
              "\n",
              "  <div id=\"df-992cfccc-706d-4163-abf7-1c1083779a62\">\n",
              "    <div class=\"colab-df-container\">\n",
              "      <div>\n",
              "<style scoped>\n",
              "    .dataframe tbody tr th:only-of-type {\n",
              "        vertical-align: middle;\n",
              "    }\n",
              "\n",
              "    .dataframe tbody tr th {\n",
              "        vertical-align: top;\n",
              "    }\n",
              "\n",
              "    .dataframe thead th {\n",
              "        text-align: right;\n",
              "    }\n",
              "</style>\n",
              "<table border=\"1\" class=\"dataframe\">\n",
              "  <thead>\n",
              "    <tr style=\"text-align: right;\">\n",
              "      <th></th>\n",
              "      <th>Unnamed: 0</th>\n",
              "      <th>Num</th>\n",
              "      <th>Title</th>\n",
              "      <th>Year</th>\n",
              "      <th>Released</th>\n",
              "      <th>Runtime</th>\n",
              "      <th>Genre</th>\n",
              "      <th>Director</th>\n",
              "      <th>Writer</th>\n",
              "      <th>Actors</th>\n",
              "      <th>...</th>\n",
              "      <th>Metascore</th>\n",
              "      <th>imdbRating</th>\n",
              "      <th>imdbVotes</th>\n",
              "      <th>imdbID</th>\n",
              "      <th>Type</th>\n",
              "      <th>DVD</th>\n",
              "      <th>BoxOffice</th>\n",
              "      <th>Production</th>\n",
              "      <th>Website</th>\n",
              "      <th>Soundtrack</th>\n",
              "    </tr>\n",
              "  </thead>\n",
              "  <tbody>\n",
              "    <tr>\n",
              "      <th>0</th>\n",
              "      <td>0</td>\n",
              "      <td>1</td>\n",
              "      <td>The Shawshank Redemption</td>\n",
              "      <td>1994</td>\n",
              "      <td>14-Oct-94</td>\n",
              "      <td>142 min</td>\n",
              "      <td>Crime, Drama</td>\n",
              "      <td>Frank Darabont</td>\n",
              "      <td>Stephen King (short story \"Rita Hayworth and S...</td>\n",
              "      <td>Tim Robbins, Morgan Freeman, Bob Gunton, Willi...</td>\n",
              "      <td>...</td>\n",
              "      <td>80.0</td>\n",
              "      <td>9.3</td>\n",
              "      <td>1,825,626</td>\n",
              "      <td>tt0111161</td>\n",
              "      <td>movie</td>\n",
              "      <td>27-Jan-98</td>\n",
              "      <td>NaN</td>\n",
              "      <td>Columbia Pictures</td>\n",
              "      <td>NaN</td>\n",
              "      <td>NaT</td>\n",
              "    </tr>\n",
              "    <tr>\n",
              "      <th>1</th>\n",
              "      <td>1</td>\n",
              "      <td>2</td>\n",
              "      <td>The Godfather</td>\n",
              "      <td>1972</td>\n",
              "      <td>24-Mar-72</td>\n",
              "      <td>175 min</td>\n",
              "      <td>Crime, Drama</td>\n",
              "      <td>Francis Ford Coppola</td>\n",
              "      <td>Mario Puzo (screenplay), Francis Ford Coppola ...</td>\n",
              "      <td>Marlon Brando, Al Pacino, James Caan, Richard ...</td>\n",
              "      <td>...</td>\n",
              "      <td>100.0</td>\n",
              "      <td>9.2</td>\n",
              "      <td>1,243,444</td>\n",
              "      <td>tt0068646</td>\n",
              "      <td>movie</td>\n",
              "      <td>9-Oct-01</td>\n",
              "      <td>NaN</td>\n",
              "      <td>Paramount Pictures</td>\n",
              "      <td>http://www.thegodfather.com</td>\n",
              "      <td>NaT</td>\n",
              "    </tr>\n",
              "    <tr>\n",
              "      <th>2</th>\n",
              "      <td>2</td>\n",
              "      <td>3</td>\n",
              "      <td>The Godfather: Part II</td>\n",
              "      <td>1974</td>\n",
              "      <td>20-Dec-74</td>\n",
              "      <td>202 min</td>\n",
              "      <td>Crime, Drama</td>\n",
              "      <td>Francis Ford Coppola</td>\n",
              "      <td>Francis Ford Coppola (screenplay), Mario Puzo ...</td>\n",
              "      <td>Al Pacino, Robert Duvall, Diane Keaton, Robert...</td>\n",
              "      <td>...</td>\n",
              "      <td>85.0</td>\n",
              "      <td>9.0</td>\n",
              "      <td>856,870</td>\n",
              "      <td>tt0071562</td>\n",
              "      <td>movie</td>\n",
              "      <td>24-May-05</td>\n",
              "      <td>NaN</td>\n",
              "      <td>Paramount Pictures</td>\n",
              "      <td>http://www.thegodfather.com/</td>\n",
              "      <td>NaT</td>\n",
              "    </tr>\n",
              "    <tr>\n",
              "      <th>3</th>\n",
              "      <td>3</td>\n",
              "      <td>4</td>\n",
              "      <td>The Dark Knight</td>\n",
              "      <td>2008</td>\n",
              "      <td>18-Jul-08</td>\n",
              "      <td>152 min</td>\n",
              "      <td>Action, Crime, Drama</td>\n",
              "      <td>Christopher Nolan</td>\n",
              "      <td>Jonathan Nolan (screenplay), Christopher Nolan...</td>\n",
              "      <td>Christian Bale, Heath Ledger, Aaron Eckhart, M...</td>\n",
              "      <td>...</td>\n",
              "      <td>82.0</td>\n",
              "      <td>9.0</td>\n",
              "      <td>1,802,351</td>\n",
              "      <td>tt0468569</td>\n",
              "      <td>movie</td>\n",
              "      <td>9-Dec-08</td>\n",
              "      <td>$533,316,061</td>\n",
              "      <td>Warner Bros. Pictures/Legendary</td>\n",
              "      <td>http://thedarkknight.warnerbros.com/</td>\n",
              "      <td>NaT</td>\n",
              "    </tr>\n",
              "    <tr>\n",
              "      <th>4</th>\n",
              "      <td>4</td>\n",
              "      <td>5</td>\n",
              "      <td>12 Angry Men</td>\n",
              "      <td>1957</td>\n",
              "      <td>1-Apr-57</td>\n",
              "      <td>96 min</td>\n",
              "      <td>Crime, Drama</td>\n",
              "      <td>Sidney Lumet</td>\n",
              "      <td>Reginald Rose (story), Reginald Rose (screenplay)</td>\n",
              "      <td>Martin Balsam, John Fiedler, Lee J. Cobb, E.G....</td>\n",
              "      <td>...</td>\n",
              "      <td>96.0</td>\n",
              "      <td>8.9</td>\n",
              "      <td>494,215</td>\n",
              "      <td>tt0050083</td>\n",
              "      <td>movie</td>\n",
              "      <td>6-Mar-01</td>\n",
              "      <td>NaN</td>\n",
              "      <td>Criterion Collection</td>\n",
              "      <td>http://www.criterion.com/films/27871-12-angry-men</td>\n",
              "      <td>NaT</td>\n",
              "    </tr>\n",
              "    <tr>\n",
              "      <th>...</th>\n",
              "      <td>...</td>\n",
              "      <td>...</td>\n",
              "      <td>...</td>\n",
              "      <td>...</td>\n",
              "      <td>...</td>\n",
              "      <td>...</td>\n",
              "      <td>...</td>\n",
              "      <td>...</td>\n",
              "      <td>...</td>\n",
              "      <td>...</td>\n",
              "      <td>...</td>\n",
              "      <td>...</td>\n",
              "      <td>...</td>\n",
              "      <td>...</td>\n",
              "      <td>...</td>\n",
              "      <td>...</td>\n",
              "      <td>...</td>\n",
              "      <td>...</td>\n",
              "      <td>...</td>\n",
              "      <td>...</td>\n",
              "      <td>...</td>\n",
              "    </tr>\n",
              "    <tr>\n",
              "      <th>245</th>\n",
              "      <td>245</td>\n",
              "      <td>246</td>\n",
              "      <td>The Lost Weekend</td>\n",
              "      <td>1945</td>\n",
              "      <td>1-Jan-46</td>\n",
              "      <td>101 min</td>\n",
              "      <td>Drama, Film-Noir</td>\n",
              "      <td>Billy Wilder</td>\n",
              "      <td>Charles R. Jackson (from the novel by), Charle...</td>\n",
              "      <td>Ray Milland, Jane Wyman, Phillip Terry, Howard...</td>\n",
              "      <td>...</td>\n",
              "      <td>NaN</td>\n",
              "      <td>8.0</td>\n",
              "      <td>26,834</td>\n",
              "      <td>tt0037884</td>\n",
              "      <td>movie</td>\n",
              "      <td>6-Feb-01</td>\n",
              "      <td>NaN</td>\n",
              "      <td>Paramount Pictures</td>\n",
              "      <td>NaN</td>\n",
              "      <td>NaT</td>\n",
              "    </tr>\n",
              "    <tr>\n",
              "      <th>246</th>\n",
              "      <td>246</td>\n",
              "      <td>247</td>\n",
              "      <td>Short Term 12</td>\n",
              "      <td>2013</td>\n",
              "      <td>23-Aug-13</td>\n",
              "      <td>96 min</td>\n",
              "      <td>Drama</td>\n",
              "      <td>Destin Daniel Cretton</td>\n",
              "      <td>Destin Daniel Cretton</td>\n",
              "      <td>Brie Larson, John Gallagher Jr., Stephanie Bea...</td>\n",
              "      <td>...</td>\n",
              "      <td>82.0</td>\n",
              "      <td>8.0</td>\n",
              "      <td>62,348</td>\n",
              "      <td>tt2370248</td>\n",
              "      <td>movie</td>\n",
              "      <td>14-Jan-14</td>\n",
              "      <td>NaN</td>\n",
              "      <td>Cinedigm</td>\n",
              "      <td>http://shortterm12.com</td>\n",
              "      <td>NaT</td>\n",
              "    </tr>\n",
              "    <tr>\n",
              "      <th>247</th>\n",
              "      <td>247</td>\n",
              "      <td>248</td>\n",
              "      <td>His Girl Friday</td>\n",
              "      <td>1940</td>\n",
              "      <td>18-Jan-40</td>\n",
              "      <td>92 min</td>\n",
              "      <td>Comedy, Drama, Romance</td>\n",
              "      <td>Howard Hawks</td>\n",
              "      <td>Charles Lederer (screen play), Ben Hecht (from...</td>\n",
              "      <td>Cary Grant, Rosalind Russell, Ralph Bellamy, G...</td>\n",
              "      <td>...</td>\n",
              "      <td>NaN</td>\n",
              "      <td>8.0</td>\n",
              "      <td>43,551</td>\n",
              "      <td>tt0032599</td>\n",
              "      <td>movie</td>\n",
              "      <td>28-Dec-04</td>\n",
              "      <td>NaN</td>\n",
              "      <td>Columbia Pictures</td>\n",
              "      <td>NaN</td>\n",
              "      <td>NaT</td>\n",
              "    </tr>\n",
              "    <tr>\n",
              "      <th>248</th>\n",
              "      <td>248</td>\n",
              "      <td>249</td>\n",
              "      <td>The Straight Story</td>\n",
              "      <td>1999</td>\n",
              "      <td>3-Nov-99</td>\n",
              "      <td>112 min</td>\n",
              "      <td>Biography, Drama</td>\n",
              "      <td>David Lynch</td>\n",
              "      <td>John Roach, Mary Sweeney</td>\n",
              "      <td>Sissy Spacek, Jane Galloway Heitz, Joseph A. C...</td>\n",
              "      <td>...</td>\n",
              "      <td>86.0</td>\n",
              "      <td>8.0</td>\n",
              "      <td>67,045</td>\n",
              "      <td>tt0166896</td>\n",
              "      <td>movie</td>\n",
              "      <td>7-Nov-00</td>\n",
              "      <td>NaN</td>\n",
              "      <td>Buena Vista Pictures</td>\n",
              "      <td>http://disney.go.com/DisneyPictures/straightst...</td>\n",
              "      <td>NaT</td>\n",
              "    </tr>\n",
              "    <tr>\n",
              "      <th>249</th>\n",
              "      <td>249</td>\n",
              "      <td>250</td>\n",
              "      <td>Slumdog Millionaire</td>\n",
              "      <td>2008</td>\n",
              "      <td>25-Dec-08</td>\n",
              "      <td>120 min</td>\n",
              "      <td>Drama</td>\n",
              "      <td>Danny Boyle, Loveleen Tandan</td>\n",
              "      <td>Simon Beaufoy (screenplay), Vikas Swarup (novel)</td>\n",
              "      <td>Dev Patel, Saurabh Shukla, Anil Kapoor, Raj Zu...</td>\n",
              "      <td>...</td>\n",
              "      <td>86.0</td>\n",
              "      <td>8.0</td>\n",
              "      <td>679,975</td>\n",
              "      <td>tt1010048</td>\n",
              "      <td>movie</td>\n",
              "      <td>31-Mar-09</td>\n",
              "      <td>$141,243,551</td>\n",
              "      <td>Fox Searchlight Pictures</td>\n",
              "      <td>http://www.foxsearchlight.com/slumdogmillionaire/</td>\n",
              "      <td>NaT</td>\n",
              "    </tr>\n",
              "  </tbody>\n",
              "</table>\n",
              "<p>250 rows × 24 columns</p>\n",
              "</div>\n",
              "      <button class=\"colab-df-convert\" onclick=\"convertToInteractive('df-992cfccc-706d-4163-abf7-1c1083779a62')\"\n",
              "              title=\"Convert this dataframe to an interactive table.\"\n",
              "              style=\"display:none;\">\n",
              "        \n",
              "  <svg xmlns=\"http://www.w3.org/2000/svg\" height=\"24px\"viewBox=\"0 0 24 24\"\n",
              "       width=\"24px\">\n",
              "    <path d=\"M0 0h24v24H0V0z\" fill=\"none\"/>\n",
              "    <path d=\"M18.56 5.44l.94 2.06.94-2.06 2.06-.94-2.06-.94-.94-2.06-.94 2.06-2.06.94zm-11 1L8.5 8.5l.94-2.06 2.06-.94-2.06-.94L8.5 2.5l-.94 2.06-2.06.94zm10 10l.94 2.06.94-2.06 2.06-.94-2.06-.94-.94-2.06-.94 2.06-2.06.94z\"/><path d=\"M17.41 7.96l-1.37-1.37c-.4-.4-.92-.59-1.43-.59-.52 0-1.04.2-1.43.59L10.3 9.45l-7.72 7.72c-.78.78-.78 2.05 0 2.83L4 21.41c.39.39.9.59 1.41.59.51 0 1.02-.2 1.41-.59l7.78-7.78 2.81-2.81c.8-.78.8-2.07 0-2.86zM5.41 20L4 18.59l7.72-7.72 1.47 1.35L5.41 20z\"/>\n",
              "  </svg>\n",
              "      </button>\n",
              "      \n",
              "  <style>\n",
              "    .colab-df-container {\n",
              "      display:flex;\n",
              "      flex-wrap:wrap;\n",
              "      gap: 12px;\n",
              "    }\n",
              "\n",
              "    .colab-df-convert {\n",
              "      background-color: #E8F0FE;\n",
              "      border: none;\n",
              "      border-radius: 50%;\n",
              "      cursor: pointer;\n",
              "      display: none;\n",
              "      fill: #1967D2;\n",
              "      height: 32px;\n",
              "      padding: 0 0 0 0;\n",
              "      width: 32px;\n",
              "    }\n",
              "\n",
              "    .colab-df-convert:hover {\n",
              "      background-color: #E2EBFA;\n",
              "      box-shadow: 0px 1px 2px rgba(60, 64, 67, 0.3), 0px 1px 3px 1px rgba(60, 64, 67, 0.15);\n",
              "      fill: #174EA6;\n",
              "    }\n",
              "\n",
              "    [theme=dark] .colab-df-convert {\n",
              "      background-color: #3B4455;\n",
              "      fill: #D2E3FC;\n",
              "    }\n",
              "\n",
              "    [theme=dark] .colab-df-convert:hover {\n",
              "      background-color: #434B5C;\n",
              "      box-shadow: 0px 1px 3px 1px rgba(0, 0, 0, 0.15);\n",
              "      filter: drop-shadow(0px 1px 2px rgba(0, 0, 0, 0.3));\n",
              "      fill: #FFFFFF;\n",
              "    }\n",
              "  </style>\n",
              "\n",
              "      <script>\n",
              "        const buttonEl =\n",
              "          document.querySelector('#df-992cfccc-706d-4163-abf7-1c1083779a62 button.colab-df-convert');\n",
              "        buttonEl.style.display =\n",
              "          google.colab.kernel.accessAllowed ? 'block' : 'none';\n",
              "\n",
              "        async function convertToInteractive(key) {\n",
              "          const element = document.querySelector('#df-992cfccc-706d-4163-abf7-1c1083779a62');\n",
              "          const dataTable =\n",
              "            await google.colab.kernel.invokeFunction('convertToInteractive',\n",
              "                                                     [key], {});\n",
              "          if (!dataTable) return;\n",
              "\n",
              "          const docLinkHtml = 'Like what you see? Visit the ' +\n",
              "            '<a target=\"_blank\" href=https://colab.research.google.com/notebooks/data_table.ipynb>data table notebook</a>'\n",
              "            + ' to learn more about interactive tables.';\n",
              "          element.innerHTML = '';\n",
              "          dataTable['output_type'] = 'display_data';\n",
              "          await google.colab.output.renderOutput(dataTable, element);\n",
              "          const docLink = document.createElement('div');\n",
              "          docLink.innerHTML = docLinkHtml;\n",
              "          element.appendChild(docLink);\n",
              "        }\n",
              "      </script>\n",
              "    </div>\n",
              "  </div>\n",
              "  "
            ]
          },
          "metadata": {},
          "execution_count": 13
        }
      ],
      "source": [
        "df['Soundtrack'] = pd.NaT\n",
        "df"
      ]
    },
    {
      "cell_type": "markdown",
      "metadata": {
        "id": "dc32vYGnO7f3"
      },
      "source": []
    },
    {
      "cell_type": "markdown",
      "metadata": {
        "id": "19pmsfDXg2Cl"
      },
      "source": [
        "15.2 Make a column that has a category assigned to it if it is above a certain threshold. \n",
        "\n",
        "Rememeber from wine data, you were asked to: Make a column called quality based on if a wine has a rating above 6. Then, count the values!"
      ]
    },
    {
      "cell_type": "markdown",
      "source": [],
      "metadata": {
        "id": "81MQv4AnSE2k"
      }
    },
    {
      "cell_type": "markdown",
      "metadata": {
        "id": "eNWk-QO1g2Cl"
      },
      "source": [
        "### 16. Group By\n",
        "\n",
        "16.1 Group your data by a specific column to give you insight on what your data might be showing. Are there any trends you can explain?"
      ]
    },
    {
      "cell_type": "code",
      "execution_count": null,
      "metadata": {
        "colab": {
          "base_uri": "https://localhost:8080/"
        },
        "id": "MsShLKPfg2Cm",
        "outputId": "3ae7c66b-d72c-49d6-f809-9f332457b0ea"
      },
      "outputs": [
        {
          "name": "stdout",
          "output_type": "stream",
          "text": [
            "                          Unnamed: 0                        Num  \\\n",
            "Metascore                                                         \n",
            "58.0                             243                        244   \n",
            "60.0                             209                        210   \n",
            "62.0                             306                        308   \n",
            "63.0                             344                        346   \n",
            "64.0                             234                        235   \n",
            "65.0                             240                        241   \n",
            "66.0                              40                         41   \n",
            "68.0                             226                        228   \n",
            "69.0                             494                        497   \n",
            "70.0                              89                         90   \n",
            "71.0                             230                        232   \n",
            "72.0                             124                        125   \n",
            "73.0                             135                        136   \n",
            "74.0                             346                        350   \n",
            "75.0                             257                        259   \n",
            "76.0                             377                        379   \n",
            "77.0                             107                        108   \n",
            "78.0                             434                        437   \n",
            "79.0                             143                        144   \n",
            "80.0                             264                        266   \n",
            "81.0                             228                        231   \n",
            "82.0                              13                         15   \n",
            "83.0                              39                         40   \n",
            "85.0                             248                        251   \n",
            "86.0                             553                        557   \n",
            "87.0                             168                        169   \n",
            "88.0                             490                        494   \n",
            "89.0                              69                         70   \n",
            "90.0                             494                        497   \n",
            "91.0                             132                        133   \n",
            "92.0                             207                        209   \n",
            "93.0                             106                        107   \n",
            "94.0                             155                        157   \n",
            "95.0                             196                        197   \n",
            "96.0                             157                        158   \n",
            "100.0                            184                        185   \n",
            "Title      TitleTitleTitleTitleTitle  TitleTitleTitleTitleTitle   \n",
            "\n",
            "                                                       Title  \\\n",
            "Metascore                                                      \n",
            "58.0                                                Big Fish   \n",
            "60.0                                                Dogville   \n",
            "62.0                                  V for VendettaThe Help   \n",
            "63.0       Shutter IslandPirates of the Caribbean: The Cu...   \n",
            "64.0                                           Blood Diamond   \n",
            "65.0                                                Deadpool   \n",
            "66.0                                            The Prestige   \n",
            "68.0                        Requiem for a DreamJurassic Park   \n",
            "69.0                    Inglourious BasterdsLionThe Avengers   \n",
            "70.0                                           Batman Begins   \n",
            "71.0                                    WarriorHacksaw Ridge   \n",
            "72.0                                             Gran Torino   \n",
            "73.0                                           Into the Wild   \n",
            "74.0       InceptionInterstellarHow to Train Your DragonP...   \n",
            "75.0                             The Wolf of Wall StreetRush   \n",
            "76.0              Catch Me If You CanGuardians of the Galaxy   \n",
            "77.0                                                   Logan   \n",
            "78.0             The Dark Knight RisesMonsters, Inc.Zootopia   \n",
            "79.0                                            Hotel Rwanda   \n",
            "80.0                                      MementoThe Martian   \n",
            "81.0       Star Wars: Episode V - The Empire Strikes Back...   \n",
            "82.0                             The Dark KnightForrest Gump   \n",
            "83.0                                           The Lion King   \n",
            "85.0             The PianistThe DepartedThe Bourne Ultimatum   \n",
            "86.0       Back to the FutureRoomMillion Dollar BabySlumd...   \n",
            "87.0            Harry Potter and the Deathly Hallows: Part 2   \n",
            "88.0       The Lord of the Rings: The Two TowersUpThe Gra...   \n",
            "89.0                   Eternal Sunshine of the Spotless Mind   \n",
            "90.0             Finding NemoMad Max: Fury RoadBefore Sunset   \n",
            "91.0                                  No Country for Old Men   \n",
            "92.0                          Toy Story 3There Will Be Blood   \n",
            "93.0                                              La La Land   \n",
            "94.0                                     WALL√Ç¬∑EInside Out   \n",
            "95.0                                    Beauty and the Beast   \n",
            "96.0                                        12 Years a Slave   \n",
            "100.0                                       The Wizard of Oz   \n",
            "Title                              TitleTitleTitleTitleTitle   \n",
            "\n",
            "                                Year                              Released  \\\n",
            "Metascore                                                                    \n",
            "58.0                            2003                              9-Jan-04   \n",
            "60.0                            2003                             23-Apr-04   \n",
            "62.0                            4016                    17-Mar-0610-Aug-11   \n",
            "63.0                            4013                     19-Feb-109-Jul-03   \n",
            "64.0                            2006                              8-Dec-06   \n",
            "65.0                            2016                             12-Feb-16   \n",
            "66.0                            2006                             20-Oct-06   \n",
            "68.0                            3993                    15-Dec-0011-Jun-93   \n",
            "69.0                            6037             21-Aug-096-Jan-174-May-12   \n",
            "70.0                            2005                             15-Jun-05   \n",
            "71.0                            4027                      9-Sep-114-Nov-16   \n",
            "72.0                            2008                              9-Jan-09   \n",
            "73.0                            2007                             19-Oct-07   \n",
            "74.0                            8047   16-Jul-107-Nov-1426-Mar-1020-Sep-13   \n",
            "75.0                            4026                    25-Dec-1327-Sep-13   \n",
            "76.0                            4016                     25-Dec-021-Aug-14   \n",
            "77.0                            2017                              3-Mar-17   \n",
            "78.0                            6029             20-Jul-122-Nov-014-Mar-16   \n",
            "79.0                            2004                              4-Feb-05   \n",
            "80.0                            4015                     25-May-012-Oct-15   \n",
            "81.0                            6007           20-Jun-8025-Dec-1218-Dec-15   \n",
            "82.0                            4002                     18-Jul-086-Jul-94   \n",
            "83.0                            1994                             24-Jun-94   \n",
            "85.0                            6015             28-Mar-036-Oct-063-Aug-07   \n",
            "86.0                            8012   3-Jul-8522-Jan-1628-Jan-0525-Dec-08   \n",
            "87.0                            2011                             15-Jul-11   \n",
            "88.0                            8035  18-Dec-0229-May-0928-Mar-1425-Dec-10   \n",
            "89.0                            2004                             19-Mar-04   \n",
            "90.0                            6022           30-May-0315-May-1530-Jul-04   \n",
            "91.0                            2007                             21-Nov-07   \n",
            "92.0                            4017                    18-Jun-1025-Jan-08   \n",
            "93.0                            2016                             25-Dec-16   \n",
            "94.0                            4023                    27-Jun-0819-Jun-15   \n",
            "95.0                            1991                             22-Nov-91   \n",
            "96.0                            2013                              8-Nov-13   \n",
            "100.0                           1939                             25-Aug-39   \n",
            "Title      TitleTitleTitleTitleTitle             TitleTitleTitleTitleTitle   \n",
            "\n",
            "                                Runtime  \\\n",
            "Metascore                                 \n",
            "58.0                            125 min   \n",
            "60.0                            178 min   \n",
            "62.0                     132 min146 min   \n",
            "63.0                     138 min143 min   \n",
            "64.0                            143 min   \n",
            "65.0                            108 min   \n",
            "66.0                            130 min   \n",
            "68.0                     102 min127 min   \n",
            "69.0              153 min118 min143 min   \n",
            "70.0                            140 min   \n",
            "71.0                     140 min139 min   \n",
            "72.0                            116 min   \n",
            "73.0                            148 min   \n",
            "74.0        148 min169 min98 min153 min   \n",
            "75.0                     180 min123 min   \n",
            "76.0                     141 min121 min   \n",
            "77.0                            137 min   \n",
            "78.0               164 min92 min108 min   \n",
            "79.0                            121 min   \n",
            "80.0                     113 min144 min   \n",
            "81.0              124 min165 min136 min   \n",
            "82.0                     152 min142 min   \n",
            "83.0                             88 min   \n",
            "85.0              150 min151 min115 min   \n",
            "86.0       116 min118 min132 min120 min   \n",
            "87.0                            130 min   \n",
            "88.0         179 min96 min99 min118 min   \n",
            "89.0                            108 min   \n",
            "90.0               100 min120 min80 min   \n",
            "91.0                            122 min   \n",
            "92.0                     103 min158 min   \n",
            "93.0                            128 min   \n",
            "94.0                       98 min95 min   \n",
            "95.0                             84 min   \n",
            "96.0                            134 min   \n",
            "100.0                           102 min   \n",
            "Title         TitleTitleTitleTitleTitle   \n",
            "\n",
            "                                                       Genre  \\\n",
            "Metascore                                                      \n",
            "58.0                               Adventure, Drama, Fantasy   \n",
            "60.0                                            Crime, Drama   \n",
            "62.0                            Action, Drama, ThrillerDrama   \n",
            "63.0             Mystery, ThrillerAction, Adventure, Fantasy   \n",
            "64.0                              Adventure, Drama, Thriller   \n",
            "65.0                               Action, Adventure, Comedy   \n",
            "66.0                                  Drama, Mystery, Sci-Fi   \n",
            "68.0                        DramaAdventure, Sci-Fi, Thriller   \n",
            "69.0       Adventure, Drama, WarBiography, DramaAction, S...   \n",
            "70.0                                       Action, Adventure   \n",
            "71.0           Action, Drama, SportBiography, Drama, History   \n",
            "72.0                                                   Drama   \n",
            "73.0                             Adventure, Biography, Drama   \n",
            "74.0       Action, Adventure, Sci-FiAdventure, Drama, Sci...   \n",
            "75.0        Biography, Comedy, CrimeAction, Biography, Drama   \n",
            "76.0        Biography, Crime, DramaAction, Adventure, Sci-Fi   \n",
            "77.0                                   Action, Drama, Sci-Fi   \n",
            "78.0       Action, ThrillerAnimation, Adventure, ComedyAn...   \n",
            "79.0                               Biography, Drama, History   \n",
            "80.0               Mystery, ThrillerAdventure, Drama, Sci-Fi   \n",
            "81.0       Action, Adventure, FantasyDrama, WesternAction...   \n",
            "82.0              Action, Crime, DramaComedy, Drama, Romance   \n",
            "83.0                             Animation, Adventure, Drama   \n",
            "85.0       Biography, Drama, MusicCrime, Drama, ThrillerA...   \n",
            "86.0         Adventure, Comedy, Sci-FiDramaDrama, SportDrama   \n",
            "87.0                               Adventure, Drama, Fantasy   \n",
            "88.0       Adventure, Drama, FantasyAnimation, Adventure,...   \n",
            "89.0                                  Drama, Romance, Sci-Fi   \n",
            "90.0       Animation, Adventure, ComedyAction, Adventure,...   \n",
            "91.0                                  Crime, Drama, Thriller   \n",
            "92.0              Animation, Adventure, ComedyDrama, History   \n",
            "93.0                                    Comedy, Drama, Music   \n",
            "94.0       Animation, Adventure, FamilyAnimation, Adventu...   \n",
            "95.0                              Animation, Family, Fantasy   \n",
            "96.0                               Biography, Drama, History   \n",
            "100.0                             Adventure, Family, Fantasy   \n",
            "Title                              TitleTitleTitleTitleTitle   \n",
            "\n",
            "                                                    Director  \\\n",
            "Metascore                                                      \n",
            "58.0                                              Tim Burton   \n",
            "60.0                                          Lars von Trier   \n",
            "62.0                               James McTeigueTate Taylor   \n",
            "63.0                           Martin ScorseseGore Verbinski   \n",
            "64.0                                            Edward Zwick   \n",
            "65.0                                              Tim Miller   \n",
            "66.0                                       Christopher Nolan   \n",
            "68.0                        Darren AronofskySteven Spielberg   \n",
            "69.0       Quentin Tarantino, Eli RothGarth DavisJoss Whedon   \n",
            "70.0                                       Christopher Nolan   \n",
            "71.0                                Gavin O'ConnorMel Gibson   \n",
            "72.0                                          Clint Eastwood   \n",
            "73.0                                               Sean Penn   \n",
            "74.0       Christopher NolanChristopher NolanDean DeBlois...   \n",
            "75.0                               Martin ScorseseRon Howard   \n",
            "76.0                              Steven SpielbergJames Gunn   \n",
            "77.0                                           James Mangold   \n",
            "78.0       Christopher NolanPete Docter, David Silverman,...   \n",
            "79.0                                            Terry George   \n",
            "80.0                           Christopher NolanRidley Scott   \n",
            "81.0              Irvin KershnerQuentin TarantinoJ.J. Abrams   \n",
            "82.0                        Christopher NolanRobert Zemeckis   \n",
            "83.0                               Roger Allers, Rob Minkoff   \n",
            "85.0            Roman PolanskiMartin ScorsesePaul Greengrass   \n",
            "86.0       Robert ZemeckisLenny AbrahamsonClint EastwoodD...   \n",
            "87.0                                             David Yates   \n",
            "88.0       Peter JacksonPete Docter, Bob PetersonWes Ande...   \n",
            "89.0                                           Michel Gondry   \n",
            "90.0       Andrew Stanton, Lee UnkrichGeorge MillerRichar...   \n",
            "91.0                                   Ethan Coen, Joel Coen   \n",
            "92.0                         Lee UnkrichPaul Thomas Anderson   \n",
            "93.0                                         Damien Chazelle   \n",
            "94.0            Andrew StantonPete Docter, Ronnie Del Carmen   \n",
            "95.0                               Gary Trousdale, Kirk Wise   \n",
            "96.0                                           Steve McQueen   \n",
            "100.0      Victor Fleming, George Cukor, Mervyn LeRoy, No...   \n",
            "Title                              TitleTitleTitleTitleTitle   \n",
            "\n",
            "                                                      Writer  \\\n",
            "Metascore                                                      \n",
            "58.0        Daniel Wallace (novel), John August (screenplay)   \n",
            "60.0                                          Lars von Trier   \n",
            "62.0       Lilly Wachowski (screenplay), Lana Wachowski (...   \n",
            "63.0       Laeta Kalogridis (screenplay), Dennis Lehane (...   \n",
            "64.0       Charles Leavitt (screenplay), Charles Leavitt ...   \n",
            "65.0                               Rhett Reese, Paul Wernick   \n",
            "66.0       Jonathan Nolan (screenplay), Christopher Nolan...   \n",
            "68.0       Hubert Selby Jr. (based on the book by), Huber...   \n",
            "69.0       Quentin TarantinoSaroo Brierley (adapted from ...   \n",
            "70.0       Bob Kane (characters), David S. Goyer (story),...   \n",
            "71.0       Gavin O'Connor (screenplay), Anthony Tambakis ...   \n",
            "72.0       Nick Schenk (screenplay), Dave Johannson (stor...   \n",
            "73.0             Sean Penn (screenplay), Jon Krakauer (book)   \n",
            "74.0       Christopher NolanJonathan Nolan, Christopher N...   \n",
            "75.0       Terence Winter (screenplay), Jordan Belfort (b...   \n",
            "76.0       Jeff Nathanson (screenplay), Frank Abagnale Jr...   \n",
            "77.0       James Mangold (story by), Scott Frank (screenp...   \n",
            "78.0       Jonathan Nolan (screenplay), Christopher Nolan...   \n",
            "79.0                              Keir Pearson, Terry George   \n",
            "80.0       Christopher Nolan (screenplay), Jonathan Nolan...   \n",
            "81.0       Leigh Brackett (screenplay), Lawrence Kasdan (...   \n",
            "82.0       Jonathan Nolan (screenplay), Christopher Nolan...   \n",
            "83.0       Irene Mecchi (screenplay), Jonathan Roberts (s...   \n",
            "85.0       Ronald Harwood (screenplay), Wladyslaw Szpilma...   \n",
            "86.0       Robert Zemeckis, Bob GaleEmma Donoghue (screen...   \n",
            "87.0         Steve Kloves (screenplay), J.K. Rowling (novel)   \n",
            "88.0       J.R.R. Tolkien (novel), Fran Walsh (screenplay...   \n",
            "89.0       Charlie Kaufman (story), Michel Gondry (story)...   \n",
            "90.0       Andrew Stanton (original story by), Andrew Sta...   \n",
            "91.0       Joel Coen (screenplay), Ethan Coen (screenplay...   \n",
            "92.0       John Lasseter (story by), Andrew Stanton (stor...   \n",
            "93.0                                         Damien Chazelle   \n",
            "94.0       Andrew Stanton (original story by), Pete Docte...   \n",
            "95.0       Linda Woolverton (animation screenplay by), Br...   \n",
            "96.0       John Ridley (screenplay), Solomon Northup (bas...   \n",
            "100.0      Noel Langley (screenplay), Florence Ryerson (s...   \n",
            "Title                              TitleTitleTitleTitleTitle   \n",
            "\n",
            "                                                      Actors  ...  \\\n",
            "Metascore                                                     ...   \n",
            "58.0       Ewan McGregor, Albert Finney, Billy Crudup, Je...  ...   \n",
            "60.0       Nicole Kidman, Harriet Andersson, Lauren Bacal...  ...   \n",
            "62.0       Natalie Portman, Hugo Weaving, Stephen Rea, St...  ...   \n",
            "63.0       Leonardo DiCaprio, Mark Ruffalo, Ben Kingsley,...  ...   \n",
            "64.0       Leonardo DiCaprio, Djimon Hounsou, Jennifer Co...  ...   \n",
            "65.0       Ryan Reynolds, Karan Soni, Ed Skrein, Michael ...  ...   \n",
            "66.0       Hugh Jackman, Christian Bale, Michael Caine, P...  ...   \n",
            "68.0       Ellen Burstyn, Jared Leto, Jennifer Connelly, ...  ...   \n",
            "69.0       Brad Pitt, M√É¬©lanie Laurent, Christoph Waltz...  ...   \n",
            "70.0       Christian Bale, Michael Caine, Liam Neeson, Ka...  ...   \n",
            "71.0       Joel Edgerton, Tom Hardy, Nick Nolte, Jennifer...  ...   \n",
            "72.0       Clint Eastwood, Christopher Carley, Bee Vang, ...  ...   \n",
            "73.0       Emile Hirsch, Marcia Gay Harden, William Hurt,...  ...   \n",
            "74.0       Leonardo DiCaprio, Joseph Gordon-Levitt, Ellen...  ...   \n",
            "75.0       Leonardo DiCaprio, Jonah Hill, Margot Robbie, ...  ...   \n",
            "76.0       Leonardo DiCaprio, Tom Hanks, Christopher Walk...  ...   \n",
            "77.0       Hugh Jackman, Patrick Stewart, Dafne Keen, Boy...  ...   \n",
            "78.0       Christian Bale, Gary Oldman, Tom Hardy, Joseph...  ...   \n",
            "79.0       Don Cheadle, Xolani Mali, Desmond Dube, Hakeem...  ...   \n",
            "80.0       Guy Pearce, Carrie-Anne Moss, Joe Pantoliano, ...  ...   \n",
            "81.0       Mark Hamill, Harrison Ford, Carrie Fisher, Bil...  ...   \n",
            "82.0       Christian Bale, Heath Ledger, Aaron Eckhart, M...  ...   \n",
            "83.0       Rowan Atkinson, Matthew Broderick, Niketa Cala...  ...   \n",
            "85.0       Adrien Brody, Emilia Fox, Michal Zebrowski, Ed...  ...   \n",
            "86.0       Michael J. Fox, Christopher Lloyd, Lea Thompso...  ...   \n",
            "87.0       Ralph Fiennes, Michael Gambon, Alan Rickman, D...  ...   \n",
            "88.0       Bruce Allpress, Sean Astin, John Bach, Sala Ba...  ...   \n",
            "89.0       Jim Carrey, Kate Winslet, Gerry Robert Byrne, ...  ...   \n",
            "90.0       Albert Brooks, Ellen DeGeneres, Alexander Goul...  ...   \n",
            "91.0       Tommy Lee Jones, Javier Bardem, Josh Brolin, W...  ...   \n",
            "92.0       Tom Hanks, Tim Allen, Joan Cusack, Ned BeattyD...  ...   \n",
            "93.0       Ryan Gosling, Emma Stone, Ami√É¬©e Conn, Terry...  ...   \n",
            "94.0       Ben Burtt, Elissa Knight, Jeff Garlin, Fred Wi...  ...   \n",
            "95.0       Robby Benson, Jesse Corti, Rex Everhart, Angel...  ...   \n",
            "96.0       Chiwetel Ejiofor, Dwight Henry, Dickie Gravois...  ...   \n",
            "100.0      Judy Garland, Frank Morgan, Ray Bolger, Bert Lahr  ...   \n",
            "Title                              TitleTitleTitleTitleTitle  ...   \n",
            "\n",
            "                                                     Country  \\\n",
            "Metascore                                                      \n",
            "58.0                                                     USA   \n",
            "60.0       Netherlands, Denmark, UK, France, Finland, Swe...   \n",
            "62.0        USA, UK, GermanyUSA, India, United Arab Emirates   \n",
            "63.0                                                  USAUSA   \n",
            "64.0                                            Germany, USA   \n",
            "65.0                                                     USA   \n",
            "66.0                                                 USA, UK   \n",
            "68.0                                                  USAUSA   \n",
            "69.0                       USA, GermanyUK, Australia, USAUSA   \n",
            "70.0                                                 USA, UK   \n",
            "71.0                                       USAAustralia, USA   \n",
            "72.0                                            Germany, USA   \n",
            "73.0                                                     USA   \n",
            "74.0                   USA, UKUSA, UK, Canada, IcelandUSAUSA   \n",
            "75.0                                     USAUK, Germany, USA   \n",
            "76.0                                      USA, CanadaUSA, UK   \n",
            "77.0                                  USA, Canada, Australia   \n",
            "78.0                                           UK, USAUSAUSA   \n",
            "79.0                                 UK, South Africa, Italy   \n",
            "80.0                                              USAUSA, UK   \n",
            "81.0                                               USAUSAUSA   \n",
            "82.0                                              USA, UKUSA   \n",
            "83.0                                                     USA   \n",
            "85.0       France, Poland, Germany, UKUSA, Hong KongUSA, ...   \n",
            "86.0           USAIreland, Canada, UK, USAUSAUK, France, USA   \n",
            "87.0                                                 USA, UK   \n",
            "88.0       USA, New ZealandUSAUSA, GermanyUK, USA, Australia   \n",
            "89.0                                                     USA   \n",
            "90.0                                    USAAustralia, USAUSA   \n",
            "91.0                                                     USA   \n",
            "92.0                                                  USAUSA   \n",
            "93.0                                                     USA   \n",
            "94.0                                                  USAUSA   \n",
            "95.0                                                     USA   \n",
            "96.0                                                 USA, UK   \n",
            "100.0                                                    USA   \n",
            "Title                              TitleTitleTitleTitleTitle   \n",
            "\n",
            "                                                      Awards  \\\n",
            "Metascore                                                      \n",
            "58.0       Nominated for 1 Oscar. Another 1 win & 68 nomi...   \n",
            "60.0                               20 wins & 30 nominations.   \n",
            "62.0       7 wins & 27 nominations.Won 1 Oscar. Another 7...   \n",
            "63.0       8 wins & 62 nominations.Nominated for 5 Oscars...   \n",
            "64.0       Nominated for 5 Oscars. Another 8 wins & 26 no...   \n",
            "65.0       Nominated for 2 Golden Globes. Another 23 wins...   \n",
            "66.0       Nominated for 2 Oscars. Another 5 wins & 36 no...   \n",
            "68.0       Nominated for 1 Oscar. Another 33 wins & 62 no...   \n",
            "69.0       Won 1 Oscar. Another 129 wins & 165 nomination...   \n",
            "70.0       Nominated for 1 Oscar. Another 14 wins & 71 no...   \n",
            "71.0       Nominated for 1 Oscar. Another 6 wins & 20 nom...   \n",
            "72.0       Nominated for 1 Golden Globe. Another 20 wins ...   \n",
            "73.0       Nominated for 2 Oscars. Another 23 wins & 99 n...   \n",
            "74.0       Won 4 Oscars. Another 150 wins & 203 nominatio...   \n",
            "75.0       Nominated for 5 Oscars. Another 38 wins & 165 ...   \n",
            "76.0       Nominated for 2 Oscars. Another 13 wins & 41 n...   \n",
            "77.0                                  1 win & 2 nominations.   \n",
            "78.0       Nominated for 1 BAFTA Film Award. Another 38 w...   \n",
            "79.0       Nominated for 3 Oscars. Another 16 wins & 45 n...   \n",
            "80.0       Nominated for 2 Oscars. Another 55 wins & 55 n...   \n",
            "81.0       Won 1 Oscar. Another 21 wins & 19 nominations....   \n",
            "82.0       Won 2 Oscars. Another 151 wins & 153 nominatio...   \n",
            "83.0         Won 2 Oscars. Another 33 wins & 30 nominations.   \n",
            "85.0       Won 3 Oscars. Another 51 wins & 72 nominations...   \n",
            "86.0       Won 1 Oscar. Another 18 wins & 26 nominations....   \n",
            "87.0       Nominated for 3 Oscars. Another 45 wins & 92 n...   \n",
            "88.0       Won 2 Oscars. Another 118 wins & 138 nominatio...   \n",
            "89.0         Won 1 Oscar. Another 70 wins & 109 nominations.   \n",
            "90.0       Won 1 Oscar. Another 49 wins & 64 nominations....   \n",
            "91.0       Won 4 Oscars. Another 156 wins & 132 nominations.   \n",
            "92.0       Won 2 Oscars. Another 59 wins & 91 nominations...   \n",
            "93.0       Won 6 Oscars. Another 197 wins & 243 nominations.   \n",
            "94.0       Won 1 Oscar. Another 90 wins & 90 nominations....   \n",
            "95.0         Won 2 Oscars. Another 24 wins & 22 nominations.   \n",
            "96.0       Won 3 Oscars. Another 235 wins & 326 nominations.   \n",
            "100.0         Won 2 Oscars. Another 7 wins & 14 nominations.   \n",
            "Title                              TitleTitleTitleTitleTitle   \n",
            "\n",
            "                          imdbRating                         imdbVotes  \\\n",
            "Metascore                                                                \n",
            "58.0                             8.0                           364,938   \n",
            "60.0                             8.0                           113,851   \n",
            "62.0                            16.3                    849,623344,326   \n",
            "63.0                            16.1                    862,078869,710   \n",
            "64.0                             8.0                           424,781   \n",
            "65.0                             8.0                           644,281   \n",
            "66.0                             8.5                           922,672   \n",
            "68.0                            16.5                    618,232670,652   \n",
            "69.0                            24.5           969,927113,2961,051,143   \n",
            "70.0                             8.3                         1,053,569   \n",
            "71.0                            16.4                    358,261221,901   \n",
            "72.0                             8.2                           598,907   \n",
            "73.0                             8.1                           461,312   \n",
            "74.0                            33.6  1,592,3061,057,411528,657436,571   \n",
            "75.0                            16.3                    874,371341,336   \n",
            "76.0                            16.2                    592,039768,444   \n",
            "77.0                             8.3                           316,354   \n",
            "78.0                            24.7           1,228,378639,101304,299   \n",
            "79.0                             8.1                           282,079   \n",
            "80.0                            16.5                    909,341560,864   \n",
            "81.0                            25.3           910,6081,047,465665,521   \n",
            "82.0                            17.8                1,802,3511,365,937   \n",
            "83.0                             8.5                           707,806   \n",
            "85.0                            25.1             547,383943,314527,907   \n",
            "86.0                            32.8      798,211226,372519,405679,975   \n",
            "87.0                             8.1                           594,362   \n",
            "88.0                            33.1    1,188,300727,405537,323537,662   \n",
            "89.0                             8.3                           720,117   \n",
            "90.0                            24.2             756,517638,510179,650   \n",
            "91.0                             8.1                           666,081   \n",
            "92.0                            16.4                    589,975402,281   \n",
            "93.0                             8.2                           272,059   \n",
            "94.0                            16.6                    782,275421,211   \n",
            "95.0                             8.0                           336,430   \n",
            "96.0                             8.1                           490,387   \n",
            "100.0                            8.1                           311,697   \n",
            "Title      TitleTitleTitleTitleTitle         TitleTitleTitleTitleTitle   \n",
            "\n",
            "                                         imdbID                       Type  \\\n",
            "Metascore                                                                    \n",
            "58.0                                  tt0319061                      movie   \n",
            "60.0                                  tt0276919                      movie   \n",
            "62.0                         tt0434409tt1454029                 moviemovie   \n",
            "63.0                         tt1130884tt0325980                 moviemovie   \n",
            "64.0                                  tt0450259                      movie   \n",
            "65.0                                  tt1431045                      movie   \n",
            "66.0                                  tt0482571                      movie   \n",
            "68.0                         tt0180093tt0107290                 moviemovie   \n",
            "69.0                tt0361748tt3741834tt0848228            moviemoviemovie   \n",
            "70.0                                  tt0372784                      movie   \n",
            "71.0                         tt1291584tt2119532                 moviemovie   \n",
            "72.0                                  tt1205489                      movie   \n",
            "73.0                                  tt0758758                      movie   \n",
            "74.0       tt1375666tt0816692tt0892769tt1392214       moviemoviemoviemovie   \n",
            "75.0                         tt0993846tt1979320                 moviemovie   \n",
            "76.0                         tt0264464tt2015381                 moviemovie   \n",
            "77.0                                  tt3315342                      movie   \n",
            "78.0                tt1345836tt0198781tt2948356            moviemoviemovie   \n",
            "79.0                                  tt0395169                      movie   \n",
            "80.0                         tt0209144tt3659388                 moviemovie   \n",
            "81.0                tt0080684tt1853728tt2488496            moviemoviemovie   \n",
            "82.0                         tt0468569tt0109830                 moviemovie   \n",
            "83.0                                  tt0110357                      movie   \n",
            "85.0                tt0253474tt0407887tt0440963            moviemoviemovie   \n",
            "86.0       tt0088763tt3170832tt0405159tt1010048       moviemoviemoviemovie   \n",
            "87.0                                  tt1201607                      movie   \n",
            "88.0       tt0167261tt1049413tt2278388tt1504320       moviemoviemoviemovie   \n",
            "89.0                                  tt0338013                      movie   \n",
            "90.0                tt0266543tt1392190tt0381681            moviemoviemovie   \n",
            "91.0                                  tt0477348                      movie   \n",
            "92.0                         tt0435761tt0469494                 moviemovie   \n",
            "93.0                                  tt3783958                      movie   \n",
            "94.0                         tt0910970tt2096673                 moviemovie   \n",
            "95.0                                  tt0101414                      movie   \n",
            "96.0                                  tt2024544                      movie   \n",
            "100.0                                 tt0032138                      movie   \n",
            "Title                 TitleTitleTitleTitleTitle  TitleTitleTitleTitleTitle   \n",
            "\n",
            "                                            DVD  \\\n",
            "Metascore                                         \n",
            "58.0                                  27-Apr-04   \n",
            "60.0                                  24-Aug-04   \n",
            "62.0                           1-Aug-066-Dec-11   \n",
            "63.0                           8-Jun-102-Dec-03   \n",
            "64.0                                  20-Mar-07   \n",
            "65.0                                  10-May-16   \n",
            "66.0                                  20-Feb-07   \n",
            "68.0                         22-May-0110-Oct-00   \n",
            "69.0                15-Dec-0911-Apr-1725-Sep-12   \n",
            "70.0                                  18-Oct-05   \n",
            "71.0                         20-Dec-1121-Feb-17   \n",
            "72.0                                   9-Jun-09   \n",
            "73.0                                   4-Mar-08   \n",
            "74.0        7-Dec-1031-Mar-1515-Oct-1017-Dec-13   \n",
            "75.0                         25-Mar-1428-Jan-14   \n",
            "76.0                           6-May-039-Dec-14   \n",
            "77.0                                  23-May-17   \n",
            "78.0                  3-Dec-1219-Feb-137-Jun-16   \n",
            "79.0                                  12-Apr-05   \n",
            "80.0                          4-Sep-0112-Jan-16   \n",
            "81.0                 21-Sep-0416-Apr-135-Apr-16   \n",
            "82.0                          9-Dec-0828-Aug-01   \n",
            "83.0                                   7-Oct-03   \n",
            "85.0                27-May-0313-Feb-0711-Dec-07   \n",
            "86.0        17-Dec-021-Mar-1612-Jul-0531-Mar-09   \n",
            "87.0                                  11-Nov-11   \n",
            "88.0       26-Aug-0310-Nov-0917-Jun-1419-Apr-11   \n",
            "89.0                                  28-Sep-04   \n",
            "90.0                   7-May-131-Sep-159-Nov-04   \n",
            "91.0                                   7-Apr-09   \n",
            "92.0                           2-Nov-108-Apr-08   \n",
            "93.0                                  25-Apr-17   \n",
            "94.0                          18-Nov-083-Nov-15   \n",
            "95.0                                   8-Oct-02   \n",
            "96.0                                   4-Mar-14   \n",
            "100.0                                 19-Oct-99   \n",
            "Title                 TitleTitleTitleTitleTitle   \n",
            "\n",
            "                                                   BoxOffice  \\\n",
            "Metascore                                                      \n",
            "58.0                                            $66,257,002    \n",
            "60.0                                             $1,498,177    \n",
            "62.0                               $70,500,000 $169,705,587    \n",
            "63.0                              $125,001,000 $305,343,252    \n",
            "64.0                                            $57,300,000    \n",
            "65.0                                           $328,674,489    \n",
            "66.0                                            $53,100,000    \n",
            "68.0                                 $2,546,851 $45,299,680    \n",
            "69.0                  $120,523,073 $51,694,854 $623,279,547    \n",
            "70.0                                           $204,100,000    \n",
            "71.0                                $13,600,000 $67,115,062    \n",
            "72.0                                           $148,055,047    \n",
            "73.0                                            $18,173,360    \n",
            "74.0       $292,568,851 $158,737,441 $216,900,000 $60,962...   \n",
            "75.0                                $91,330,760 $22,442,876    \n",
            "76.0                              $164,400,000 $270,592,504    \n",
            "77.0                                           $226,252,579    \n",
            "78.0                  $448,130,642 $34,034,168 $341,264,012    \n",
            "79.0                                            $23,472,900    \n",
            "80.0                               $23,844,220 $202,313,768    \n",
            "81.0                   $4,548,170 $162,804,648 $936,658,640    \n",
            "82.0                                  $533,316,061 $405,000    \n",
            "83.0                                            $94,240,635    \n",
            "85.0                  $32,519,322 $132,300,000 $227,400,000    \n",
            "86.0       $2,925,880 $14,677,654 $100,422,786 $141,243,551    \n",
            "87.0                                           $381,000,185    \n",
            "88.0       $339,700,000 $292,979,556 $56,939,515 $138,300...   \n",
            "89.0                                            $34,126,138    \n",
            "90.0                   $380,529,370 $129,483,877 $5,600,000    \n",
            "91.0                                            $74,223,625    \n",
            "92.0                               $414,984,497 $40,133,435    \n",
            "93.0                                           $151,058,124    \n",
            "94.0                              $223,749,872 $264,317,903    \n",
            "95.0                                            $47,611,331    \n",
            "96.0                                            $50,628,650    \n",
            "100.0                                            $3,840,702    \n",
            "Title                              TitleTitleTitleTitleTitle   \n",
            "\n",
            "                                                  Production  \\\n",
            "Metascore                                                      \n",
            "58.0                                           Sony Pictures   \n",
            "60.0                                        Lions Gate Films   \n",
            "62.0                 Warner Bros. PicturesDreamWorks Studios   \n",
            "63.0                   Paramount StudiosBuena Vista Pictures   \n",
            "64.0                                   Warner Bros. Pictures   \n",
            "65.0                                        20th Century Fox   \n",
            "66.0                                    Buena Vista Pictures   \n",
            "68.0             Artisan EntertainmentUniversal City Studios   \n",
            "69.0       The Weinstein CompanySee-Saw FilmsWalt Disney ...   \n",
            "70.0                                   Warner Bros. Pictures   \n",
            "71.0                           LionsgateSummit Entertainment   \n",
            "72.0                  Warner Bros. Pictures/Village Roadshow   \n",
            "73.0                                       Paramount Vantage   \n",
            "74.0       Warner Bros. PicturesParamount PicturesParamou...   \n",
            "75.0                     Paramount StudiosUniversal Pictures   \n",
            "76.0                      DreamWorks SKGWalt Disney Pictures   \n",
            "77.0                                        20th Century Fox   \n",
            "78.0       Warner Bros. PicturesBuena Vista Distribution ...   \n",
            "79.0                                                     MGM   \n",
            "80.0                         Newmarket Films20th Century Fox   \n",
            "81.0       Twentieth Century FoxThe Weinstein Co.Walt Dis...   \n",
            "82.0       Warner Bros. Pictures/LegendaryParamount Pictures   \n",
            "83.0                                             Buena Vista   \n",
            "85.0       Focus FeaturesWarner Bros. PicturesUniversal P...   \n",
            "86.0       Universal PicturesElement PicturesWarner Bros....   \n",
            "87.0                                   Warner Bros. Pictures   \n",
            "88.0       New Line CinemaWalt Disney PicturesFox Searchl...   \n",
            "89.0                                          Focus Features   \n",
            "90.0       Walt Disney PicturesWarner Bros.Warner Indepen...   \n",
            "91.0                                           Miramax Films   \n",
            "92.0                   Walt Disney PicturesParamount Vantage   \n",
            "93.0                                          Liongate Films   \n",
            "94.0                        Walt Disney PicturesDisney/Pixar   \n",
            "95.0                                             Buena Vista   \n",
            "96.0                                         Fox Searchlight   \n",
            "100.0                                  Warner Bros. Pictures   \n",
            "Title                              TitleTitleTitleTitleTitle   \n",
            "\n",
            "                                                     Website  \n",
            "Metascore                                                     \n",
            "58.0       http://www.sonypictures.com/movies/bigfish/ind...  \n",
            "60.0                                 http://www.dogville.dk/  \n",
            "62.0       http://vforvendetta.warnerbros.com/http://www....  \n",
            "63.0       http://www.shutterisland.com/http://disney.go....  \n",
            "64.0                       http://www.blooddiamondmovie.com/  \n",
            "65.0                       http://www.foxmovies.com/deadpool  \n",
            "66.0       http://touchstone.movies.go.com/index.html?dli...  \n",
            "68.0       http://www.requiemforadream.comhttp://www.jura...  \n",
            "69.0       http://www.inglouriousbasterds-movie.com/http:...  \n",
            "70.0                            http://www.batmanbegins.com/  \n",
            "71.0       http://www.WarriorFilm.comhttp://www.hacksawri...  \n",
            "72.0                           http://www.thegrantorino.com/  \n",
            "73.0                             http://www.intothewild.com/  \n",
            "74.0       http://inceptionmovie.warnerbros.com/http://ww...  \n",
            "75.0       http://www.thewolfofwallstreet.com/http://www....  \n",
            "76.0       http://www.dreamworks.com/catchthem/jump2.html...  \n",
            "77.0                   http://www.foxmovies.com/movies/logan  \n",
            "78.0       http://www.thedarkknightrises.com/http://disne...  \n",
            "79.0                             http://www.hotelrwanda.com/  \n",
            "80.0        http://www.otnemem.comhttp://TheMartianMovie.com  \n",
            "81.0       http://www.starwars.com/episode-v/http://uncha...  \n",
            "82.0       http://thedarkknight.warnerbros.com/http://www...  \n",
            "83.0                          http://disney.go.com/lionking/  \n",
            "85.0       http://www.thepianistmovie.com/http://www.thed...  \n",
            "86.0       http://www.bttfmovie.com/http://www.lahabitaci...  \n",
            "87.0                             http://www.HarryPotter.com/  \n",
            "88.0       http://www.lordoftherings.net/http://Disney.co...  \n",
            "89.0                         http://www.eternalsunshine.com/  \n",
            "90.0       http://disney.go.com/disneyvideos/animatedfilm...  \n",
            "91.0              http://www.nocountryforoldmen-themovie.com  \n",
            "92.0       http://www.disney.com/ToyStoryhttp://www.there...  \n",
            "93.0                              http://www.lalaland.movie/  \n",
            "94.0       http://www.wall-e.com/https://www.facebook.com...  \n",
            "95.0                 http://www.disney.com/beautyandthebeast  \n",
            "96.0            http://www.foxsearchlight.com/12yearsaslave/  \n",
            "100.0                   http://thewizardofoz.warnerbros.com/  \n",
            "Title                              TitleTitleTitleTitleTitle  \n",
            "\n",
            "[37 rows x 22 columns]\n"
          ]
        }
      ],
      "source": [
        "#first grouping based on \"Metascore\"\n",
        "score = df.groupby(['Metascore']).sum()\n",
        "\n",
        "print(score)\n"
      ]
    },
    {
      "cell_type": "markdown",
      "metadata": {
        "id": "XiDG6CGhg2Cm"
      },
      "source": [
        "16.2 Make a new dataframe that only contains the information after you have grouped your data by a certain category"
      ]
    },
    {
      "cell_type": "code",
      "execution_count": null,
      "metadata": {
        "colab": {
          "base_uri": "https://localhost:8080/"
        },
        "id": "-3MVij81g2Cm",
        "outputId": "43f9305b-42b5-45bb-d246-e7a3481b0531"
      },
      "outputs": [
        {
          "name": "stdout",
          "output_type": "stream",
          "text": [
            "                                                       Unnamed: 0  \\\n",
            "Metascore Genre                                                     \n",
            "58.0      Adventure, Drama, Fantasy                           243   \n",
            "60.0      Crime, Drama                                        209   \n",
            "62.0      Action, Drama, Thriller                             114   \n",
            "          Drama                                               192   \n",
            "63.0      Action, Adventure, Fantasy                          204   \n",
            "...                                                           ...   \n",
            "94.0      Animation, Adventure, Family                         52   \n",
            "95.0      Animation, Family, Fantasy                          196   \n",
            "96.0      Biography, Drama, History                           157   \n",
            "100.0     Adventure, Family, Fantasy                          184   \n",
            "Title     Title                         TitleTitleTitleTitleTitle   \n",
            "\n",
            "                                                              Num  \\\n",
            "Metascore Genre                                                     \n",
            "58.0      Adventure, Drama, Fantasy                           244   \n",
            "60.0      Crime, Drama                                        210   \n",
            "62.0      Action, Drama, Thriller                             115   \n",
            "          Drama                                               193   \n",
            "63.0      Action, Adventure, Fantasy                          205   \n",
            "...                                                           ...   \n",
            "94.0      Animation, Adventure, Family                         53   \n",
            "95.0      Animation, Family, Fantasy                          197   \n",
            "96.0      Biography, Drama, History                           158   \n",
            "100.0     Adventure, Family, Fantasy                          185   \n",
            "Title     Title                         TitleTitleTitleTitleTitle   \n",
            "\n",
            "                                                                                    Title  \\\n",
            "Metascore Genre                                                                             \n",
            "58.0      Adventure, Drama, Fantasy                                              Big Fish   \n",
            "60.0      Crime, Drama                                                           Dogville   \n",
            "62.0      Action, Drama, Thriller                                          V for Vendetta   \n",
            "          Drama                                                                  The Help   \n",
            "63.0      Action, Adventure, Fantasy    Pirates of the Caribbean: The Curse of the Bla...   \n",
            "...                                                                                   ...   \n",
            "94.0      Animation, Adventure, Family                                          WALL√Ç¬∑E   \n",
            "95.0      Animation, Family, Fantasy                                 Beauty and the Beast   \n",
            "96.0      Biography, Drama, History                                      12 Years a Slave   \n",
            "100.0     Adventure, Family, Fantasy                                     The Wizard of Oz   \n",
            "Title     Title                                                 TitleTitleTitleTitleTitle   \n",
            "\n",
            "                                                             Year  \\\n",
            "Metascore Genre                                                     \n",
            "58.0      Adventure, Drama, Fantasy                          2003   \n",
            "60.0      Crime, Drama                                       2003   \n",
            "62.0      Action, Drama, Thriller                            2005   \n",
            "          Drama                                              2011   \n",
            "63.0      Action, Adventure, Fantasy                         2003   \n",
            "...                                                           ...   \n",
            "94.0      Animation, Adventure, Family                       2008   \n",
            "95.0      Animation, Family, Fantasy                         1991   \n",
            "96.0      Biography, Drama, History                          2013   \n",
            "100.0     Adventure, Family, Fantasy                         1939   \n",
            "Title     Title                         TitleTitleTitleTitleTitle   \n",
            "\n",
            "                                                         Released  \\\n",
            "Metascore Genre                                                     \n",
            "58.0      Adventure, Drama, Fantasy                      9-Jan-04   \n",
            "60.0      Crime, Drama                                  23-Apr-04   \n",
            "62.0      Action, Drama, Thriller                       17-Mar-06   \n",
            "          Drama                                         10-Aug-11   \n",
            "63.0      Action, Adventure, Fantasy                     9-Jul-03   \n",
            "...                                                           ...   \n",
            "94.0      Animation, Adventure, Family                  27-Jun-08   \n",
            "95.0      Animation, Family, Fantasy                    22-Nov-91   \n",
            "96.0      Biography, Drama, History                      8-Nov-13   \n",
            "100.0     Adventure, Family, Fantasy                    25-Aug-39   \n",
            "Title     Title                         TitleTitleTitleTitleTitle   \n",
            "\n",
            "                                                          Runtime  \\\n",
            "Metascore Genre                                                     \n",
            "58.0      Adventure, Drama, Fantasy                       125 min   \n",
            "60.0      Crime, Drama                                    178 min   \n",
            "62.0      Action, Drama, Thriller                         132 min   \n",
            "          Drama                                           146 min   \n",
            "63.0      Action, Adventure, Fantasy                      143 min   \n",
            "...                                                           ...   \n",
            "94.0      Animation, Adventure, Family                     98 min   \n",
            "95.0      Animation, Family, Fantasy                       84 min   \n",
            "96.0      Biography, Drama, History                       134 min   \n",
            "100.0     Adventure, Family, Fantasy                      102 min   \n",
            "Title     Title                         TitleTitleTitleTitleTitle   \n",
            "\n",
            "                                                                                 Director  \\\n",
            "Metascore Genre                                                                             \n",
            "58.0      Adventure, Drama, Fantasy                                            Tim Burton   \n",
            "60.0      Crime, Drama                                                     Lars von Trier   \n",
            "62.0      Action, Drama, Thriller                                          James McTeigue   \n",
            "          Drama                                                               Tate Taylor   \n",
            "63.0      Action, Adventure, Fantasy                                       Gore Verbinski   \n",
            "...                                                                                   ...   \n",
            "94.0      Animation, Adventure, Family                                     Andrew Stanton   \n",
            "95.0      Animation, Family, Fantasy                            Gary Trousdale, Kirk Wise   \n",
            "96.0      Biography, Drama, History                                         Steve McQueen   \n",
            "100.0     Adventure, Family, Fantasy    Victor Fleming, George Cukor, Mervyn LeRoy, No...   \n",
            "Title     Title                                                 TitleTitleTitleTitleTitle   \n",
            "\n",
            "                                                                                   Writer  \\\n",
            "Metascore Genre                                                                             \n",
            "58.0      Adventure, Drama, Fantasy      Daniel Wallace (novel), John August (screenplay)   \n",
            "60.0      Crime, Drama                                                     Lars von Trier   \n",
            "62.0      Action, Drama, Thriller       Lilly Wachowski (screenplay), Lana Wachowski (...   \n",
            "          Drama                         Tate Taylor (screenplay), Kathryn Stockett (no...   \n",
            "63.0      Action, Adventure, Fantasy    Ted Elliott (screen story), Terry Rossio (scre...   \n",
            "...                                                                                   ...   \n",
            "94.0      Animation, Adventure, Family  Andrew Stanton (original story by), Pete Docte...   \n",
            "95.0      Animation, Family, Fantasy    Linda Woolverton (animation screenplay by), Br...   \n",
            "96.0      Biography, Drama, History     John Ridley (screenplay), Solomon Northup (bas...   \n",
            "100.0     Adventure, Family, Fantasy    Noel Langley (screenplay), Florence Ryerson (s...   \n",
            "Title     Title                                                 TitleTitleTitleTitleTitle   \n",
            "\n",
            "                                                                                   Actors  \\\n",
            "Metascore Genre                                                                             \n",
            "58.0      Adventure, Drama, Fantasy     Ewan McGregor, Albert Finney, Billy Crudup, Je...   \n",
            "60.0      Crime, Drama                  Nicole Kidman, Harriet Andersson, Lauren Bacal...   \n",
            "62.0      Action, Drama, Thriller       Natalie Portman, Hugo Weaving, Stephen Rea, St...   \n",
            "          Drama                         Emma Stone, Viola Davis, Bryce Dallas Howard, ...   \n",
            "63.0      Action, Adventure, Fantasy    Johnny Depp, Geoffrey Rush, Orlando Bloom, Kei...   \n",
            "...                                                                                   ...   \n",
            "94.0      Animation, Adventure, Family  Ben Burtt, Elissa Knight, Jeff Garlin, Fred Wi...   \n",
            "95.0      Animation, Family, Fantasy    Robby Benson, Jesse Corti, Rex Everhart, Angel...   \n",
            "96.0      Biography, Drama, History     Chiwetel Ejiofor, Dwight Henry, Dickie Gravois...   \n",
            "100.0     Adventure, Family, Fantasy    Judy Garland, Frank Morgan, Ray Bolger, Bert Lahr   \n",
            "Title     Title                                                 TitleTitleTitleTitleTitle   \n",
            "\n",
            "                                                                                     Plot  \\\n",
            "Metascore Genre                                                                             \n",
            "58.0      Adventure, Drama, Fantasy     A frustrated son tries to determine the fact f...   \n",
            "60.0      Crime, Drama                  A woman on the run from the mob is reluctantly...   \n",
            "62.0      Action, Drama, Thriller       In a future British tyranny, a shadowy freedom...   \n",
            "          Drama                         An aspiring author during the civil rights mov...   \n",
            "63.0      Action, Adventure, Fantasy    Blacksmith Will Turner teams up with eccentric...   \n",
            "...                                                                                   ...   \n",
            "94.0      Animation, Adventure, Family  In the distant future, a small waste-collectin...   \n",
            "95.0      Animation, Family, Fantasy    A young woman whose father has been imprisoned...   \n",
            "96.0      Biography, Drama, History     In the antebellum United States, Solomon North...   \n",
            "100.0     Adventure, Family, Fantasy    Dorothy Gale is swept away from a farm in Kans...   \n",
            "Title     Title                                                 TitleTitleTitleTitleTitle   \n",
            "\n",
            "                                        ...  \\\n",
            "Metascore Genre                         ...   \n",
            "58.0      Adventure, Drama, Fantasy     ...   \n",
            "60.0      Crime, Drama                  ...   \n",
            "62.0      Action, Drama, Thriller       ...   \n",
            "          Drama                         ...   \n",
            "63.0      Action, Adventure, Fantasy    ...   \n",
            "...                                     ...   \n",
            "94.0      Animation, Adventure, Family  ...   \n",
            "95.0      Animation, Family, Fantasy    ...   \n",
            "96.0      Biography, Drama, History     ...   \n",
            "100.0     Adventure, Family, Fantasy    ...   \n",
            "Title     Title                         ...   \n",
            "\n",
            "                                                                                  Country  \\\n",
            "Metascore Genre                                                                             \n",
            "58.0      Adventure, Drama, Fantasy                                                   USA   \n",
            "60.0      Crime, Drama                  Netherlands, Denmark, UK, France, Finland, Swe...   \n",
            "62.0      Action, Drama, Thriller                                        USA, UK, Germany   \n",
            "          Drama                                          USA, India, United Arab Emirates   \n",
            "63.0      Action, Adventure, Fantasy                                                  USA   \n",
            "...                                                                                   ...   \n",
            "94.0      Animation, Adventure, Family                                                USA   \n",
            "95.0      Animation, Family, Fantasy                                                  USA   \n",
            "96.0      Biography, Drama, History                                               USA, UK   \n",
            "100.0     Adventure, Family, Fantasy                                                  USA   \n",
            "Title     Title                                                 TitleTitleTitleTitleTitle   \n",
            "\n",
            "                                                                                   Awards  \\\n",
            "Metascore Genre                                                                             \n",
            "58.0      Adventure, Drama, Fantasy     Nominated for 1 Oscar. Another 1 win & 68 nomi...   \n",
            "60.0      Crime, Drama                                          20 wins & 30 nominations.   \n",
            "62.0      Action, Drama, Thriller                                7 wins & 27 nominations.   \n",
            "          Drama                           Won 1 Oscar. Another 79 wins & 116 nominations.   \n",
            "63.0      Action, Adventure, Fantasy    Nominated for 5 Oscars. Another 36 wins & 96 n...   \n",
            "...                                                                                   ...   \n",
            "94.0      Animation, Adventure, Family     Won 1 Oscar. Another 90 wins & 90 nominations.   \n",
            "95.0      Animation, Family, Fantasy      Won 2 Oscars. Another 24 wins & 22 nominations.   \n",
            "96.0      Biography, Drama, History     Won 3 Oscars. Another 235 wins & 326 nominations.   \n",
            "100.0     Adventure, Family, Fantasy       Won 2 Oscars. Another 7 wins & 14 nominations.   \n",
            "Title     Title                                                 TitleTitleTitleTitleTitle   \n",
            "\n",
            "                                                       imdbRating  \\\n",
            "Metascore Genre                                                     \n",
            "58.0      Adventure, Drama, Fantasy                           8.0   \n",
            "60.0      Crime, Drama                                        8.0   \n",
            "62.0      Action, Drama, Thriller                             8.2   \n",
            "          Drama                                               8.1   \n",
            "63.0      Action, Adventure, Fantasy                          8.0   \n",
            "...                                                           ...   \n",
            "94.0      Animation, Adventure, Family                        8.4   \n",
            "95.0      Animation, Family, Fantasy                          8.0   \n",
            "96.0      Biography, Drama, History                           8.1   \n",
            "100.0     Adventure, Family, Fantasy                          8.1   \n",
            "Title     Title                         TitleTitleTitleTitleTitle   \n",
            "\n",
            "                                                        imdbVotes  \\\n",
            "Metascore Genre                                                     \n",
            "58.0      Adventure, Drama, Fantasy                       364,938   \n",
            "60.0      Crime, Drama                                    113,851   \n",
            "62.0      Action, Drama, Thriller                         849,623   \n",
            "          Drama                                           344,326   \n",
            "63.0      Action, Adventure, Fantasy                      869,710   \n",
            "...                                                           ...   \n",
            "94.0      Animation, Adventure, Family                    782,275   \n",
            "95.0      Animation, Family, Fantasy                      336,430   \n",
            "96.0      Biography, Drama, History                       490,387   \n",
            "100.0     Adventure, Family, Fantasy                      311,697   \n",
            "Title     Title                         TitleTitleTitleTitleTitle   \n",
            "\n",
            "                                                           imdbID  \\\n",
            "Metascore Genre                                                     \n",
            "58.0      Adventure, Drama, Fantasy                     tt0319061   \n",
            "60.0      Crime, Drama                                  tt0276919   \n",
            "62.0      Action, Drama, Thriller                       tt0434409   \n",
            "          Drama                                         tt1454029   \n",
            "63.0      Action, Adventure, Fantasy                    tt0325980   \n",
            "...                                                           ...   \n",
            "94.0      Animation, Adventure, Family                  tt0910970   \n",
            "95.0      Animation, Family, Fantasy                    tt0101414   \n",
            "96.0      Biography, Drama, History                     tt2024544   \n",
            "100.0     Adventure, Family, Fantasy                    tt0032138   \n",
            "Title     Title                         TitleTitleTitleTitleTitle   \n",
            "\n",
            "                                                             Type  \\\n",
            "Metascore Genre                                                     \n",
            "58.0      Adventure, Drama, Fantasy                         movie   \n",
            "60.0      Crime, Drama                                      movie   \n",
            "62.0      Action, Drama, Thriller                           movie   \n",
            "          Drama                                             movie   \n",
            "63.0      Action, Adventure, Fantasy                        movie   \n",
            "...                                                           ...   \n",
            "94.0      Animation, Adventure, Family                      movie   \n",
            "95.0      Animation, Family, Fantasy                        movie   \n",
            "96.0      Biography, Drama, History                         movie   \n",
            "100.0     Adventure, Family, Fantasy                        movie   \n",
            "Title     Title                         TitleTitleTitleTitleTitle   \n",
            "\n",
            "                                                              DVD  \\\n",
            "Metascore Genre                                                     \n",
            "58.0      Adventure, Drama, Fantasy                     27-Apr-04   \n",
            "60.0      Crime, Drama                                  24-Aug-04   \n",
            "62.0      Action, Drama, Thriller                        1-Aug-06   \n",
            "          Drama                                          6-Dec-11   \n",
            "63.0      Action, Adventure, Fantasy                     2-Dec-03   \n",
            "...                                                           ...   \n",
            "94.0      Animation, Adventure, Family                  18-Nov-08   \n",
            "95.0      Animation, Family, Fantasy                     8-Oct-02   \n",
            "96.0      Biography, Drama, History                      4-Mar-14   \n",
            "100.0     Adventure, Family, Fantasy                    19-Oct-99   \n",
            "Title     Title                         TitleTitleTitleTitleTitle   \n",
            "\n",
            "                                                        BoxOffice  \\\n",
            "Metascore Genre                                                     \n",
            "58.0      Adventure, Drama, Fantasy                  $66,257,002    \n",
            "60.0      Crime, Drama                                $1,498,177    \n",
            "62.0      Action, Drama, Thriller                    $70,500,000    \n",
            "          Drama                                     $169,705,587    \n",
            "63.0      Action, Adventure, Fantasy                $305,343,252    \n",
            "...                                                           ...   \n",
            "94.0      Animation, Adventure, Family              $223,749,872    \n",
            "95.0      Animation, Family, Fantasy                 $47,611,331    \n",
            "96.0      Biography, Drama, History                  $50,628,650    \n",
            "100.0     Adventure, Family, Fantasy                  $3,840,702    \n",
            "Title     Title                         TitleTitleTitleTitleTitle   \n",
            "\n",
            "                                                       Production  \\\n",
            "Metascore Genre                                                     \n",
            "58.0      Adventure, Drama, Fantasy                 Sony Pictures   \n",
            "60.0      Crime, Drama                           Lions Gate Films   \n",
            "62.0      Action, Drama, Thriller           Warner Bros. Pictures   \n",
            "          Drama                                DreamWorks Studios   \n",
            "63.0      Action, Adventure, Fantasy         Buena Vista Pictures   \n",
            "...                                                           ...   \n",
            "94.0      Animation, Adventure, Family       Walt Disney Pictures   \n",
            "95.0      Animation, Family, Fantasy                  Buena Vista   \n",
            "96.0      Biography, Drama, History               Fox Searchlight   \n",
            "100.0     Adventure, Family, Fantasy        Warner Bros. Pictures   \n",
            "Title     Title                         TitleTitleTitleTitleTitle   \n",
            "\n",
            "                                                                                  Website  \n",
            "Metascore Genre                                                                            \n",
            "58.0      Adventure, Drama, Fantasy     http://www.sonypictures.com/movies/bigfish/ind...  \n",
            "60.0      Crime, Drama                                            http://www.dogville.dk/  \n",
            "62.0      Action, Drama, Thriller                     http://vforvendetta.warnerbros.com/  \n",
            "          Drama                                               http://www.thehelpmovie.com  \n",
            "63.0      Action, Adventure, Fantasy    http://disney.go.com/disneyvideos/liveaction/p...  \n",
            "...                                                                                   ...  \n",
            "94.0      Animation, Adventure, Family                             http://www.wall-e.com/  \n",
            "95.0      Animation, Family, Fantasy              http://www.disney.com/beautyandthebeast  \n",
            "96.0      Biography, Drama, History          http://www.foxsearchlight.com/12yearsaslave/  \n",
            "100.0     Adventure, Family, Fantasy                 http://thewizardofoz.warnerbros.com/  \n",
            "Title     Title                                                 TitleTitleTitleTitleTitle  \n",
            "\n",
            "[63 rows x 21 columns]\n"
          ]
        }
      ],
      "source": [
        "df2 = df.groupby(['Metascore', 'Genre']).sum()\n",
        "print(df2)"
      ]
    },
    {
      "cell_type": "markdown",
      "metadata": {
        "id": "z2XtC_6Cg2Cm"
      },
      "source": [
        "### 17. Visualizations\n",
        "\n",
        "17.1 Load matplotlib.pyplot aliased as plt"
      ]
    },
    {
      "cell_type": "code",
      "execution_count": null,
      "metadata": {
        "id": "3n7pIfnqg2Cm"
      },
      "outputs": [],
      "source": [
        "import matplotlib.pyplot as plt"
      ]
    },
    {
      "cell_type": "markdown",
      "metadata": {
        "id": "ZPVpQU4eg2Cm"
      },
      "source": [
        "17.2 Histograms are one of the best ways to understand the distribution of key columns in your dataset. Make a histogram of the column you created in 15.2"
      ]
    },
    {
      "cell_type": "code",
      "execution_count": null,
      "metadata": {
        "id": "1_A8M5ewg2Cn"
      },
      "outputs": [],
      "source": []
    },
    {
      "cell_type": "markdown",
      "metadata": {
        "id": "XS-zoC8Wg2Cn"
      },
      "source": [
        "17.3 A histogram is a bar chart of the count of the instances of the elements in a column of your dataset. Make a bar chart that counts the frequency of the elements in the same column you chose for 16.2"
      ]
    },
    {
      "cell_type": "code",
      "execution_count": null,
      "metadata": {
        "id": "R80fC6Cmg2Cn"
      },
      "outputs": [],
      "source": []
    },
    {
      "cell_type": "markdown",
      "metadata": {
        "id": "HDfzv--mg2Cn"
      },
      "source": [
        "17.4 A box plot is another great way to understand details of a column in your data. Make a boxplot of the same column of your dataset. What can you learn from this chart?"
      ]
    },
    {
      "cell_type": "code",
      "execution_count": null,
      "metadata": {
        "id": "XhnKzmhMg2Cn"
      },
      "outputs": [],
      "source": []
    },
    {
      "cell_type": "markdown",
      "metadata": {
        "id": "1WMyTFiAg2Cn"
      },
      "source": [
        "17.5 Turn your bar chart from 17.3 into a pie chart"
      ]
    },
    {
      "cell_type": "code",
      "execution_count": null,
      "metadata": {
        "id": "M337KmIJg2Cn"
      },
      "outputs": [],
      "source": []
    },
    {
      "cell_type": "markdown",
      "metadata": {
        "id": "f7AISF2Wg2Co"
      },
      "source": [
        "17.6 A scatter plot requires the identification of both values to place on the x and the y axis. It is a great way to visualize the relationship between two variables. Make a scatterplot using two columns in your data"
      ]
    },
    {
      "cell_type": "code",
      "execution_count": null,
      "metadata": {
        "id": "5Wbdj8tTg2Co"
      },
      "outputs": [],
      "source": []
    },
    {
      "cell_type": "markdown",
      "metadata": {
        "id": "CLXRx5-_g2Co"
      },
      "source": [
        "17.7 Add a legend and title to your scatterplot. Change the color of the points on your scatter plot too."
      ]
    },
    {
      "cell_type": "code",
      "execution_count": null,
      "metadata": {
        "id": "5pTWofsJg2Co"
      },
      "outputs": [],
      "source": []
    },
    {
      "cell_type": "markdown",
      "metadata": {
        "id": "IVYOJ3mug2Co"
      },
      "source": [
        "17.8 Return the scatterplot from 17.7 and the pie chart from 16.5 in the same ouput by making a grid. **<font color = 'blue'> Google </font>** it if you need help!"
      ]
    },
    {
      "cell_type": "code",
      "execution_count": null,
      "metadata": {
        "id": "UX13eBdYg2Co"
      },
      "outputs": [],
      "source": []
    }
  ],
  "metadata": {
    "celltoolbar": "Edit Metadata",
    "colab": {
      "collapsed_sections": [
        "r2q6VghYg2Cj",
        "95IyVQYPg2Ck",
        "YZEfAGmIg2Ck",
        "3EXN_wozg2Cl",
        "eNWk-QO1g2Cl",
        "z2XtC_6Cg2Cm"
      ],
      "provenance": [],
      "include_colab_link": true
    },
    "kernelspec": {
      "display_name": "Python 3 (ipykernel)",
      "language": "python",
      "name": "python3"
    },
    "language_info": {
      "codemirror_mode": {
        "name": "ipython",
        "version": 3
      },
      "file_extension": ".py",
      "mimetype": "text/x-python",
      "name": "python",
      "nbconvert_exporter": "python",
      "pygments_lexer": "ipython3",
      "version": "3.9.12"
    }
  },
  "nbformat": 4,
  "nbformat_minor": 0
}